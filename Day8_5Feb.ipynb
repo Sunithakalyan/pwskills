{
 "cells": [
  {
   "cell_type": "markdown",
   "id": "f600a6cb",
   "metadata": {},
   "source": [
    "### OOPS"
   ]
  },
  {
   "cell_type": "code",
   "execution_count": 1,
   "id": "6b0e7181",
   "metadata": {},
   "outputs": [
    {
     "data": {
      "text/plain": [
       "int"
      ]
     },
     "execution_count": 1,
     "metadata": {},
     "output_type": "execute_result"
    }
   ],
   "source": [
    "a=1\n",
    "type(a)"
   ]
  },
  {
   "cell_type": "code",
   "execution_count": 2,
   "id": "b8f58ca1",
   "metadata": {},
   "outputs": [
    {
     "data": {
      "text/plain": [
       "str"
      ]
     },
     "execution_count": 2,
     "metadata": {},
     "output_type": "execute_result"
    }
   ],
   "source": [
    "b=\"pwskills\"\n",
    "type(b)"
   ]
  },
  {
   "cell_type": "code",
   "execution_count": 3,
   "id": "a42d0062",
   "metadata": {},
   "outputs": [],
   "source": [
    "class test:    ## A class will have a meaning only when an object is created.\n",
    "    pass"
   ]
  },
  {
   "cell_type": "code",
   "execution_count": 4,
   "id": "e8cdf6b1",
   "metadata": {},
   "outputs": [],
   "source": [
    "a = test()  ## Object 'a' is created"
   ]
  },
  {
   "cell_type": "code",
   "execution_count": 5,
   "id": "74cd7d67",
   "metadata": {},
   "outputs": [
    {
     "name": "stdout",
     "output_type": "stream",
     "text": [
      "<class '__main__.test'>\n"
     ]
    }
   ],
   "source": [
    "print(type(a))"
   ]
  },
  {
   "cell_type": "code",
   "execution_count": 10,
   "id": "fec4fecc",
   "metadata": {},
   "outputs": [],
   "source": [
    "##                         \n",
    "class pwskills:                                 ## Classname = pwskills\n",
    "    def welcome(self):                          ## Whenever we declare a function inside the class we should give a reference\n",
    "        print(\"Welcome to Pwskills\")                "
   ]
  },
  {
   "cell_type": "code",
   "execution_count": 11,
   "id": "db3705a7",
   "metadata": {},
   "outputs": [],
   "source": [
    "rohan = pwskills()                            ## Object_name= pwskills"
   ]
  },
  {
   "cell_type": "code",
   "execution_count": 12,
   "id": "1ccf4738",
   "metadata": {},
   "outputs": [
    {
     "name": "stdout",
     "output_type": "stream",
     "text": [
      "Welcome to Pwskills\n"
     ]
    }
   ],
   "source": [
    "rohan.welcome()      ## calling the member function\n",
    "                     ## object_name . function_name"
   ]
  },
  {
   "cell_type": "code",
   "execution_count": 13,
   "id": "ef45d97b",
   "metadata": {},
   "outputs": [
    {
     "name": "stdout",
     "output_type": "stream",
     "text": [
      "Welcome to Pwskills\n"
     ]
    }
   ],
   "source": [
    "rahul = pwskills()      ## We can create 'n' number of ojects for the class\n",
    "rahul.welcome()         ## Object_name= rahul"
   ]
  },
  {
   "cell_type": "code",
   "execution_count": 24,
   "id": "087bd9f4",
   "metadata": {},
   "outputs": [],
   "source": [
    "### Example\n",
    "\n",
    "class car:\n",
    "    \n",
    "    def model(self):\n",
    "        print(\"I Love Car\")\n",
    "        \n",
    "              "
   ]
  },
  {
   "cell_type": "code",
   "execution_count": 25,
   "id": "e70c4c88",
   "metadata": {},
   "outputs": [
    {
     "name": "stdout",
     "output_type": "stream",
     "text": [
      "I Love Car\n"
     ]
    }
   ],
   "source": [
    "red = car()   ## Object 'red' is created for class 'car'\n",
    "red.model()   ## Invoking the function through object. "
   ]
  },
  {
   "cell_type": "raw",
   "id": "70479955",
   "metadata": {},
   "source": []
  },
  {
   "cell_type": "code",
   "execution_count": 60,
   "id": "75949adb",
   "metadata": {},
   "outputs": [],
   "source": [
    "###   Passing the values inside the member function\n",
    "\n",
    "## Constructor : It is a method which is called when an object is created.\n",
    "\n",
    "## Pointer = self  is a Pointer refering the class\n",
    "\n",
    "## Double underscore __init__ is used for constructor\n",
    "\n",
    "## Note::: We can use any reference name as an pointer which refers to the class\n",
    "\n",
    "class pwskills1:\n",
    "    \n",
    "    def __init__(self, phone_number, email_id, student_id):    \n",
    "        \n",
    "        self.phone_number = phone_number\n",
    "        self.email_id = email_id\n",
    "        self.student_id = student_id\n",
    "        \n",
    "        \n",
    "    def return_stdinfo(self):\n",
    "        return self.phone_number,self.email_id , self.student_id\n",
    "        "
   ]
  },
  {
   "cell_type": "code",
   "execution_count": 61,
   "id": "85822f5b",
   "metadata": {},
   "outputs": [],
   "source": [
    "subhash = pwskills1(9900407, \"subbu@gmail.com\", 101)"
   ]
  },
  {
   "cell_type": "code",
   "execution_count": 63,
   "id": "6be8481d",
   "metadata": {},
   "outputs": [
    {
     "data": {
      "text/plain": [
       "9900407"
      ]
     },
     "execution_count": 63,
     "metadata": {},
     "output_type": "execute_result"
    }
   ],
   "source": [
    "subhash.phone_number     ## invoking each data through object subhash"
   ]
  },
  {
   "cell_type": "code",
   "execution_count": 65,
   "id": "fa7722b9",
   "metadata": {},
   "outputs": [
    {
     "data": {
      "text/plain": [
       "'subbu@gmail.com'"
      ]
     },
     "execution_count": 65,
     "metadata": {},
     "output_type": "execute_result"
    }
   ],
   "source": [
    "subhash.email_id"
   ]
  },
  {
   "cell_type": "code",
   "execution_count": 66,
   "id": "f750b901",
   "metadata": {},
   "outputs": [
    {
     "data": {
      "text/plain": [
       "101"
      ]
     },
     "execution_count": 66,
     "metadata": {},
     "output_type": "execute_result"
    }
   ],
   "source": [
    "subhash.student_id"
   ]
  },
  {
   "cell_type": "code",
   "execution_count": 67,
   "id": "e83824c3",
   "metadata": {},
   "outputs": [
    {
     "data": {
      "text/plain": [
       "(9900407, 'subbu@gmail.com', 101)"
      ]
     },
     "execution_count": 67,
     "metadata": {},
     "output_type": "execute_result"
    }
   ],
   "source": [
    "subhash.return_stdinfo()     ## Accessing the member function"
   ]
  },
  {
   "cell_type": "code",
   "execution_count": 68,
   "id": "8aeebe7f",
   "metadata": {},
   "outputs": [],
   "source": [
    "### Crearting another object for class pwskills1\n",
    "\n",
    "kalyan = pwskills1(97402977, \"kalyan@gmail.com\", 102)"
   ]
  },
  {
   "cell_type": "code",
   "execution_count": 69,
   "id": "1c292cca",
   "metadata": {},
   "outputs": [
    {
     "data": {
      "text/plain": [
       "97402977"
      ]
     },
     "execution_count": 69,
     "metadata": {},
     "output_type": "execute_result"
    }
   ],
   "source": [
    "kalyan.phone_number"
   ]
  },
  {
   "cell_type": "code",
   "execution_count": 70,
   "id": "09125653",
   "metadata": {},
   "outputs": [
    {
     "data": {
      "text/plain": [
       "'kalyan@gmail.com'"
      ]
     },
     "execution_count": 70,
     "metadata": {},
     "output_type": "execute_result"
    }
   ],
   "source": [
    "kalyan.email_id"
   ]
  },
  {
   "cell_type": "code",
   "execution_count": 71,
   "id": "8f08c07a",
   "metadata": {},
   "outputs": [
    {
     "data": {
      "text/plain": [
       "102"
      ]
     },
     "execution_count": 71,
     "metadata": {},
     "output_type": "execute_result"
    }
   ],
   "source": [
    "kalyan.student_id"
   ]
  },
  {
   "cell_type": "code",
   "execution_count": 72,
   "id": "b2614965",
   "metadata": {},
   "outputs": [
    {
     "data": {
      "text/plain": [
       "(97402977, 'kalyan@gmail.com', 102)"
      ]
     },
     "execution_count": 72,
     "metadata": {},
     "output_type": "execute_result"
    }
   ],
   "source": [
    "kalyan.return_stdinfo()"
   ]
  },
  {
   "cell_type": "code",
   "execution_count": 73,
   "id": "03845196",
   "metadata": {},
   "outputs": [],
   "source": [
    "## EXAMPLE\n",
    "\n",
    "class pwskills2:\n",
    "    \n",
    "    def __init__(subhash,subj1,subj2,subj3,total):\n",
    "        \n",
    "        subhash.subj1 = subj1\n",
    "        subhash.subj2 = subj2\n",
    "        subhash.subj3 = subj3\n",
    "        subhash.total = total\n",
    "        \n",
    "    def return_subjects(subhash):\n",
    "        return subhash.subj1,subhash.subj2,subhash.subj3,subhash.total"
   ]
  },
  {
   "cell_type": "code",
   "execution_count": 75,
   "id": "bb7f19f4",
   "metadata": {},
   "outputs": [],
   "source": [
    "sunitha = pwskills2(\"Biology\",\"Physics\",\"Chemistry\",300)   # Object = 'sunitha\" creation along with parameters passed"
   ]
  },
  {
   "cell_type": "code",
   "execution_count": 76,
   "id": "fbdfb890",
   "metadata": {},
   "outputs": [
    {
     "data": {
      "text/plain": [
       "'Biology'"
      ]
     },
     "execution_count": 76,
     "metadata": {},
     "output_type": "execute_result"
    }
   ],
   "source": [
    "sunitha.subj1     ##Invoking each data through object"
   ]
  },
  {
   "cell_type": "code",
   "execution_count": 77,
   "id": "c04da1fc",
   "metadata": {},
   "outputs": [
    {
     "data": {
      "text/plain": [
       "'Physics'"
      ]
     },
     "execution_count": 77,
     "metadata": {},
     "output_type": "execute_result"
    }
   ],
   "source": [
    "sunitha.subj2"
   ]
  },
  {
   "cell_type": "code",
   "execution_count": 78,
   "id": "f9bc86d3",
   "metadata": {},
   "outputs": [
    {
     "data": {
      "text/plain": [
       "'Chemistry'"
      ]
     },
     "execution_count": 78,
     "metadata": {},
     "output_type": "execute_result"
    }
   ],
   "source": [
    "sunitha.subj3"
   ]
  },
  {
   "cell_type": "code",
   "execution_count": 79,
   "id": "8951168a",
   "metadata": {},
   "outputs": [
    {
     "data": {
      "text/plain": [
       "300"
      ]
     },
     "execution_count": 79,
     "metadata": {},
     "output_type": "execute_result"
    }
   ],
   "source": [
    "sunitha.total"
   ]
  },
  {
   "cell_type": "code",
   "execution_count": 81,
   "id": "21344374",
   "metadata": {},
   "outputs": [
    {
     "data": {
      "text/plain": [
       "('Biology', 'Physics', 'Chemistry', 300)"
      ]
     },
     "execution_count": 81,
     "metadata": {},
     "output_type": "execute_result"
    }
   ],
   "source": [
    "sunitha.return_subjects()   ## Invoking the member function"
   ]
  },
  {
   "cell_type": "code",
   "execution_count": null,
   "id": "1acfd018",
   "metadata": {},
   "outputs": [],
   "source": []
  }
 ],
 "metadata": {
  "kernelspec": {
   "display_name": "Python 3",
   "language": "python",
   "name": "python3"
  },
  "language_info": {
   "codemirror_mode": {
    "name": "ipython",
    "version": 3
   },
   "file_extension": ".py",
   "mimetype": "text/x-python",
   "name": "python",
   "nbconvert_exporter": "python",
   "pygments_lexer": "ipython3",
   "version": "3.8.8"
  }
 },
 "nbformat": 4,
 "nbformat_minor": 5
}
