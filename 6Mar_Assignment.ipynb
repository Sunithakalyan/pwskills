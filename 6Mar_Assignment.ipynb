{
  "nbformat": 4,
  "nbformat_minor": 0,
  "metadata": {
    "colab": {
      "provenance": []
    },
    "kernelspec": {
      "name": "python3",
      "display_name": "Python 3"
    },
    "language_info": {
      "name": "python"
    }
  },
  "cells": [
    {
      "cell_type": "code",
      "execution_count": null,
      "metadata": {
        "id": "EPhDGbU-5swi"
      },
      "outputs": [],
      "source": [
        "## Q1. What is Statistics?"
      ]
    },
    {
      "cell_type": "code",
      "source": [
        "## Statistics is the science of collecting, analyzing, presenting, and interpreting data."
      ],
      "metadata": {
        "id": "VxVozlwY5z80"
      },
      "execution_count": null,
      "outputs": []
    },
    {
      "cell_type": "code",
      "source": [
        "## Q2. Define the different types of statistics and give an example of when each type might be used."
      ],
      "metadata": {
        "id": "XG8X0n6_6fl0"
      },
      "execution_count": null,
      "outputs": []
    },
    {
      "cell_type": "code",
      "source": [
        "## There are 2 types of Statistics. a. Descriptive Statistics and b. Inferential Statistics\n",
        "\n",
        " # a) DESCRITIVE STATISTICS: It consists of organizing and Summarizing the data.That is the data which is collected is summarized and take out some information from data.\n",
        "   # It can be either a representation of the entire population or a sample of a population.\n",
        "   # Descriptive statistics are broken down into Measures of Central Tendency and Measures of Variability.\n",
        "      # Measures of Central Tendency include the Mean, Median, and Mode, while \n",
        "      # Measures of Variability include Standard deviation, variance, minimum and maximum variables.\n",
        "      # Tools for Descriptive Stats are Histogram, Barcharts and Pie Charts. we can understand the distribution of the data.\n",
        "\n",
        "  # Descriptive Question:: What is the average height of the students in the class.\n",
        "    # Ans. For this we take Mean, Median \n",
        "\n",
        " # b) INFERENTIAL STATISTICS: Here we have the measurements to form conclusions.inferential statistics allows you to make predictions (“inferences”) from that data. \n",
        "   # With inferential statistics, we take data from samples and make generalizations about a population.\n",
        "   # For Conclusions we take X-Test and T-Test.\n",
        "   # Here we use Hypothesis Testing, P-Value Significance. It is used in Medical, Health Care etc., to make decisions.\n",
        "\n",
        "  # Inferential Question: Are the height of the students in the classroom is similar to what you expect in the class.\n",
        "    # Ans. For this we take the sample = Average height of the students from the Population = University and take conclusions."
      ],
      "metadata": {
        "id": "xhGLV7E96g9I"
      },
      "execution_count": null,
      "outputs": []
    },
    {
      "cell_type": "code",
      "source": [
        "## Q3. What are the different types of data and how do they differ from each other? Provide an example of each type of data.\n",
        "\n",
        "#Ans: Data:  Facts or numbers, collected to be examined and considered and used to help decision-making\n",
        "  # Types of data: A) Quantitaive and B) Qualitative\n",
        "\n",
        "  # QUANTITAIVE :Quantitative data is data that can be counted or measured in numerical values. \n",
        "       # The two main types of quantitative data are discrete data and continuous data. \n",
        "           # Continous Data: It may have any kind of range.Ex: Height, weight, Temperature, Age in Months or Years, Revenue in dollars\n",
        "           # Descrete Data: It consists of whole numbers with a specific range. Ex: Number of Bank Accounts, Number of children.\n",
        "\n",
        "  # QUALITATIVE: Qualitative data deals with the categorical data.\n",
        "       # The two main types of Qualitative data are Nominal and Ordinary.\n",
        "          # Nominal Data: It consists of fixed data. Ex: Gender(M/F), Blood Group (A-Positive), Color.\n",
        "          # Ordinary Data: It consists of rank. We can assign rank to the categories here. Ex: Customer reviews on App.( Good, Average, Excellent,Satisfactory)"
      ],
      "metadata": {
        "id": "n1DcWqWC74dk"
      },
      "execution_count": null,
      "outputs": []
    },
    {
      "cell_type": "code",
      "source": [
        "## Q4. Categorise the following datasets with respect to quantitative and qualitative data types:\n",
        "   # (i) Grading in exam: A+, A, B+, B, C+, C, D, E       ::: Qualitative Data : Nominal\n",
        "   #(ii) Colour of mangoes: yellow, green, orange, red    ::: Qualitative Data : Nominal\n",
        "   # (iii) Height data of a class: [178.9, 179, 179.5, 176, 177.2, 178.3, 175.8,...]  ## Quantitative : Continous\n",
        "   # (iv) Number of mangoes exported by a farm: [500, 600, 478, 672, ...]  ## Quantitative : Descrete"
      ],
      "metadata": {
        "id": "3atI3C08Avd4"
      },
      "execution_count": null,
      "outputs": []
    },
    {
      "cell_type": "code",
      "source": [
        "## Q5. Explain the concept of levels of measurement and give an example of a variable for each level.\n",
        " #Ans: Levels of measurement, also called scales of measurement, It tells how precisely variables are recorded.\n",
        "    # There are 4 levels of measurement: \n",
        "                # Nominal: The data can only be categorised\n",
        "                # Ordinal: The data can be categorised and ranked.\n",
        "                # Interval: The data can be categorised, ranked, and evenly spaced.\n",
        "                # Ratio: The data can be categorised, ranked, evenly spaced, and has a natural zero.\n",
        "\n",
        "        # i) Nominal Scale data: It consists of Qualitative/ Categorical Variable. Ex: Gender, Colors.\n",
        "              # Here Order doesn't matter.\n",
        "              # Ex: If we take a survey of 10  [Red : 50% , Blue : 30% and Yello : 20%]\n",
        "\n",
        "        # ii) Ordinal Scale data: Here Ranking and Order matter.Difference cannot be measured.\n",
        "             #Ex: Degree Qualification: Phd , B.Sc , M.Sc , BE , Masters  Ranks can be given according to qualification.\n",
        "             #Ex: Marks : 100,99, 48, 89 : We can give the ranks but as we have the values based on the differences also we can measure the scale. So, It is not ordinal Scale.\n",
        "             \n",
        "        # iii) Interval Scale Data: The rank and order matters. Difference can be easily measured and the ratio cannot be measured.\n",
        "             # It doesn't have any zero starting values.\n",
        "             #Ex: Temperature :  30F, 60F, 80F,90F Here we can Rank it, Order it , Differences can be measured.But Ratio cannot be measured here.\n",
        "\n",
        "        # iv) Ratio Scale Data: Order and Rank mateers, Difference and Ratio are measurable. It doesn't have a zeo starting.\n",
        "\n",
        "           # Ex: Grades : 100, 99, 59, 89, 87 : We can order it, Rank it and also difference it. As per the ratio also we can measure it.\n",
        "\n",
        "           \n",
        "                  \n"
      ],
      "metadata": {
        "id": "edfwZGZpMn92"
      },
      "execution_count": null,
      "outputs": []
    },
    {
      "cell_type": "code",
      "source": [
        "## Q7. How nominal data type is different from ordinal data type.\n",
        "# Ans: The Nominal and Ordinal Data are the types of Qualitative Data.\n",
        "    # In Nominal : The values are fixed . We cannot assign rank for any kind of data. Ex: Gender(M/F), Blood Group(A-Positive), O(Positive) etc;\n",
        "    # In Ordinal: We can assign rank to the categories here. Ex: If we have Customer App: we can review like(Good, bad, Excellent)\n",
        "\n",
        "\n",
        "     \n",
        "\n"
      ],
      "metadata": {
        "id": "3U0ASvlhOJav"
      },
      "execution_count": null,
      "outputs": []
    },
    {
      "cell_type": "code",
      "source": [
        "## Q8. Which type of plot can be used to display data in terms of range?\n",
        " # Ans: The Box Plot can be used to display data in terms of Range.The box in the plot represents the interquartile range, which contains the middle 50% of the data. \n",
        "    # The line within the box represents the median, which is the middle value of the data. \n",
        "    # Box plots are useful for comparing the distribution of data between different groups or for visualizing the spread of a single data set.\n",
        "    # They can also be used to identify outliers "
      ],
      "metadata": {
        "id": "G4aeq7XFO2ZK"
      },
      "execution_count": null,
      "outputs": []
    },
    {
      "cell_type": "code",
      "source": [],
      "metadata": {
        "id": "biwusVqNPkNe"
      },
      "execution_count": null,
      "outputs": []
    }
  ]
}