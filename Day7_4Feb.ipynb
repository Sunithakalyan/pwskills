{
 "cells": [
  {
   "cell_type": "markdown",
   "id": "db307da3",
   "metadata": {},
   "source": [
    "## LAMBDA Function"
   ]
  },
  {
   "cell_type": "code",
   "execution_count": 1,
   "id": "3628cdf8",
   "metadata": {},
   "outputs": [],
   "source": [
    "## Normal Function\n",
    "n = 3\n",
    "p = 2\n",
    "\n",
    "def t1(n,p):\n",
    "    return n**p    ## Returns power of n"
   ]
  },
  {
   "cell_type": "code",
   "execution_count": 2,
   "id": "27db210c",
   "metadata": {},
   "outputs": [
    {
     "data": {
      "text/plain": [
       "8"
      ]
     },
     "execution_count": 2,
     "metadata": {},
     "output_type": "execute_result"
    }
   ],
   "source": [
    "t1(2,3)           ## Calling the function by passing the value of n and p"
   ]
  },
  {
   "cell_type": "code",
   "execution_count": 3,
   "id": "84eae5ee",
   "metadata": {},
   "outputs": [
    {
     "data": {
      "text/plain": [
       "<function __main__.<lambda>(n, p)>"
      ]
     },
     "execution_count": 3,
     "metadata": {},
     "output_type": "execute_result"
    }
   ],
   "source": [
    "## Lambda Function :: A function with out any name . It is also called as Anonymous Function.\n",
    "\n",
    "lambda n,p : n**p"
   ]
  },
  {
   "cell_type": "code",
   "execution_count": 4,
   "id": "5f527d25",
   "metadata": {},
   "outputs": [],
   "source": [
    "## We can also assign lambda function to a variable\n",
    "\n",
    "a = lambda n,p : n**p"
   ]
  },
  {
   "cell_type": "code",
   "execution_count": 6,
   "id": "8b138619",
   "metadata": {},
   "outputs": [
    {
     "data": {
      "text/plain": [
       "4"
      ]
     },
     "execution_count": 6,
     "metadata": {},
     "output_type": "execute_result"
    }
   ],
   "source": [
    "a(2,2)   ## Calling the lamda Function "
   ]
  },
  {
   "cell_type": "code",
   "execution_count": 10,
   "id": "85356181",
   "metadata": {},
   "outputs": [],
   "source": [
    "## Example2 : Addn and Multi of 2 numbers using Lambda Function\n",
    "\n",
    "add = lambda a,b : a+b\n",
    "mul = lambda x,y : x*y"
   ]
  },
  {
   "cell_type": "code",
   "execution_count": 12,
   "id": "ef467609",
   "metadata": {},
   "outputs": [
    {
     "name": "stdout",
     "output_type": "stream",
     "text": [
      "5\n",
      "6\n"
     ]
    }
   ],
   "source": [
    "print(add(2,3))   # Calling the function passing the values\n",
    "print(mul(2,3))"
   ]
  },
  {
   "cell_type": "code",
   "execution_count": 13,
   "id": "cb3ab554",
   "metadata": {},
   "outputs": [],
   "source": [
    "## Example to convert Celsius to Fareinheat using Lambda Function\n",
    "\n",
    "c_to_f = lambda c : (9/5)*c+32"
   ]
  },
  {
   "cell_type": "code",
   "execution_count": 14,
   "id": "072ea751",
   "metadata": {},
   "outputs": [
    {
     "data": {
      "text/plain": [
       "93.2"
      ]
     },
     "execution_count": 14,
     "metadata": {},
     "output_type": "execute_result"
    }
   ],
   "source": [
    "c_to_f(34)   ## Calling the function"
   ]
  },
  {
   "cell_type": "code",
   "execution_count": 15,
   "id": "31999ebe",
   "metadata": {},
   "outputs": [],
   "source": [
    "## Example: Maximum of 2 numbers using Lambda Function\n",
    "\n",
    "max = lambda x,y : x if x>y else y"
   ]
  },
  {
   "cell_type": "code",
   "execution_count": 16,
   "id": "b3d409d7",
   "metadata": {},
   "outputs": [
    {
     "data": {
      "text/plain": [
       "4"
      ]
     },
     "execution_count": 16,
     "metadata": {},
     "output_type": "execute_result"
    }
   ],
   "source": [
    "max(2,4)   ## Calling the function by passing the values."
   ]
  },
  {
   "cell_type": "code",
   "execution_count": 18,
   "id": "1415ac7b",
   "metadata": {},
   "outputs": [],
   "source": [
    "# Example : Checking for even numbers if a number is divisible by 2 and remainder is 0\n",
    "even = lambda x,y : x if x%2 ==0 else y"
   ]
  },
  {
   "cell_type": "code",
   "execution_count": 20,
   "id": "aa8dec71",
   "metadata": {},
   "outputs": [
    {
     "data": {
      "text/plain": [
       "4"
      ]
     },
     "execution_count": 20,
     "metadata": {},
     "output_type": "execute_result"
    }
   ],
   "source": [
    "even(3,4)"
   ]
  },
  {
   "cell_type": "code",
   "execution_count": 21,
   "id": "3ff821ed",
   "metadata": {},
   "outputs": [],
   "source": [
    "## Example: Find the length of the String using Lambda Function\n",
    "## len() is used to find the length of the string\n",
    "\n",
    "len_str = lambda s: len(s)     "
   ]
  },
  {
   "cell_type": "code",
   "execution_count": 22,
   "id": "f5ec3eaa",
   "metadata": {},
   "outputs": [
    {
     "data": {
      "text/plain": [
       "7"
      ]
     },
     "execution_count": 22,
     "metadata": {},
     "output_type": "execute_result"
    }
   ],
   "source": [
    "len_str(\"Sunitha\")  # Calling the function by passing the String to find the length"
   ]
  },
  {
   "cell_type": "markdown",
   "id": "f25bdcde",
   "metadata": {},
   "source": [
    "### Map Reduce and Filter Functions"
   ]
  },
  {
   "cell_type": "code",
   "execution_count": 23,
   "id": "e729f090",
   "metadata": {},
   "outputs": [],
   "source": [
    "## For Example We want to find the square of elements in the list\n",
    "\n",
    "l1 = [1,2,3,4,5,6]\n",
    "\n",
    "def t2(a):\n",
    "    x = []\n",
    "    for i in a:\n",
    "        x.append(i**2)\n",
    "    return x\n",
    "        \n",
    "    \n",
    "    "
   ]
  },
  {
   "cell_type": "code",
   "execution_count": 24,
   "id": "88fed50d",
   "metadata": {},
   "outputs": [
    {
     "data": {
      "text/plain": [
       "[1, 4, 9, 16, 25, 36]"
      ]
     },
     "execution_count": 24,
     "metadata": {},
     "output_type": "execute_result"
    }
   ],
   "source": [
    "t2(l1)"
   ]
  },
  {
   "cell_type": "code",
   "execution_count": 25,
   "id": "c8440dd3",
   "metadata": {},
   "outputs": [
    {
     "data": {
      "text/plain": [
       "[1, 2, 3, 4, 5, 6]"
      ]
     },
     "execution_count": 25,
     "metadata": {},
     "output_type": "execute_result"
    }
   ],
   "source": [
    "## Map() is used to map each and every individual element\n",
    "## Map(func , iterables) \n",
    "\n",
    "l1"
   ]
  },
  {
   "cell_type": "code",
   "execution_count": 28,
   "id": "a61f5541",
   "metadata": {},
   "outputs": [],
   "source": [
    "def sq(x):\n",
    "    return x**2"
   ]
  },
  {
   "cell_type": "code",
   "execution_count": 29,
   "id": "5ce8b356",
   "metadata": {},
   "outputs": [
    {
     "data": {
      "text/plain": [
       "[1, 4, 9, 16, 25, 36]"
      ]
     },
     "execution_count": 29,
     "metadata": {},
     "output_type": "execute_result"
    }
   ],
   "source": [
    "list(map(sq,l1))    ## map() is used to map sq function and iterates in the list"
   ]
  },
  {
   "cell_type": "code",
   "execution_count": 31,
   "id": "9ac5f505",
   "metadata": {},
   "outputs": [
    {
     "data": {
      "text/plain": [
       "[1, 4, 9, 16, 25, 36]"
      ]
     },
     "execution_count": 31,
     "metadata": {},
     "output_type": "execute_result"
    }
   ],
   "source": [
    "## Instead of writing the external function we can also use lambda() with map()\n",
    "\n",
    "list(map(lambda x: x**2,l1))"
   ]
  },
  {
   "cell_type": "code",
   "execution_count": 32,
   "id": "775c8a11",
   "metadata": {},
   "outputs": [
    {
     "data": {
      "text/plain": [
       "[1, 3, 5, 7, 9]"
      ]
     },
     "execution_count": 32,
     "metadata": {},
     "output_type": "execute_result"
    }
   ],
   "source": [
    "## We can also add some logic with lambda() and map()\n",
    "\n",
    "## Example\n",
    "\n",
    "l2=[1,3,5,7,9]\n",
    "l2"
   ]
  },
  {
   "cell_type": "code",
   "execution_count": 40,
   "id": "ac57a7b1",
   "metadata": {},
   "outputs": [
    {
     "data": {
      "text/plain": [
       "[21, 22, 23, 24, 25, 26]"
      ]
     },
     "execution_count": 40,
     "metadata": {},
     "output_type": "execute_result"
    }
   ],
   "source": [
    "list(map(lambda x: x+20, l1))  ## Add 20 to the list"
   ]
  },
  {
   "cell_type": "code",
   "execution_count": 35,
   "id": "5c4eb11e",
   "metadata": {},
   "outputs": [],
   "source": [
    "l2.append(11)"
   ]
  },
  {
   "cell_type": "code",
   "execution_count": 36,
   "id": "1e163a9f",
   "metadata": {},
   "outputs": [
    {
     "data": {
      "text/plain": [
       "[1, 3, 5, 7, 9, 11]"
      ]
     },
     "execution_count": 36,
     "metadata": {},
     "output_type": "execute_result"
    }
   ],
   "source": [
    "l2"
   ]
  },
  {
   "cell_type": "code",
   "execution_count": 43,
   "id": "43a4cf88",
   "metadata": {},
   "outputs": [
    {
     "data": {
      "text/plain": [
       "['1', '2', '3', '4', '5', '6']"
      ]
     },
     "execution_count": 43,
     "metadata": {},
     "output_type": "execute_result"
    }
   ],
   "source": [
    "## Covert each element into String\n",
    "\n",
    "list(map(lambda x: str(x),l1))"
   ]
  },
  {
   "cell_type": "code",
   "execution_count": 46,
   "id": "443b3588",
   "metadata": {},
   "outputs": [
    {
     "name": "stdout",
     "output_type": "stream",
     "text": [
      "[1, 2, 3, 4, 5, 6]\n",
      "[1, 3, 5, 7, 9, 11]\n"
     ]
    }
   ],
   "source": [
    "print(l1)\n",
    "print(l2)"
   ]
  },
  {
   "cell_type": "code",
   "execution_count": 44,
   "id": "bc1f7521",
   "metadata": {},
   "outputs": [
    {
     "data": {
      "text/plain": [
       "[2, 5, 8, 11, 14, 17]"
      ]
     },
     "execution_count": 44,
     "metadata": {},
     "output_type": "execute_result"
    }
   ],
   "source": [
    "## add 2 lists using lambda and map functions\n",
    "\n",
    "list(map(lambda x,y: x+y,l1,l2))"
   ]
  },
  {
   "cell_type": "code",
   "execution_count": 50,
   "id": "2ff330c4",
   "metadata": {},
   "outputs": [],
   "source": [
    "## Another way of using lambda fucntion with map() externally\n",
    "## We can also call the Lambda function ourtside the map() function\n",
    "\n",
    "f = lambda x,y: x+y\n"
   ]
  },
  {
   "cell_type": "code",
   "execution_count": 51,
   "id": "f7fb6a42",
   "metadata": {},
   "outputs": [
    {
     "data": {
      "text/plain": [
       "[2, 5, 8, 11, 14, 17]"
      ]
     },
     "execution_count": 51,
     "metadata": {},
     "output_type": "execute_result"
    }
   ],
   "source": [
    "list(map(f, l1,l2))     ## calling the lambda function using map() function"
   ]
  },
  {
   "cell_type": "code",
   "execution_count": 53,
   "id": "d30a8965",
   "metadata": {},
   "outputs": [
    {
     "data": {
      "text/plain": [
       "['S', 'U', 'B', 'H', 'A', 'S', 'H']"
      ]
     },
     "execution_count": 53,
     "metadata": {},
     "output_type": "execute_result"
    }
   ],
   "source": [
    "## Coverting the string into Upper case\n",
    "\n",
    "s = \"Subhash\"\n",
    "\n",
    "list(map(lambda x: x.upper(), s))"
   ]
  },
  {
   "cell_type": "markdown",
   "id": "b1b62cd6",
   "metadata": {},
   "source": [
    "### REDUCE Function"
   ]
  },
  {
   "cell_type": "code",
   "execution_count": 54,
   "id": "04433ebc",
   "metadata": {},
   "outputs": [],
   "source": [
    "## We have to import reduce() function from the library.\n",
    "\n",
    "from functools import reduce\n"
   ]
  },
  {
   "cell_type": "code",
   "execution_count": 55,
   "id": "219a607c",
   "metadata": {},
   "outputs": [
    {
     "data": {
      "text/plain": [
       "[1, 2, 3, 4, 5, 6]"
      ]
     },
     "execution_count": 55,
     "metadata": {},
     "output_type": "execute_result"
    }
   ],
   "source": [
    "l1"
   ]
  },
  {
   "cell_type": "code",
   "execution_count": 57,
   "id": "5d109d2e",
   "metadata": {},
   "outputs": [
    {
     "data": {
      "text/plain": [
       "21"
      ]
     },
     "execution_count": 57,
     "metadata": {},
     "output_type": "execute_result"
    }
   ],
   "source": [
    "## Using reduce function we have to find the summation of the elements in the list\n",
    "\n",
    "reduce(lambda x,y: x+y, l1)"
   ]
  },
  {
   "cell_type": "code",
   "execution_count": null,
   "id": "b4854451",
   "metadata": {},
   "outputs": [],
   "source": [
    "## Explanation\n",
    "## At first x=1, y=2, x+y=3\n",
    "## At second x=3,y=3, x+y=6\n",
    "            # x=6,y=4, x+y=10\n",
    "            # x=10,y=5, x+y=15\n",
    "            # x=15,y=6, x+y=21\n"
   ]
  },
  {
   "cell_type": "code",
   "execution_count": 58,
   "id": "5c048bea",
   "metadata": {},
   "outputs": [],
   "source": [
    "## Without an external function we can use reduce() function\n",
    "\n",
    "l1 = [1,2,3,4,5,6]\n",
    "\n",
    "def add(x,y):\n",
    "    return x+y\n",
    "    "
   ]
  },
  {
   "cell_type": "code",
   "execution_count": 59,
   "id": "c0310070",
   "metadata": {},
   "outputs": [
    {
     "data": {
      "text/plain": [
       "21"
      ]
     },
     "execution_count": 59,
     "metadata": {},
     "output_type": "execute_result"
    }
   ],
   "source": [
    "reduce(add,l1)"
   ]
  },
  {
   "cell_type": "code",
   "execution_count": 61,
   "id": "4b2663ec",
   "metadata": {},
   "outputs": [
    {
     "data": {
      "text/plain": [
       "5"
      ]
     },
     "execution_count": 61,
     "metadata": {},
     "output_type": "execute_result"
    }
   ],
   "source": [
    "## Max of elements in the list\n",
    "\n",
    "l1 = [1,2,3,4,5]\n",
    "\n",
    "reduce(lambda x,y: x if x > y else y, l1)"
   ]
  },
  {
   "cell_type": "markdown",
   "id": "7168a2fa",
   "metadata": {},
   "source": [
    "## FILTER \n"
   ]
  },
  {
   "cell_type": "code",
   "execution_count": 65,
   "id": "e8b48aa9",
   "metadata": {},
   "outputs": [
    {
     "data": {
      "text/plain": [
       "[2, 4, 6, 8]"
      ]
     },
     "execution_count": 65,
     "metadata": {},
     "output_type": "execute_result"
    }
   ],
   "source": [
    "##  Print all the even numbers from the list using Filter Function\n",
    "\n",
    "l1=[1,2,3,4,5,6,7,8]\n",
    "\n",
    "list(filter(lambda x: x % 2 == 0, l1))"
   ]
  },
  {
   "cell_type": "code",
   "execution_count": 68,
   "id": "3ac202dc",
   "metadata": {},
   "outputs": [
    {
     "data": {
      "text/plain": [
       "[1, 2, 5.0, 7.1, 9.0, 10]"
      ]
     },
     "execution_count": 68,
     "metadata": {},
     "output_type": "execute_result"
    }
   ],
   "source": [
    "## Print all the positive numbers using filter function\n",
    "\n",
    "l3 = [1,2,-3,-4,5.0,-6,7.1,9.0,10]\n",
    "\n",
    "list(filter(lambda x: x >= 0 ,l3))"
   ]
  },
  {
   "cell_type": "code",
   "execution_count": 69,
   "id": "02154b4d",
   "metadata": {},
   "outputs": [
    {
     "data": {
      "text/plain": [
       "[-3, -4, -6]"
      ]
     },
     "execution_count": 69,
     "metadata": {},
     "output_type": "execute_result"
    }
   ],
   "source": [
    "## ///ly extract all the negative numbers\n",
    "\n",
    "list(filter(lambda x: x < 0, l3))"
   ]
  },
  {
   "cell_type": "code",
   "execution_count": 78,
   "id": "0febca64",
   "metadata": {},
   "outputs": [
    {
     "data": {
      "text/plain": [
       "['Kalyan', 'skills']"
      ]
     },
     "execution_count": 78,
     "metadata": {},
     "output_type": "execute_result"
    }
   ],
   "source": [
    "l4 = [\"Sunitha\",\"Subhash\", \"Kalyan\", \"skills\", \"Mandala\"]\n",
    "\n",
    "list(filter(lambda x: len(x) <= 6 , l4))"
   ]
  },
  {
   "cell_type": "code",
   "execution_count": null,
   "id": "a61a9c8d",
   "metadata": {},
   "outputs": [],
   "source": []
  },
  {
   "cell_type": "code",
   "execution_count": 79,
   "id": "1234a5d2",
   "metadata": {},
   "outputs": [
    {
     "name": "stdout",
     "output_type": "stream",
     "text": [
      "PwSkills PwSkills "
     ]
    }
   ],
   "source": [
    "for course in ['Data Science Masters', 'ML', 'data science masters', 'DL']:\n",
    "\n",
    "    if len(course)!= 2:\n",
    "\n",
    "        print('PwSkills' , end=' ')"
   ]
  },
  {
   "cell_type": "code",
   "execution_count": 81,
   "id": "64ef436d",
   "metadata": {},
   "outputs": [
    {
     "name": "stdout",
     "output_type": "stream",
     "text": [
      "105\n"
     ]
    }
   ],
   "source": [
    "sum = 0\n",
    "\n",
    "for i in range(1,100):\n",
    "\n",
    "    sum += i\n",
    "\n",
    "    if sum > 100:\n",
    "\n",
    "        break\n",
    "\n",
    "print(sum)"
   ]
  },
  {
   "cell_type": "code",
   "execution_count": null,
   "id": "228e095e",
   "metadata": {},
   "outputs": [],
   "source": []
  },
  {
   "cell_type": "code",
   "execution_count": null,
   "id": "23570bb2",
   "metadata": {},
   "outputs": [],
   "source": []
  },
  {
   "cell_type": "code",
   "execution_count": null,
   "id": "3ed27aed",
   "metadata": {},
   "outputs": [],
   "source": []
  }
 ],
 "metadata": {
  "kernelspec": {
   "display_name": "Python 3 (ipykernel)",
   "language": "python",
   "name": "python3"
  },
  "language_info": {
   "codemirror_mode": {
    "name": "ipython",
    "version": 3
   },
   "file_extension": ".py",
   "mimetype": "text/x-python",
   "name": "python",
   "nbconvert_exporter": "python",
   "pygments_lexer": "ipython3",
   "version": "3.10.8"
  }
 },
 "nbformat": 4,
 "nbformat_minor": 5
}
