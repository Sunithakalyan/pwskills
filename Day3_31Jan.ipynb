{
 "cells": [
  {
   "cell_type": "markdown",
   "id": "fb82d41e",
   "metadata": {
    "tags": []
   },
   "source": [
    "### Logical Operators:::   And, Or, Not"
   ]
  },
  {
   "cell_type": "code",
   "execution_count": 6,
   "id": "73fa0bad",
   "metadata": {},
   "outputs": [
    {
     "data": {
      "text/plain": [
       "True"
      ]
     },
     "execution_count": 6,
     "metadata": {},
     "output_type": "execute_result"
    }
   ],
   "source": [
    "True and True"
   ]
  },
  {
   "cell_type": "code",
   "execution_count": 7,
   "id": "ba832e6e",
   "metadata": {},
   "outputs": [
    {
     "data": {
      "text/plain": [
       "False"
      ]
     },
     "execution_count": 7,
     "metadata": {},
     "output_type": "execute_result"
    }
   ],
   "source": [
    "True and False"
   ]
  },
  {
   "cell_type": "code",
   "execution_count": 8,
   "id": "658e695a",
   "metadata": {},
   "outputs": [
    {
     "data": {
      "text/plain": [
       "False"
      ]
     },
     "execution_count": 8,
     "metadata": {},
     "output_type": "execute_result"
    }
   ],
   "source": [
    "\n",
    "\n",
    "False and True\n"
   ]
  },
  {
   "cell_type": "code",
   "execution_count": 5,
   "id": "e0c68b58",
   "metadata": {},
   "outputs": [
    {
     "data": {
      "text/plain": [
       "True"
      ]
     },
     "execution_count": 5,
     "metadata": {},
     "output_type": "execute_result"
    }
   ],
   "source": [
    "True or True"
   ]
  },
  {
   "cell_type": "code",
   "execution_count": 7,
   "id": "30def3f7",
   "metadata": {},
   "outputs": [
    {
     "name": "stdout",
     "output_type": "stream",
     "text": [
      "Defined value of start= True\n",
      "Defined value of stop= False\n"
     ]
    }
   ],
   "source": [
    "start=True\n",
    "stop=False\n",
    "\n",
    "print(f\"Defined value of start= {start}\")\n",
    "print(f\"Defined value of stop= {stop}\")"
   ]
  },
  {
   "cell_type": "code",
   "execution_count": 8,
   "id": "190e86e0",
   "metadata": {},
   "outputs": [
    {
     "data": {
      "text/plain": [
       "False"
      ]
     },
     "execution_count": 8,
     "metadata": {},
     "output_type": "execute_result"
    }
   ],
   "source": [
    "not True"
   ]
  },
  {
   "cell_type": "code",
   "execution_count": 47,
   "id": "ad742e09",
   "metadata": {},
   "outputs": [
    {
     "data": {
      "text/plain": [
       "True"
      ]
     },
     "execution_count": 47,
     "metadata": {},
     "output_type": "execute_result"
    }
   ],
   "source": [
    "not False"
   ]
  },
  {
   "cell_type": "code",
   "execution_count": 9,
   "id": "41c5ce41",
   "metadata": {},
   "outputs": [
    {
     "data": {
      "text/plain": [
       "True"
      ]
     },
     "execution_count": 9,
     "metadata": {},
     "output_type": "execute_result"
    }
   ],
   "source": [
    "not int(bool(0))"
   ]
  },
  {
   "cell_type": "code",
   "execution_count": 18,
   "id": "2df4a2f5",
   "metadata": {},
   "outputs": [
    {
     "data": {
      "text/plain": [
       "False"
      ]
     },
     "execution_count": 18,
     "metadata": {},
     "output_type": "execute_result"
    }
   ],
   "source": [
    "not(1)"
   ]
  },
  {
   "cell_type": "code",
   "execution_count": 11,
   "id": "b37fc15e",
   "metadata": {},
   "outputs": [
    {
     "data": {
      "text/plain": [
       "1"
      ]
     },
     "execution_count": 11,
     "metadata": {},
     "output_type": "execute_result"
    }
   ],
   "source": [
    "int(bool(1))"
   ]
  },
  {
   "cell_type": "code",
   "execution_count": 12,
   "id": "1ad4b53f",
   "metadata": {},
   "outputs": [
    {
     "data": {
      "text/plain": [
       "False"
      ]
     },
     "execution_count": 12,
     "metadata": {},
     "output_type": "execute_result"
    }
   ],
   "source": [
    "not int(bool(1))"
   ]
  },
  {
   "cell_type": "code",
   "execution_count": 16,
   "id": "2420f763",
   "metadata": {},
   "outputs": [
    {
     "data": {
      "text/plain": [
       "True"
      ]
     },
     "execution_count": 16,
     "metadata": {},
     "output_type": "execute_result"
    }
   ],
   "source": [
    "not int(bool(0))"
   ]
  },
  {
   "cell_type": "code",
   "execution_count": 19,
   "id": "6500fbf1",
   "metadata": {},
   "outputs": [
    {
     "data": {
      "text/plain": [
       "False"
      ]
     },
     "execution_count": 19,
     "metadata": {},
     "output_type": "execute_result"
    }
   ],
   "source": [
    "not -1"
   ]
  },
  {
   "cell_type": "code",
   "execution_count": 9,
   "id": "46268531",
   "metadata": {},
   "outputs": [
    {
     "name": "stdout",
     "output_type": "stream",
     "text": [
      "Defined value of start= True\n",
      "Defined value of stop= False\n",
      "Defined value of start= 0\n",
      "Defined value of stop= 1\n"
     ]
    }
   ],
   "source": [
    "start=True\n",
    "stop=False\n",
    "\n",
    "print(f\"Defined value of start= {start}\")\n",
    "print(f\"Defined value of stop= {stop}\")\n",
    "\n",
    "print(f\"Defined value of start= {int (not start)}\")\n",
    "print(f\"Defined value of stop= {int (not stop)}\")\n",
    "\n",
    "\n"
   ]
  },
  {
   "cell_type": "code",
   "execution_count": 22,
   "id": "6d7d719e",
   "metadata": {},
   "outputs": [
    {
     "name": "stdout",
     "output_type": "stream",
     "text": [
      "boolean value of no. 1 is True\n"
     ]
    }
   ],
   "source": [
    "zero=1\n",
    "one=1\n",
    "print(f\"boolean value of no. {zero} is {bool(zero)}\")"
   ]
  },
  {
   "cell_type": "code",
   "execution_count": 24,
   "id": "f3770a4d",
   "metadata": {},
   "outputs": [
    {
     "name": "stdout",
     "output_type": "stream",
     "text": [
      "boolean value of no. 1 is False\n",
      "boolean value of no. -1 is False\n"
     ]
    }
   ],
   "source": [
    "zero=1\n",
    "one=-1\n",
    "print(f\"boolean value of no. {zero} is {not zero}\")\n",
    "print(f\"boolean value of no. {one} is {not one}\")\n",
    "\n"
   ]
  },
  {
   "cell_type": "code",
   "execution_count": 28,
   "id": "c4740be4",
   "metadata": {},
   "outputs": [
    {
     "data": {
      "text/plain": [
       "False"
      ]
     },
     "execution_count": 28,
     "metadata": {},
     "output_type": "execute_result"
    }
   ],
   "source": [
    "not(-1)"
   ]
  },
  {
   "cell_type": "code",
   "execution_count": 38,
   "id": "7d16fbd3",
   "metadata": {},
   "outputs": [
    {
     "name": "stdout",
     "output_type": "stream",
     "text": [
      "vegetables : True\n",
      "salt : False\n",
      "veg and salt:False\n"
     ]
    }
   ],
   "source": [
    "veg=True\n",
    "salt=False\n",
    "dish=veg and salt\n",
    "print(f\"vegetables : {veg}\")\n",
    "print(f\"salt : {salt}\")\n",
    "print(f\"veg and salt:{dish}\")"
   ]
  },
  {
   "cell_type": "code",
   "execution_count": 32,
   "id": "10b81a37",
   "metadata": {},
   "outputs": [
    {
     "data": {
      "text/plain": [
       "True"
      ]
     },
     "execution_count": 32,
     "metadata": {},
     "output_type": "execute_result"
    }
   ],
   "source": [
    "not(False) * True"
   ]
  },
  {
   "cell_type": "code",
   "execution_count": 33,
   "id": "5bfa4cb8",
   "metadata": {},
   "outputs": [
    {
     "data": {
      "text/plain": [
       "True"
      ]
     },
     "execution_count": 33,
     "metadata": {},
     "output_type": "execute_result"
    }
   ],
   "source": [
    "not(True) * False"
   ]
  },
  {
   "cell_type": "code",
   "execution_count": 36,
   "id": "7f40674a",
   "metadata": {},
   "outputs": [
    {
     "data": {
      "text/plain": [
       "True"
      ]
     },
     "execution_count": 36,
     "metadata": {},
     "output_type": "execute_result"
    }
   ],
   "source": [
    "## Precedence operation\n",
    "not(False) * True\n"
   ]
  },
  {
   "cell_type": "code",
   "execution_count": 37,
   "id": "623f23c3",
   "metadata": {},
   "outputs": [
    {
     "data": {
      "text/plain": [
       "1"
      ]
     },
     "execution_count": 37,
     "metadata": {},
     "output_type": "execute_result"
    }
   ],
   "source": [
    "(not(False)) * True"
   ]
  },
  {
   "cell_type": "code",
   "execution_count": 39,
   "id": "31f36b19",
   "metadata": {},
   "outputs": [
    {
     "data": {
      "text/plain": [
       "True"
      ]
     },
     "execution_count": 39,
     "metadata": {},
     "output_type": "execute_result"
    }
   ],
   "source": [
    "not False * True"
   ]
  },
  {
   "cell_type": "code",
   "execution_count": 43,
   "id": "a431d44a",
   "metadata": {},
   "outputs": [
    {
     "data": {
      "text/plain": [
       "1"
      ]
     },
     "execution_count": 43,
     "metadata": {},
     "output_type": "execute_result"
    }
   ],
   "source": [
    "(not (False)) * True"
   ]
  },
  {
   "cell_type": "code",
   "execution_count": 44,
   "id": "f5aa1f44",
   "metadata": {},
   "outputs": [
    {
     "data": {
      "text/plain": [
       "True"
      ]
     },
     "execution_count": 44,
     "metadata": {},
     "output_type": "execute_result"
    }
   ],
   "source": [
    "not(False) * False == True"
   ]
  },
  {
   "cell_type": "code",
   "execution_count": 49,
   "id": "6a75df4c",
   "metadata": {},
   "outputs": [
    {
     "name": "stdout",
     "output_type": "stream",
     "text": [
      "True\n",
      "0\n"
     ]
    }
   ],
   "source": [
    "print (not (False * False))\n",
    "print((not(False)) * False)"
   ]
  },
  {
   "cell_type": "code",
   "execution_count": 54,
   "id": "cd7772dc",
   "metadata": {},
   "outputs": [
    {
     "data": {
      "text/plain": [
       "True"
      ]
     },
     "execution_count": 54,
     "metadata": {},
     "output_type": "execute_result"
    }
   ],
   "source": [
    "not False * True == True"
   ]
  },
  {
   "cell_type": "markdown",
   "id": "0e5c2177",
   "metadata": {},
   "source": [
    "## Equality Operators"
   ]
  },
  {
   "cell_type": "code",
   "execution_count": 57,
   "id": "b8003f59",
   "metadata": {},
   "outputs": [
    {
     "name": "stdout",
     "output_type": "stream",
     "text": [
      "2328461962304\n",
      "2328461961984\n"
     ]
    }
   ],
   "source": [
    "## is, isnot , == , !=\n",
    "lst_a=[1,2,3,4]\n",
    "lst_b=[1,2,3,4]\n",
    "## id() is operator is used to return the object with the address\n",
    "print(id(lst_a))   ## 2 different variables with different address\n",
    "print(id(lst_b))\n"
   ]
  },
  {
   "cell_type": "code",
   "execution_count": 58,
   "id": "303a49ce",
   "metadata": {},
   "outputs": [
    {
     "data": {
      "text/plain": [
       "False"
      ]
     },
     "execution_count": 58,
     "metadata": {},
     "output_type": "execute_result"
    }
   ],
   "source": [
    "lst_a is lst_b   ## 2 variables address are different"
   ]
  },
  {
   "cell_type": "code",
   "execution_count": 60,
   "id": "414909ee",
   "metadata": {},
   "outputs": [
    {
     "name": "stdout",
     "output_type": "stream",
     "text": [
      "2328461968640\n",
      "2328461968640\n"
     ]
    }
   ],
   "source": [
    "lst_A=[1,2,3,4]\n",
    "lst_B=lst_A\n",
    "lst_A is lst_B\n",
    "\n",
    "print(id(lst_A))\n",
    "print(id(lst_B))\n",
    "\n"
   ]
  },
  {
   "cell_type": "code",
   "execution_count": 61,
   "id": "a94e34b1",
   "metadata": {},
   "outputs": [
    {
     "data": {
      "text/plain": [
       "True"
      ]
     },
     "execution_count": 61,
     "metadata": {},
     "output_type": "execute_result"
    }
   ],
   "source": [
    "\n",
    "lst_a=[1,2,3,4]\n",
    "lst_b=[1,2,3,4]\n",
    "lst_a is not lst_b"
   ]
  },
  {
   "cell_type": "code",
   "execution_count": 62,
   "id": "fbe203fb",
   "metadata": {},
   "outputs": [
    {
     "data": {
      "text/plain": [
       "True"
      ]
     },
     "execution_count": 62,
     "metadata": {},
     "output_type": "execute_result"
    }
   ],
   "source": [
    "lst_a == lst_b "
   ]
  },
  {
   "cell_type": "code",
   "execution_count": 63,
   "id": "41b4e381",
   "metadata": {},
   "outputs": [
    {
     "name": "stdout",
     "output_type": "stream",
     "text": [
      "140736784836432\n",
      "140736784836432\n"
     ]
    }
   ],
   "source": [
    "a=2\n",
    "b=2\n",
    "print(id(a))    ### Both the Address is same\n",
    "print(id(b))"
   ]
  },
  {
   "cell_type": "code",
   "execution_count": 65,
   "id": "1498b17c",
   "metadata": {},
   "outputs": [
    {
     "name": "stdout",
     "output_type": "stream",
     "text": [
      "2328461943088\n",
      "2328461943088\n"
     ]
    }
   ],
   "source": [
    "### Similarly take String\n",
    "str1=\"Suni\"\n",
    "str2=\"Suni\"\n",
    "print(id(str1))\n",
    "print(id(str2))  ## Adress will be same"
   ]
  },
  {
   "cell_type": "code",
   "execution_count": 68,
   "id": "90ce3a7c",
   "metadata": {},
   "outputs": [
    {
     "name": "stdout",
     "output_type": "stream",
     "text": [
      "2328461943088\n",
      "2328461932528\n"
     ]
    }
   ],
   "source": [
    "### Similarly take String which is Immutable\n",
    "str1=\"Suni\"\n",
    "str2=\"Suni1\"\n",
    "print(id(str1))\n",
    "print(id(str2))  ## Address is different"
   ]
  },
  {
   "cell_type": "code",
   "execution_count": 66,
   "id": "43bfdb53",
   "metadata": {},
   "outputs": [],
   "source": [
    "lst_a=[10,20,30,40]"
   ]
  },
  {
   "cell_type": "code",
   "execution_count": 67,
   "id": "0d848585",
   "metadata": {},
   "outputs": [
    {
     "data": {
      "text/plain": [
       "[10, 20, 30, 40]"
      ]
     },
     "execution_count": 67,
     "metadata": {},
     "output_type": "execute_result"
    }
   ],
   "source": [
    "lst_a"
   ]
  },
  {
   "cell_type": "markdown",
   "id": "2f869d55",
   "metadata": {},
   "source": [
    "  ## Comparision Operations"
   ]
  },
  {
   "cell_type": "code",
   "execution_count": 70,
   "id": "fbe87ad0",
   "metadata": {},
   "outputs": [
    {
     "name": "stdout",
     "output_type": "stream",
     "text": [
      " Max speed: True\n",
      " Max speed: False\n",
      " Max speed: True\n",
      " Max speed: False\n"
     ]
    }
   ],
   "source": [
    "## < , >, <=, >=\n",
    "\n",
    "Max_Speed_byke= 150\n",
    "Max_Speed_car= 200\n",
    "\n",
    "print (f\" Max speed: { Max_Speed_byke < Max_Speed_car}\")\n",
    "print (f\" Max speed: { Max_Speed_byke > Max_Speed_car}\")\n",
    "print (f\" Max speed: { Max_Speed_byke <= Max_Speed_car}\")\n",
    "print (f\" Max speed: { Max_Speed_byke >= Max_Speed_car}\")\n",
    "\n",
    "\n"
   ]
  },
  {
   "cell_type": "markdown",
   "id": "c5e5e82b",
   "metadata": {},
   "source": [
    "## Arithmatic Operations"
   ]
  },
  {
   "cell_type": "code",
   "execution_count": 72,
   "id": "f6946cf8",
   "metadata": {},
   "outputs": [],
   "source": [
    "a=25\n",
    "b=101\n",
    " \n",
    "    "
   ]
  },
  {
   "cell_type": "code",
   "execution_count": 73,
   "id": "ddfcf394",
   "metadata": {},
   "outputs": [
    {
     "data": {
      "text/plain": [
       "126"
      ]
     },
     "execution_count": 73,
     "metadata": {},
     "output_type": "execute_result"
    }
   ],
   "source": [
    "a+b"
   ]
  },
  {
   "cell_type": "code",
   "execution_count": 74,
   "id": "157599d6",
   "metadata": {},
   "outputs": [
    {
     "data": {
      "text/plain": [
       "2525"
      ]
     },
     "execution_count": 74,
     "metadata": {},
     "output_type": "execute_result"
    }
   ],
   "source": [
    "b*a"
   ]
  },
  {
   "cell_type": "code",
   "execution_count": 75,
   "id": "abd6bdb3",
   "metadata": {},
   "outputs": [
    {
     "data": {
      "text/plain": [
       "0"
      ]
     },
     "execution_count": 75,
     "metadata": {},
     "output_type": "execute_result"
    }
   ],
   "source": [
    "a//b"
   ]
  },
  {
   "cell_type": "code",
   "execution_count": 76,
   "id": "14358be3",
   "metadata": {},
   "outputs": [
    {
     "data": {
      "text/plain": [
       "0.24752475247524752"
      ]
     },
     "execution_count": 76,
     "metadata": {},
     "output_type": "execute_result"
    }
   ],
   "source": [
    "a/b"
   ]
  },
  {
   "cell_type": "code",
   "execution_count": 77,
   "id": "a02a755e",
   "metadata": {},
   "outputs": [
    {
     "data": {
      "text/plain": [
       "4"
      ]
     },
     "execution_count": 77,
     "metadata": {},
     "output_type": "execute_result"
    }
   ],
   "source": [
    "b//a"
   ]
  },
  {
   "cell_type": "code",
   "execution_count": 78,
   "id": "41868a21",
   "metadata": {},
   "outputs": [
    {
     "data": {
      "text/plain": [
       "4.04"
      ]
     },
     "execution_count": 78,
     "metadata": {},
     "output_type": "execute_result"
    }
   ],
   "source": [
    "b/a"
   ]
  },
  {
   "cell_type": "code",
   "execution_count": 80,
   "id": "b0fcdbcf",
   "metadata": {},
   "outputs": [
    {
     "data": {
      "text/plain": [
       "25"
      ]
     },
     "execution_count": 80,
     "metadata": {},
     "output_type": "execute_result"
    }
   ],
   "source": [
    "b%a\n",
    "a%b"
   ]
  },
  {
   "cell_type": "markdown",
   "id": "43322544",
   "metadata": {},
   "source": [
    "##Bitwise Operations"
   ]
  },
  {
   "cell_type": "markdown",
   "id": "bd7363b3",
   "metadata": {},
   "source": [
    "# Bitwise Operations"
   ]
  },
  {
   "cell_type": "code",
   "execution_count": 81,
   "id": "b2f52f03",
   "metadata": {},
   "outputs": [
    {
     "data": {
      "text/plain": [
       "'0b1010'"
      ]
     },
     "execution_count": 81,
     "metadata": {},
     "output_type": "execute_result"
    }
   ],
   "source": [
    "var=10\n",
    "bin(var)  ## Binary Format that is binary value of 10 is 1010"
   ]
  },
  {
   "cell_type": "code",
   "execution_count": 82,
   "id": "5642326f",
   "metadata": {},
   "outputs": [
    {
     "data": {
      "text/plain": [
       "-11"
      ]
     },
     "execution_count": 82,
     "metadata": {},
     "output_type": "execute_result"
    }
   ],
   "source": [
    "~var"
   ]
  },
  {
   "cell_type": "code",
   "execution_count": 83,
   "id": "fbe3251a",
   "metadata": {},
   "outputs": [
    {
     "data": {
      "text/plain": [
       "True"
      ]
     },
     "execution_count": 83,
     "metadata": {},
     "output_type": "execute_result"
    }
   ],
   "source": [
    "True | False"
   ]
  },
  {
   "cell_type": "code",
   "execution_count": 85,
   "id": "90066c5c",
   "metadata": {},
   "outputs": [
    {
     "data": {
      "text/plain": [
       "False"
      ]
     },
     "execution_count": 85,
     "metadata": {},
     "output_type": "execute_result"
    }
   ],
   "source": [
    "True & False"
   ]
  },
  {
   "cell_type": "code",
   "execution_count": 87,
   "id": "b4e01868",
   "metadata": {},
   "outputs": [
    {
     "data": {
      "text/plain": [
       "5"
      ]
     },
     "execution_count": 87,
     "metadata": {},
     "output_type": "execute_result"
    }
   ],
   "source": [
    "var >>1 ## Right Shift"
   ]
  },
  {
   "cell_type": "code",
   "execution_count": 88,
   "id": "1f040645",
   "metadata": {},
   "outputs": [
    {
     "data": {
      "text/plain": [
       "20"
      ]
     },
     "execution_count": 88,
     "metadata": {},
     "output_type": "execute_result"
    }
   ],
   "source": [
    "var <<1 ## Left Shift"
   ]
  },
  {
   "cell_type": "markdown",
   "id": "f2f482ea",
   "metadata": {},
   "source": [
    "# Data Structures"
   ]
  },
  {
   "cell_type": "code",
   "execution_count": 10,
   "id": "5a3558b4",
   "metadata": {},
   "outputs": [
    {
     "name": "stdout",
     "output_type": "stream",
     "text": [
      "Sunitha\n",
      "Sunitha\n"
     ]
    }
   ],
   "source": [
    "## STRINGS\n",
    "print(\"Sunitha\")\n",
    "print ('Sunitha')"
   ]
  },
  {
   "cell_type": "code",
   "execution_count": 12,
   "id": "d9c086d2",
   "metadata": {},
   "outputs": [
    {
     "data": {
      "text/plain": [
       "str"
      ]
     },
     "execution_count": 12,
     "metadata": {},
     "output_type": "execute_result"
    }
   ],
   "source": [
    "str1=\"Sunitha\"\n",
    "type(str1)"
   ]
  },
  {
   "cell_type": "code",
   "execution_count": 13,
   "id": "b018e229",
   "metadata": {},
   "outputs": [
    {
     "ename": "TypeError",
     "evalue": "'str' object does not support item assignment",
     "output_type": "error",
     "traceback": [
      "\u001b[0;31m---------------------------------------------------------------------------\u001b[0m",
      "\u001b[0;31mTypeError\u001b[0m                                 Traceback (most recent call last)",
      "Cell \u001b[0;32mIn[13], line 2\u001b[0m\n\u001b[1;32m      1\u001b[0m \u001b[38;5;66;03m## Immutable that we cannot change inside the string\u001b[39;00m\n\u001b[0;32m----> 2\u001b[0m \u001b[43mstr1\u001b[49m\u001b[43m[\u001b[49m\u001b[38;5;241;43m0\u001b[39;49m\u001b[43m]\u001b[49m\u001b[38;5;241m=\u001b[39m\u001b[38;5;241m12\u001b[39m\n",
      "\u001b[0;31mTypeError\u001b[0m: 'str' object does not support item assignment"
     ]
    }
   ],
   "source": [
    "## Immutable that we cannot change inside the string\n",
    "str1[0]=12"
   ]
  },
  {
   "cell_type": "code",
   "execution_count": 94,
   "id": "3ca6280e",
   "metadata": {},
   "outputs": [],
   "source": [
    "## from the above example we cannot change anything inside the string"
   ]
  },
  {
   "cell_type": "code",
   "execution_count": 14,
   "id": "4c55a4c1",
   "metadata": {},
   "outputs": [],
   "source": [
    "str1=\"Sunitha Kalyan\"   ## we can use \"tab\" to viw all inbuilt functions"
   ]
  },
  {
   "cell_type": "code",
   "execution_count": 15,
   "id": "02d091ad",
   "metadata": {},
   "outputs": [
    {
     "data": {
      "text/plain": [
       "'i'"
      ]
     },
     "execution_count": 15,
     "metadata": {},
     "output_type": "execute_result"
    }
   ],
   "source": [
    "string = \"PW SKills Data Science\"\n",
    "string[5]"
   ]
  },
  {
   "cell_type": "code",
   "execution_count": 98,
   "id": "dd561bf9",
   "metadata": {},
   "outputs": [
    {
     "data": {
      "text/plain": [
       "'ills Data Science'"
      ]
     },
     "execution_count": 98,
     "metadata": {},
     "output_type": "execute_result"
    }
   ],
   "source": [
    "string[5:] ## From 5th letter to entire sentence"
   ]
  },
  {
   "cell_type": "code",
   "execution_count": 99,
   "id": "5a505167",
   "metadata": {},
   "outputs": [
    {
     "data": {
      "text/plain": [
       "'ills D'"
      ]
     },
     "execution_count": 99,
     "metadata": {},
     "output_type": "execute_result"
    }
   ],
   "source": [
    "string[5:11] ## From 5th letter to index 11th character"
   ]
  },
  {
   "cell_type": "code",
   "execution_count": 100,
   "id": "295bc4b5",
   "metadata": {},
   "outputs": [
    {
     "data": {
      "text/plain": [
       "'e'"
      ]
     },
     "execution_count": 100,
     "metadata": {},
     "output_type": "execute_result"
    }
   ],
   "source": [
    "string[-1]  # Last element"
   ]
  },
  {
   "cell_type": "code",
   "execution_count": 101,
   "id": "9d6d4c50",
   "metadata": {},
   "outputs": [
    {
     "data": {
      "text/plain": [
       "'e'"
      ]
     },
     "execution_count": 101,
     "metadata": {},
     "output_type": "execute_result"
    }
   ],
   "source": [
    "string[-1:] "
   ]
  },
  {
   "cell_type": "code",
   "execution_count": 102,
   "id": "c60b3a26",
   "metadata": {},
   "outputs": [
    {
     "data": {
      "text/plain": [
       "'nce'"
      ]
     },
     "execution_count": 102,
     "metadata": {},
     "output_type": "execute_result"
    }
   ],
   "source": [
    "string[-3:]"
   ]
  },
  {
   "cell_type": "code",
   "execution_count": 103,
   "id": "8068bfce",
   "metadata": {},
   "outputs": [
    {
     "data": {
      "text/plain": [
       "'Science'"
      ]
     },
     "execution_count": 103,
     "metadata": {},
     "output_type": "execute_result"
    }
   ],
   "source": [
    "string[-7:]   # Prints last 7 characters"
   ]
  },
  {
   "cell_type": "code",
   "execution_count": 104,
   "id": "de0b05e9",
   "metadata": {},
   "outputs": [
    {
     "data": {
      "text/plain": [
       "''"
      ]
     },
     "execution_count": 104,
     "metadata": {},
     "output_type": "execute_result"
    }
   ],
   "source": [
    "string[-7:5]  # Last element to read it to till 5. So no elements"
   ]
  },
  {
   "cell_type": "code",
   "execution_count": 105,
   "id": "63b9255e",
   "metadata": {},
   "outputs": [
    {
     "data": {
      "text/plain": [
       "''"
      ]
     },
     "execution_count": 105,
     "metadata": {},
     "output_type": "execute_result"
    }
   ],
   "source": [
    "string[7:5]"
   ]
  },
  {
   "cell_type": "code",
   "execution_count": 106,
   "id": "fafa2933",
   "metadata": {},
   "outputs": [
    {
     "data": {
      "text/plain": [
       "'PW SKills Data Scienc'"
      ]
     },
     "execution_count": 106,
     "metadata": {},
     "output_type": "execute_result"
    }
   ],
   "source": [
    "string[:-1]   ## Read everything except the last character"
   ]
  },
  {
   "cell_type": "code",
   "execution_count": 107,
   "id": "f480024a",
   "metadata": {},
   "outputs": [
    {
     "data": {
      "text/plain": [
       "'PW SKills Data Science'"
      ]
     },
     "execution_count": 107,
     "metadata": {},
     "output_type": "execute_result"
    }
   ],
   "source": [
    "string[:] # Reads everything from start to end"
   ]
  },
  {
   "cell_type": "code",
   "execution_count": 108,
   "id": "9ab6a695",
   "metadata": {},
   "outputs": [
    {
     "data": {
      "text/plain": [
       "'ni'"
      ]
     },
     "execution_count": 108,
     "metadata": {},
     "output_type": "execute_result"
    }
   ],
   "source": [
    "name=\"Sunitha\"\n",
    "name[-5:4]"
   ]
  },
  {
   "cell_type": "code",
   "execution_count": 109,
   "id": "0d43efbc",
   "metadata": {},
   "outputs": [
    {
     "data": {
      "text/plain": [
       "'PW SKills Data Science'"
      ]
     },
     "execution_count": 109,
     "metadata": {},
     "output_type": "execute_result"
    }
   ],
   "source": [
    "string"
   ]
  },
  {
   "cell_type": "code",
   "execution_count": 110,
   "id": "5b0f75fc",
   "metadata": {},
   "outputs": [
    {
     "data": {
      "text/plain": [
       "'PW SKills Data Science'"
      ]
     },
     "execution_count": 110,
     "metadata": {},
     "output_type": "execute_result"
    }
   ],
   "source": [
    "string[:]"
   ]
  },
  {
   "cell_type": "code",
   "execution_count": 112,
   "id": "34e01468",
   "metadata": {},
   "outputs": [
    {
     "data": {
      "text/plain": [
       "'ecneicS ataD slliKS WP'"
      ]
     },
     "execution_count": 112,
     "metadata": {},
     "output_type": "execute_result"
    }
   ],
   "source": [
    "string[::-1   ] ## Display in reverse order from last\n",
    "                ## :: is used to reverse the string\n"
   ]
  },
  {
   "cell_type": "code",
   "execution_count": 113,
   "id": "192e00d9",
   "metadata": {},
   "outputs": [
    {
     "data": {
      "text/plain": [
       "'eniSaa liSW'"
      ]
     },
     "execution_count": 113,
     "metadata": {},
     "output_type": "execute_result"
    }
   ],
   "source": [
    "string[::-2]  ## Display every 2nd element in reverse order"
   ]
  },
  {
   "cell_type": "code",
   "execution_count": 114,
   "id": "9fd1ab49",
   "metadata": {},
   "outputs": [
    {
     "data": {
      "text/plain": [
       "'liKS WP'"
      ]
     },
     "execution_count": 114,
     "metadata": {},
     "output_type": "execute_result"
    }
   ],
   "source": [
    "string[6::-1]"
   ]
  },
  {
   "cell_type": "code",
   "execution_count": 115,
   "id": "474b2038",
   "metadata": {},
   "outputs": [
    {
     "data": {
      "text/plain": [
       "'liK'"
      ]
     },
     "execution_count": 115,
     "metadata": {},
     "output_type": "execute_result"
    }
   ],
   "source": [
    "string[6:3:-1]"
   ]
  },
  {
   "cell_type": "code",
   "execution_count": 118,
   "id": "8f16f6e6",
   "metadata": {},
   "outputs": [],
   "source": [
    "## Example 2\n",
    "\n",
    "name=\"Sunitha\"\n"
   ]
  },
  {
   "cell_type": "code",
   "execution_count": 119,
   "id": "4a2f913b",
   "metadata": {},
   "outputs": [
    {
     "data": {
      "text/plain": [
       "'ahtinuS'"
      ]
     },
     "execution_count": 119,
     "metadata": {},
     "output_type": "execute_result"
    }
   ],
   "source": [
    "name[::-1]  ## Reverse the string"
   ]
  },
  {
   "cell_type": "code",
   "execution_count": 120,
   "id": "29df25f4",
   "metadata": {},
   "outputs": [
    {
     "data": {
      "text/plain": [
       "'atnS'"
      ]
     },
     "execution_count": 120,
     "metadata": {},
     "output_type": "execute_result"
    }
   ],
   "source": [
    "name[::-2] ## Reverse every 2nd element"
   ]
  },
  {
   "cell_type": "code",
   "execution_count": 121,
   "id": "065414a2",
   "metadata": {},
   "outputs": [
    {
     "data": {
      "text/plain": [
       "'aiS'"
      ]
     },
     "execution_count": 121,
     "metadata": {},
     "output_type": "execute_result"
    }
   ],
   "source": [
    "name[::-3] ## Reverse every third element"
   ]
  },
  {
   "cell_type": "code",
   "execution_count": 122,
   "id": "7f9fd619",
   "metadata": {},
   "outputs": [
    {
     "data": {
      "text/plain": [
       "'tnS'"
      ]
     },
     "execution_count": 122,
     "metadata": {},
     "output_type": "execute_result"
    }
   ],
   "source": [
    "name[4::-2]   ## starts from 4th element every 2nd element is reversed from Sunitha"
   ]
  },
  {
   "cell_type": "code",
   "execution_count": 123,
   "id": "e553005f",
   "metadata": {},
   "outputs": [
    {
     "data": {
      "text/plain": [
       "'in'"
      ]
     },
     "execution_count": 123,
     "metadata": {},
     "output_type": "execute_result"
    }
   ],
   "source": [
    "name[3:1:-1]"
   ]
  },
  {
   "cell_type": "code",
   "execution_count": 17,
   "id": "dbdb973a",
   "metadata": {},
   "outputs": [],
   "source": [
    "## Example 3\n",
    "## Write in Forward and Backward\n",
    "\n",
    "course=\"Data Science Masters\""
   ]
  },
  {
   "cell_type": "code",
   "execution_count": 18,
   "id": "2ea15d42",
   "metadata": {},
   "outputs": [
    {
     "data": {
      "text/plain": [
       "'Science'"
      ]
     },
     "execution_count": 18,
     "metadata": {},
     "output_type": "execute_result"
    }
   ],
   "source": [
    "course[5:12]"
   ]
  },
  {
   "cell_type": "code",
   "execution_count": 19,
   "id": "45df6139",
   "metadata": {},
   "outputs": [
    {
     "data": {
      "text/plain": [
       "' ecnei'"
      ]
     },
     "execution_count": 19,
     "metadata": {},
     "output_type": "execute_result"
    }
   ],
   "source": [
    "course[12:6:-1]"
   ]
  },
  {
   "cell_type": "code",
   "execution_count": 20,
   "id": "63047f1f",
   "metadata": {},
   "outputs": [
    {
     "data": {
      "text/plain": [
       "' ecneicS'"
      ]
     },
     "execution_count": 20,
     "metadata": {},
     "output_type": "execute_result"
    }
   ],
   "source": [
    "course[12:4:-1]   ## Consider  till 12th Element  that is Data Science\n",
    "                  # Consider 4th Element  Pick up only Science\n",
    "                  # -1 that is reverse element that is \"ecneics\""
   ]
  },
  {
   "cell_type": "code",
   "execution_count": 21,
   "id": "45429a17",
   "metadata": {},
   "outputs": [
    {
     "name": "stdout",
     "output_type": "stream",
     "text": [
      "HelloWorld\n"
     ]
    }
   ],
   "source": [
    "## Concatenation\n",
    "\n",
    "print (\"Hello\" + \"World\")"
   ]
  },
  {
   "cell_type": "code",
   "execution_count": 22,
   "id": "adb99b62",
   "metadata": {},
   "outputs": [
    {
     "data": {
      "text/plain": [
       "'Data Science MastersData Science MastersData Science MastersData Science MastersData Science Masters'"
      ]
     },
     "execution_count": 22,
     "metadata": {},
     "output_type": "execute_result"
    }
   ],
   "source": [
    "course * 5   # Concatenates course name 5 times."
   ]
  },
  {
   "cell_type": "code",
   "execution_count": 23,
   "id": "addb40b6",
   "metadata": {},
   "outputs": [
    {
     "data": {
      "text/plain": [
       "20"
      ]
     },
     "execution_count": 23,
     "metadata": {},
     "output_type": "execute_result"
    }
   ],
   "source": [
    "len(course)  ## Length of Course name "
   ]
  },
  {
   "cell_type": "code",
   "execution_count": 24,
   "id": "8611a774",
   "metadata": {},
   "outputs": [
    {
     "data": {
      "text/plain": [
       "9"
      ]
     },
     "execution_count": 24,
     "metadata": {},
     "output_type": "execute_result"
    }
   ],
   "source": [
    "course.find(\"n\")  ## Find function returns the lowest index in S\n",
    "                  ## That is finds letter 'n' in course name"
   ]
  },
  {
   "cell_type": "code",
   "execution_count": 25,
   "id": "8573c528",
   "metadata": {},
   "outputs": [
    {
     "data": {
      "text/plain": [
       "1"
      ]
     },
     "execution_count": 25,
     "metadata": {},
     "output_type": "execute_result"
    }
   ],
   "source": [
    "course.find(\"a\")   ## Finds letter \"a\""
   ]
  },
  {
   "cell_type": "code",
   "execution_count": 134,
   "id": "0300daab",
   "metadata": {},
   "outputs": [
    {
     "data": {
      "text/plain": [
       "3"
      ]
     },
     "execution_count": 134,
     "metadata": {},
     "output_type": "execute_result"
    }
   ],
   "source": [
    "course.find(\"a\",2,10)   ## Finds \"a\"  from 2nd letter to 10th letter"
   ]
  },
  {
   "cell_type": "code",
   "execution_count": 26,
   "id": "e3d8a58a",
   "metadata": {},
   "outputs": [
    {
     "data": {
      "text/plain": [
       "3"
      ]
     },
     "execution_count": 26,
     "metadata": {},
     "output_type": "execute_result"
    }
   ],
   "source": [
    "## Count() Function\n",
    "\n",
    "course.count('a')   ## Counts how many times letter \"a\" is present"
   ]
  },
  {
   "cell_type": "code",
   "execution_count": 137,
   "id": "38fdc4a5",
   "metadata": {},
   "outputs": [
    {
     "data": {
      "text/plain": [
       "2"
      ]
     },
     "execution_count": 137,
     "metadata": {},
     "output_type": "execute_result"
    }
   ],
   "source": [
    "course.count(' ')   ## Counts the empty spaces in Course variable"
   ]
  },
  {
   "cell_type": "code",
   "execution_count": 139,
   "id": "39ee39be",
   "metadata": {},
   "outputs": [
    {
     "data": {
      "text/plain": [
       "21"
      ]
     },
     "execution_count": 139,
     "metadata": {},
     "output_type": "execute_result"
    }
   ],
   "source": [
    "course.count('')  ## Counts the entire String between ''"
   ]
  },
  {
   "cell_type": "code",
   "execution_count": 143,
   "id": "dab2aba3",
   "metadata": {},
   "outputs": [
    {
     "data": {
      "text/plain": [
       "1"
      ]
     },
     "execution_count": 143,
     "metadata": {},
     "output_type": "execute_result"
    }
   ],
   "source": [
    "course.count('D')"
   ]
  },
  {
   "cell_type": "code",
   "execution_count": 27,
   "id": "54f441c8",
   "metadata": {},
   "outputs": [
    {
     "data": {
      "text/plain": [
       "['Data', 'Science', 'Masters']"
      ]
     },
     "execution_count": 27,
     "metadata": {},
     "output_type": "execute_result"
    }
   ],
   "source": [
    "## String Split Function\n",
    "\n",
    "course.split(' ')   ## Counts the number of sub strings in the entire string declared in course"
   ]
  },
  {
   "cell_type": "code",
   "execution_count": 146,
   "id": "4da67761",
   "metadata": {},
   "outputs": [
    {
     "data": {
      "text/plain": [
       "['Data ', 'cience Masters']"
      ]
     },
     "execution_count": 146,
     "metadata": {},
     "output_type": "execute_result"
    }
   ],
   "source": [
    "course.split('S')   ## Split with \"S\" Letter"
   ]
  },
  {
   "cell_type": "code",
   "execution_count": 28,
   "id": "2ed7d72b",
   "metadata": {},
   "outputs": [
    {
     "data": {
      "text/plain": [
       "['Data Science Ma', 'ter', '']"
      ]
     },
     "execution_count": 28,
     "metadata": {},
     "output_type": "execute_result"
    }
   ],
   "source": [
    "course.split('s')  ## Split with 's' Letter prese in the entire string"
   ]
  },
  {
   "cell_type": "code",
   "execution_count": 148,
   "id": "b3269de3",
   "metadata": {},
   "outputs": [
    {
     "data": {
      "text/plain": [
       "('Data ', 'S', 'cience Masters')"
      ]
     },
     "execution_count": 148,
     "metadata": {},
     "output_type": "execute_result"
    }
   ],
   "source": [
    "course.partition('S')   ## partition will work with the first Letter 'S'"
   ]
  },
  {
   "cell_type": "code",
   "execution_count": 29,
   "id": "497efa6b",
   "metadata": {},
   "outputs": [
    {
     "data": {
      "text/plain": [
       "'DATA SCIENCE MASTERS'"
      ]
     },
     "execution_count": 29,
     "metadata": {},
     "output_type": "execute_result"
    }
   ],
   "source": [
    "## String Upper and Lower Case\n",
    "course.upper()  ## Upper Case"
   ]
  },
  {
   "cell_type": "code",
   "execution_count": 152,
   "id": "f94ef78d",
   "metadata": {},
   "outputs": [
    {
     "data": {
      "text/plain": [
       "'data science masters'"
      ]
     },
     "execution_count": 152,
     "metadata": {},
     "output_type": "execute_result"
    }
   ],
   "source": [
    "course.lower()   ## Lower Case"
   ]
  },
  {
   "cell_type": "code",
   "execution_count": 153,
   "id": "40f5ecbe",
   "metadata": {},
   "outputs": [
    {
     "data": {
      "text/plain": [
       "'dATA sCIENCE mASTERS'"
      ]
     },
     "execution_count": 153,
     "metadata": {},
     "output_type": "execute_result"
    }
   ],
   "source": [
    "course.swapcase()  ## Swap with upper and Lower"
   ]
  },
  {
   "cell_type": "code",
   "execution_count": 30,
   "id": "35825ef4",
   "metadata": {},
   "outputs": [
    {
     "data": {
      "text/plain": [
       "'Data Science Masters'"
      ]
     },
     "execution_count": 30,
     "metadata": {},
     "output_type": "execute_result"
    }
   ],
   "source": [
    "course.title()  ## For every Word in srring the first letter is capital"
   ]
  },
  {
   "cell_type": "code",
   "execution_count": 31,
   "id": "e9c3da0a",
   "metadata": {},
   "outputs": [],
   "source": [
    "##Ex2:\n",
    "\n",
    "course1= \" sunitha i love you\""
   ]
  },
  {
   "cell_type": "code",
   "execution_count": 32,
   "id": "cca8093a",
   "metadata": {},
   "outputs": [
    {
     "data": {
      "text/plain": [
       "' Sunitha I Love You'"
      ]
     },
     "execution_count": 32,
     "metadata": {},
     "output_type": "execute_result"
    }
   ],
   "source": [
    "course1.title()   ## Every first letter is capital in the string given."
   ]
  },
  {
   "cell_type": "code",
   "execution_count": null,
   "id": "cd9b283a",
   "metadata": {},
   "outputs": [],
   "source": []
  }
 ],
 "metadata": {
  "kernelspec": {
   "display_name": "Python 3 (ipykernel)",
   "language": "python",
   "name": "python3"
  },
  "language_info": {
   "codemirror_mode": {
    "name": "ipython",
    "version": 3
   },
   "file_extension": ".py",
   "mimetype": "text/x-python",
   "name": "python",
   "nbconvert_exporter": "python",
   "pygments_lexer": "ipython3",
   "version": "3.10.8"
  }
 },
 "nbformat": 4,
 "nbformat_minor": 5
}
