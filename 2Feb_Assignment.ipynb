{
 "cells": [
  {
   "cell_type": "markdown",
   "id": "72c03f32",
   "metadata": {},
   "source": [
    "## Q1. What are the characteristics of the tuples? Is tuple immutable?\n"
   ]
  },
  {
   "cell_type": "code",
   "execution_count": 1,
   "id": "c347a684",
   "metadata": {},
   "outputs": [],
   "source": [
    "## Tuples are Immutable. We cannot update any element to the existing one \n",
    "## It uses paranthesis and the items in the tuples cannot be modified.\n",
    "## Tupes stores different types of information.\n",
    "## Indexing is possible in Tuples.\n",
    "## Incase of tuples only 2 methods are available. count() and index()\n",
    "## In Tuple we cannot assign new element to the existing."
   ]
  },
  {
   "cell_type": "markdown",
   "id": "88523161",
   "metadata": {},
   "source": [
    "## Q2. What are the two tuple methods in python? Give an example of each method. Give a reason why tuples have only two in-built methods as compared to Lists."
   ]
  },
  {
   "cell_type": "code",
   "execution_count": 2,
   "id": "2a8282a1",
   "metadata": {},
   "outputs": [
    {
     "data": {
      "text/plain": [
       "(1, 2, 3, 4, 'Suni', '4+5j', True)"
      ]
     },
     "execution_count": 2,
     "metadata": {},
     "output_type": "execute_result"
    }
   ],
   "source": [
    "## The two methods available in python() are count() and index()\n",
    "\n",
    "## Example\n",
    "\n",
    "t1 = (1,2,3,4,\"Suni\",\"4+5j\",True)\n",
    "t1"
   ]
  },
  {
   "cell_type": "code",
   "execution_count": 3,
   "id": "b25e8b97",
   "metadata": {},
   "outputs": [
    {
     "data": {
      "text/plain": [
       "tuple"
      ]
     },
     "execution_count": 3,
     "metadata": {},
     "output_type": "execute_result"
    }
   ],
   "source": [
    "type(t1)"
   ]
  },
  {
   "cell_type": "code",
   "execution_count": 4,
   "id": "cac18436",
   "metadata": {},
   "outputs": [
    {
     "data": {
      "text/plain": [
       "2"
      ]
     },
     "execution_count": 4,
     "metadata": {},
     "output_type": "execute_result"
    }
   ],
   "source": [
    "## count() method displays number of occurences in the tuple.\n",
    "\n",
    "t1.count(1)     ## displays 2 because True stores the boolean value. System stores 1 for True."
   ]
  },
  {
   "cell_type": "code",
   "execution_count": 5,
   "id": "52f4c845",
   "metadata": {},
   "outputs": [],
   "source": [
    "## Adding a new element in tuple\n",
    "\n",
    "t1 = t1 + (4,)"
   ]
  },
  {
   "cell_type": "code",
   "execution_count": 6,
   "id": "335a0c51",
   "metadata": {},
   "outputs": [
    {
     "data": {
      "text/plain": [
       "(1, 2, 3, 4, 'Suni', '4+5j', True, 4)"
      ]
     },
     "execution_count": 6,
     "metadata": {},
     "output_type": "execute_result"
    }
   ],
   "source": [
    "t1"
   ]
  },
  {
   "cell_type": "code",
   "execution_count": 7,
   "id": "0657b97d",
   "metadata": {},
   "outputs": [
    {
     "data": {
      "text/plain": [
       "2"
      ]
     },
     "execution_count": 7,
     "metadata": {},
     "output_type": "execute_result"
    }
   ],
   "source": [
    "t1.count(4)"
   ]
  },
  {
   "cell_type": "code",
   "execution_count": 9,
   "id": "b6819102",
   "metadata": {},
   "outputs": [
    {
     "data": {
      "text/plain": [
       "0"
      ]
     },
     "execution_count": 9,
     "metadata": {},
     "output_type": "execute_result"
    }
   ],
   "source": [
    "## Index()  Method is used to give the position.\n",
    "\n",
    "t1.index(1)    ## Index(1) is at 0th element"
   ]
  },
  {
   "cell_type": "code",
   "execution_count": 11,
   "id": "638af5d9",
   "metadata": {},
   "outputs": [
    {
     "data": {
      "text/plain": [
       "3"
      ]
     },
     "execution_count": 11,
     "metadata": {},
     "output_type": "execute_result"
    }
   ],
   "source": [
    "t1.index(4)"
   ]
  },
  {
   "cell_type": "code",
   "execution_count": 13,
   "id": "929b5f05",
   "metadata": {},
   "outputs": [
    {
     "data": {
      "text/plain": [
       "5"
      ]
     },
     "execution_count": 13,
     "metadata": {},
     "output_type": "execute_result"
    }
   ],
   "source": [
    "t1.index('4+5j')"
   ]
  },
  {
   "cell_type": "markdown",
   "id": "66b4e199",
   "metadata": {},
   "source": [
    "## Q.3. Which collection datatypes in python do not allow duplicate items? Write a code using a set to remove duplicates from the given list.\n",
    "\n",
    "##List = [1, 1, 1, 2, 1, 3, 1, 4, 2, 1, 2, 2, 2, 3, 2, 4, 3, 1, 3, 2, 3, 3, 3, 4, 4, 1, 4, 2, 4, 3, 4, 4]"
   ]
  },
  {
   "cell_type": "code",
   "execution_count": 14,
   "id": "9a386924",
   "metadata": {},
   "outputs": [],
   "source": [
    "##In python Sets data types doesn't allow duplicates.\n",
    "##They are an Unordered immutable set of objects which are unique,that do not support duplicated objects . They are not indexed."
   ]
  },
  {
   "cell_type": "code",
   "execution_count": 15,
   "id": "99fcb9c1",
   "metadata": {},
   "outputs": [],
   "source": [
    "##Write a code using a set to remove duplicates from the given list.\n",
    "\n",
    "List1 = [1, 1, 1, 2, 1, 3, 1, 4, 2, 1, 2, 2, 2, 3, 2, 4, 3, 1, 3, 2, 3, 3, 3, 4, 4, 1, 4, 2, 4, 3, 4, 4]"
   ]
  },
  {
   "cell_type": "code",
   "execution_count": 27,
   "id": "4ec1f896",
   "metadata": {},
   "outputs": [
    {
     "name": "stdout",
     "output_type": "stream",
     "text": [
      " Original list:::[1, 1, 1, 2, 1, 3, 1, 4, 2, 1, 2, 2, 2, 3, 2, 4, 3, 1, 3, 2, 3, 3, 3, 4, 4, 1, 4, 2, 4, 3, 4, 4]\n",
      " After removing duplicates from the list::[1, 2, 3, 4]\n"
     ]
    }
   ],
   "source": [
    "List1 = [1, 1, 1, 2, 1, 3, 1, 4, 2, 1, 2, 2, 2, 3, 2, 4, 3, 1, 3, 2, 3, 3, 3, 4, 4, 1, 4, 2, 4, 3, 4, 4]\n",
    "\n",
    "print(\" Original list:::\" + str(List1))   ## Printing list with the original one\n",
    "List1 = list(set(List1))   ## Using set() method to remove duplicates from the given list.\n",
    "\n",
    "print(\" After removing duplicates from the list::\" + str(List1))   ## Printing list with the original one\n",
    "\n",
    "\n"
   ]
  },
  {
   "cell_type": "markdown",
   "id": "6db7c4c5",
   "metadata": {},
   "source": [
    "## Q4. Explain the difference between the union() and update() methods for a set. Give an example of each method."
   ]
  },
  {
   "cell_type": "code",
   "execution_count": 36,
   "id": "f7dc9f1f",
   "metadata": {},
   "outputs": [],
   "source": [
    "## update() Method::  Update a set with the union of itself and others.\n",
    "## The update() method updates the current set, by adding items from another set (or any other iterable). \n",
    "## If an item is present in both sets, only one appearance of this item will be present in the updated set."
   ]
  },
  {
   "cell_type": "code",
   "execution_count": 38,
   "id": "bc959a91",
   "metadata": {},
   "outputs": [],
   "source": [
    "s1 = {\"Apple\",\"Banana\",\"Orange\"}\n",
    "s2 = {\"Grapes\",\"Strawberries\",\"Banana\"}"
   ]
  },
  {
   "cell_type": "code",
   "execution_count": 39,
   "id": "79eba11c",
   "metadata": {},
   "outputs": [
    {
     "name": "stdout",
     "output_type": "stream",
     "text": [
      "{'Apple', 'Grapes', 'Strawberries', 'Banana', 'Orange'}\n"
     ]
    }
   ],
   "source": [
    "\n",
    "\n",
    "s1.update(s2)\n",
    "\n",
    "print(s1)"
   ]
  },
  {
   "cell_type": "code",
   "execution_count": 40,
   "id": "f09f35b2",
   "metadata": {},
   "outputs": [],
   "source": [
    "## union() Method :: The union() method returns a set that contains all items from the original set, and all items from the specified set(s).\n",
    "\n",
    "## You can specify as many sets you want, separated by commas.It does not have to be a set, it can be any iterable object.\n",
    "\n",
    "## If an item is present in more than one set, the result will contain only one appearance of this item."
   ]
  },
  {
   "cell_type": "code",
   "execution_count": 42,
   "id": "9fbdfd48",
   "metadata": {},
   "outputs": [],
   "source": [
    "s1 = {\"Apple\",\"Banana\",\"Orange\"}\n",
    "s2 = {\"Grapes\",\"Strawberries\",\"Banana\"}\n",
    "s3 = {\"Pine-Apple\",\"Kiwis\",\"Grapes\"}"
   ]
  },
  {
   "cell_type": "code",
   "execution_count": 44,
   "id": "90ef5368",
   "metadata": {},
   "outputs": [
    {
     "name": "stdout",
     "output_type": "stream",
     "text": [
      "{'Pine-Apple', 'Apple', 'Kiwis', 'Grapes', 'Strawberries', 'Banana', 'Orange'}\n"
     ]
    }
   ],
   "source": [
    "result = s1.union(s2,s3)\n",
    "print(result)"
   ]
  },
  {
   "cell_type": "code",
   "execution_count": 45,
   "id": "701eb086",
   "metadata": {},
   "outputs": [],
   "source": [
    "## Note:: update() adds all missing elements to the set on which it is called whereas set. union() creates a new set. \n",
    "## Consequently, the return value of set."
   ]
  },
  {
   "cell_type": "markdown",
   "id": "335aa65d",
   "metadata": {},
   "source": [
    "## Q5. What is a dictionary? Give an example. Also, state whether a dictionary is ordered or unordered."
   ]
  },
  {
   "cell_type": "code",
   "execution_count": null,
   "id": "4e6a12a1",
   "metadata": {},
   "outputs": [],
   "source": [
    "## Dictionary is an ordered collection of items. \n",
    "## It stores elements in key/value pairs. Here, keys are unique identifiers that are associated with each value.\n",
    "## Dictionaries are collection of items which is Ordered , changeable and do not allow duplicates.\n",
    "## Dictionary items are presented in key:value pairs, and can be referred to by using the key name.\n",
    "\n",
    "\n",
    "## Keys:  \n",
    "    # Special Characters are not allowed for Keys. \n",
    "    # Lists ,dictionary and Sets are not allowed for keys.\n",
    "    # Tuples are allowed in a key.\n",
    "    \n",
    "## Value:\n",
    "   # Multiple values in List can be allowed in a Value\n",
    "   # Tuples are allowed to declare in Value\n",
    "   # Sets are allowed to declare in Value\n",
    "   # Dictionary  can be allowed in value\n",
    "   # Nested dictionary is allowed in value."
   ]
  },
  {
   "cell_type": "code",
   "execution_count": 46,
   "id": "128dd5e4",
   "metadata": {},
   "outputs": [],
   "source": [
    "dict1 = {\"course\" : \"Data Science\", \"Faculty\" : (\"Sudhanshu\" , \"Krish\") , \"Location\" : [\"pwskills\"]}"
   ]
  },
  {
   "cell_type": "code",
   "execution_count": 47,
   "id": "8691df95",
   "metadata": {},
   "outputs": [
    {
     "data": {
      "text/plain": [
       "{'course': 'Data Science',\n",
       " 'Faculty': ('Sudhanshu', 'Krish'),\n",
       " 'Location': ['pwskills']}"
      ]
     },
     "execution_count": 47,
     "metadata": {},
     "output_type": "execute_result"
    }
   ],
   "source": [
    "dict1"
   ]
  },
  {
   "cell_type": "code",
   "execution_count": 48,
   "id": "005bd0b4",
   "metadata": {},
   "outputs": [
    {
     "data": {
      "text/plain": [
       "'Data Science'"
      ]
     },
     "execution_count": 48,
     "metadata": {},
     "output_type": "execute_result"
    }
   ],
   "source": [
    "dict1[\"course\"]"
   ]
  },
  {
   "cell_type": "code",
   "execution_count": 50,
   "id": "56232af4",
   "metadata": {},
   "outputs": [
    {
     "data": {
      "text/plain": [
       "('Sudhanshu', 'Krish')"
      ]
     },
     "execution_count": 50,
     "metadata": {},
     "output_type": "execute_result"
    }
   ],
   "source": [
    "dict1[\"Faculty\"]"
   ]
  },
  {
   "cell_type": "code",
   "execution_count": 51,
   "id": "6ac5887d",
   "metadata": {},
   "outputs": [],
   "source": [
    "## We can update the dictionary\n",
    "\n",
    "dict1[\"Experience\"] = [10]"
   ]
  },
  {
   "cell_type": "code",
   "execution_count": 52,
   "id": "cd1e411e",
   "metadata": {},
   "outputs": [
    {
     "data": {
      "text/plain": [
       "{'course': 'Data Science',\n",
       " 'Faculty': ('Sudhanshu', 'Krish'),\n",
       " 'Location': ['pwskills'],\n",
       " 'Experience': [10]}"
      ]
     },
     "execution_count": 52,
     "metadata": {},
     "output_type": "execute_result"
    }
   ],
   "source": [
    "dict1"
   ]
  },
  {
   "cell_type": "code",
   "execution_count": 55,
   "id": "eaf409ba",
   "metadata": {},
   "outputs": [
    {
     "name": "stdout",
     "output_type": "stream",
     "text": [
      "dict_keys(['course', 'Faculty', 'Location', 'Experience'])\n",
      "dict_values(['Data Science', ('Sudhanshu', 'Krish'), ['pwskills'], [10]])\n"
     ]
    }
   ],
   "source": [
    "## Extracting the keys and values from the dictionary \n",
    "\n",
    "print(dict1.keys())\n",
    "print(dict1.values())"
   ]
  },
  {
   "cell_type": "code",
   "execution_count": 63,
   "id": "b6495cae",
   "metadata": {},
   "outputs": [
    {
     "data": {
      "text/plain": [
       "1"
      ]
     },
     "execution_count": 63,
     "metadata": {},
     "output_type": "execute_result"
    }
   ],
   "source": [
    "## Length of the dictionary\n",
    "\n",
    "len(dict1[\"Faculty\"])"
   ]
  },
  {
   "cell_type": "code",
   "execution_count": 64,
   "id": "2bf9b502",
   "metadata": {},
   "outputs": [
    {
     "data": {
      "text/plain": [
       "[('course', 'Data Science'),\n",
       " ('Faculty', ('Sudhanshu', 'Krish')),\n",
       " ('Location', ['pwskills']),\n",
       " ('Experience', [10])]"
      ]
     },
     "execution_count": 64,
     "metadata": {},
     "output_type": "execute_result"
    }
   ],
   "source": [
    "## display all the items() in the dictionary\n",
    "\n",
    "list(dict1.items())\n"
   ]
  },
  {
   "cell_type": "markdown",
   "id": "7478c3c1",
   "metadata": {},
   "source": [
    "## Q6. Can we create a nested dictionary? If so, please give an example by creating a simple one-level "
   ]
  },
  {
   "cell_type": "code",
   "execution_count": 74,
   "id": "a635d478",
   "metadata": {},
   "outputs": [],
   "source": [
    "## Yes, we can create a Nested Dictionary. Dictionary is an ordered collection of items. \n",
    "## It stores elements in key/value pairs. Here, keys are unique identifiers that are associated with each value.\n",
    "\n",
    "## For keys Nested Dictionary is not allowed. But for Values Nested dictionary is allowed.\n",
    "## Nested Dictionary:  A dictionary declared inside another dictionary.\n",
    "\n",
    "dict2 = {\"Fruits\" : (\"Apple\", \"Banana\" ,\"Orange\") , \"Veggies\" : {\"name\" : \"Tomato\" , \"Colour\" : \"Red\"}}\n",
    "         \n",
    "        ## Note: From the above example Veggies is decalred as a Nested Dictionary.\n",
    "         "
   ]
  },
  {
   "cell_type": "code",
   "execution_count": 75,
   "id": "dc1d502b",
   "metadata": {},
   "outputs": [
    {
     "data": {
      "text/plain": [
       "{'Fruits': ('Apple', 'Banana', 'Orange'),\n",
       " 'Veggies': {'name': 'Tomato', 'Colour': 'Red'}}"
      ]
     },
     "execution_count": 75,
     "metadata": {},
     "output_type": "execute_result"
    }
   ],
   "source": [
    "dict2"
   ]
  },
  {
   "cell_type": "code",
   "execution_count": 76,
   "id": "0fa09d7c",
   "metadata": {},
   "outputs": [
    {
     "data": {
      "text/plain": [
       "('Apple', 'Banana', 'Orange')"
      ]
     },
     "execution_count": 76,
     "metadata": {},
     "output_type": "execute_result"
    }
   ],
   "source": [
    "dict2[\"Fruits\"]"
   ]
  },
  {
   "cell_type": "code",
   "execution_count": 77,
   "id": "565c3bdc",
   "metadata": {},
   "outputs": [
    {
     "data": {
      "text/plain": [
       "{'name': 'Tomato', 'Colour': 'Red'}"
      ]
     },
     "execution_count": 77,
     "metadata": {},
     "output_type": "execute_result"
    }
   ],
   "source": [
    "dict2[\"Veggies\"]"
   ]
  },
  {
   "cell_type": "markdown",
   "id": "bdf84d2d",
   "metadata": {},
   "source": [
    "## Q7. Using setdefault() method, create key named topics in the given dictionary and also add the value of \n",
    "the key as this list ['Python', 'Machine Learning’, 'Deep Learning'] \n",
    "dict1 = {'language' : 'Python', 'course': 'Data Science Masters'}"
   ]
  },
  {
   "cell_type": "code",
   "execution_count": 78,
   "id": "67677054",
   "metadata": {},
   "outputs": [],
   "source": [
    "## setdefault() Method:: Returns the value of the specified key. \n",
    "## If the key does not exist: insert the key, with the specified value\n",
    "## syntax= dictionary.setdefault(keyname, value)"
   ]
  },
  {
   "cell_type": "code",
   "execution_count": 81,
   "id": "934edfb0",
   "metadata": {},
   "outputs": [],
   "source": [
    "dict1 = {\"language\" : \"Python\", \"course\" : \"Data Science Masters\"}"
   ]
  },
  {
   "cell_type": "code",
   "execution_count": 82,
   "id": "77a211f2",
   "metadata": {},
   "outputs": [
    {
     "data": {
      "text/plain": [
       "{'language': 'Python', 'course': 'Data Science Masters'}"
      ]
     },
     "execution_count": 82,
     "metadata": {},
     "output_type": "execute_result"
    }
   ],
   "source": [
    "dict1"
   ]
  },
  {
   "cell_type": "code",
   "execution_count": 83,
   "id": "7ad84e6b",
   "metadata": {},
   "outputs": [],
   "source": [
    "## Add Values to the dictionary\n",
    "\n",
    "dict1[\"course\"] = {\"Python\",\"Machine Learning\", \"Deep Learning\"}"
   ]
  },
  {
   "cell_type": "code",
   "execution_count": 84,
   "id": "476cf350",
   "metadata": {},
   "outputs": [
    {
     "data": {
      "text/plain": [
       "{'language': 'Python',\n",
       " 'course': {'Deep Learning', 'Machine Learning', 'Python'}}"
      ]
     },
     "execution_count": 84,
     "metadata": {},
     "output_type": "execute_result"
    }
   ],
   "source": [
    "dict1"
   ]
  },
  {
   "cell_type": "code",
   "execution_count": 85,
   "id": "1bcb45e0",
   "metadata": {},
   "outputs": [
    {
     "data": {
      "text/plain": [
       "'Python'"
      ]
     },
     "execution_count": 85,
     "metadata": {},
     "output_type": "execute_result"
    }
   ],
   "source": [
    "dict1.setdefault(\"language\" , \"R-Prog\")"
   ]
  },
  {
   "cell_type": "code",
   "execution_count": 92,
   "id": "10ca4e5f",
   "metadata": {},
   "outputs": [
    {
     "data": {
      "text/plain": [
       "'Sudhanshu'"
      ]
     },
     "execution_count": 92,
     "metadata": {},
     "output_type": "execute_result"
    }
   ],
   "source": [
    "dict1.setdefault(\"Faculty\",\"Sudhanshu\")"
   ]
  },
  {
   "cell_type": "code",
   "execution_count": 93,
   "id": "cd222eaa",
   "metadata": {},
   "outputs": [
    {
     "data": {
      "text/plain": [
       "{'language': 'Python',\n",
       " 'course': {'Deep Learning', 'Machine Learning', 'Python'},\n",
       " 'Faculty': 'Sudhanshu'}"
      ]
     },
     "execution_count": 93,
     "metadata": {},
     "output_type": "execute_result"
    }
   ],
   "source": [
    "dict1    ## Faculty \"Sudhanshu is added by default\""
   ]
  },
  {
   "cell_type": "markdown",
   "id": "8e117540",
   "metadata": {},
   "source": [
    "### Q8. What are the three view objects in dictionaries? Use the three in-built methods in python to display \n",
    "these three view objects for the given dictionary.\n",
    "\n",
    "dict1 = {'Sport': 'Cricket' , 'Teams': ['India', 'Australia', 'England', 'South Africa', 'Sri Lanka', 'New Zealand']"
   ]
  },
  {
   "cell_type": "code",
   "execution_count": 95,
   "id": "6c485e5e",
   "metadata": {},
   "outputs": [],
   "source": [
    "## The three view objects in dictionaries are dict.keys(), dict.values(), dict.items()\n",
    "\n",
    "dict1 = {'Sport': 'Cricket' , 'Teams': ['India', 'Australia', 'England', 'South Africa', 'Sri Lanka', 'New Zealand']}"
   ]
  },
  {
   "cell_type": "code",
   "execution_count": 96,
   "id": "343601ea",
   "metadata": {},
   "outputs": [
    {
     "data": {
      "text/plain": [
       "{'Sport': 'Cricket',\n",
       " 'Teams': ['India',\n",
       "  'Australia',\n",
       "  'England',\n",
       "  'South Africa',\n",
       "  'Sri Lanka',\n",
       "  'New Zealand']}"
      ]
     },
     "execution_count": 96,
     "metadata": {},
     "output_type": "execute_result"
    }
   ],
   "source": [
    "dict1"
   ]
  },
  {
   "cell_type": "code",
   "execution_count": 97,
   "id": "ed77c222",
   "metadata": {},
   "outputs": [
    {
     "data": {
      "text/plain": [
       "dict_keys(['Sport', 'Teams'])"
      ]
     },
     "execution_count": 97,
     "metadata": {},
     "output_type": "execute_result"
    }
   ],
   "source": [
    "## View Keys\n",
    "\n",
    "dict1.keys()"
   ]
  },
  {
   "cell_type": "code",
   "execution_count": 98,
   "id": "4fa36193",
   "metadata": {},
   "outputs": [
    {
     "data": {
      "text/plain": [
       "dict_values(['Cricket', ['India', 'Australia', 'England', 'South Africa', 'Sri Lanka', 'New Zealand']])"
      ]
     },
     "execution_count": 98,
     "metadata": {},
     "output_type": "execute_result"
    }
   ],
   "source": [
    "## View Values\n",
    "\n",
    "dict1.values()"
   ]
  },
  {
   "cell_type": "code",
   "execution_count": 99,
   "id": "e05c584f",
   "metadata": {},
   "outputs": [
    {
     "data": {
      "text/plain": [
       "dict_items([('Sport', 'Cricket'), ('Teams', ['India', 'Australia', 'England', 'South Africa', 'Sri Lanka', 'New Zealand'])])"
      ]
     },
     "execution_count": 99,
     "metadata": {},
     "output_type": "execute_result"
    }
   ],
   "source": [
    "## View items\n",
    "\n",
    "dict1.items()"
   ]
  },
  {
   "cell_type": "markdown",
   "id": "cb204eb3",
   "metadata": {},
   "source": [
    "   ##############################################################################################################"
   ]
  }
 ],
 "metadata": {
  "kernelspec": {
   "display_name": "Python 3",
   "language": "python",
   "name": "python3"
  },
  "language_info": {
   "codemirror_mode": {
    "name": "ipython",
    "version": 3
   },
   "file_extension": ".py",
   "mimetype": "text/x-python",
   "name": "python",
   "nbconvert_exporter": "python",
   "pygments_lexer": "ipython3",
   "version": "3.8.8"
  }
 },
 "nbformat": 4,
 "nbformat_minor": 5
}
