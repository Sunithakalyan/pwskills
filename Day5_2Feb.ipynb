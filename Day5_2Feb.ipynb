{
 "cells": [
  {
   "cell_type": "markdown",
   "id": "3ef8a8de",
   "metadata": {},
   "source": [
    "## TUPLES"
   ]
  },
  {
   "cell_type": "code",
   "execution_count": 1,
   "id": "429d4f50",
   "metadata": {},
   "outputs": [],
   "source": [
    "## We can able to process the information same like Lists.\n",
    "## We should use ( )\n",
    "\n",
    "t = ()\n"
   ]
  },
  {
   "cell_type": "code",
   "execution_count": 2,
   "id": "4aa3cdf4",
   "metadata": {},
   "outputs": [
    {
     "data": {
      "text/plain": [
       "tuple"
      ]
     },
     "execution_count": 2,
     "metadata": {},
     "output_type": "execute_result"
    }
   ],
   "source": [
    "type(t)"
   ]
  },
  {
   "cell_type": "code",
   "execution_count": 3,
   "id": "be060665",
   "metadata": {},
   "outputs": [],
   "source": [
    "t1=(1,2,3,4.5,\"Suni\",45+7j, True)   # Tuple stores different types of information"
   ]
  },
  {
   "cell_type": "code",
   "execution_count": 4,
   "id": "15f7fa18",
   "metadata": {},
   "outputs": [
    {
     "data": {
      "text/plain": [
       "tuple"
      ]
     },
     "execution_count": 4,
     "metadata": {},
     "output_type": "execute_result"
    }
   ],
   "source": [
    "type(t1)"
   ]
  },
  {
   "cell_type": "code",
   "execution_count": 5,
   "id": "d0bf3c02",
   "metadata": {},
   "outputs": [],
   "source": [
    "## Difference between Lists and Tuples\n",
    "## Lists = [ ]\n",
    "## Tuple = ( )\n"
   ]
  },
  {
   "cell_type": "code",
   "execution_count": 6,
   "id": "7ba75a4f",
   "metadata": {},
   "outputs": [
    {
     "data": {
      "text/plain": [
       "list"
      ]
     },
     "execution_count": 6,
     "metadata": {},
     "output_type": "execute_result"
    }
   ],
   "source": [
    "l1= [ 1,2,3,4]\n",
    "type(l1)"
   ]
  },
  {
   "cell_type": "code",
   "execution_count": 7,
   "id": "f8316154",
   "metadata": {},
   "outputs": [
    {
     "data": {
      "text/plain": [
       "(1, 2, 3, 4.5, 'Suni', (45+7j), True)"
      ]
     },
     "execution_count": 7,
     "metadata": {},
     "output_type": "execute_result"
    }
   ],
   "source": [
    "t1\n"
   ]
  },
  {
   "cell_type": "code",
   "execution_count": 8,
   "id": "29b15dff",
   "metadata": {},
   "outputs": [
    {
     "data": {
      "text/plain": [
       "1"
      ]
     },
     "execution_count": 8,
     "metadata": {},
     "output_type": "execute_result"
    }
   ],
   "source": [
    "t1[0]    ## Indexing is possible in Tuples"
   ]
  },
  {
   "cell_type": "code",
   "execution_count": 9,
   "id": "872fc4b1",
   "metadata": {},
   "outputs": [
    {
     "data": {
      "text/plain": [
       "'Suni'"
      ]
     },
     "execution_count": 9,
     "metadata": {},
     "output_type": "execute_result"
    }
   ],
   "source": [
    "t1[4]"
   ]
  },
  {
   "cell_type": "code",
   "execution_count": 11,
   "id": "201da240",
   "metadata": {},
   "outputs": [
    {
     "data": {
      "text/plain": [
       "(True, (45+7j), 'Suni', 4.5, 3, 2, 1)"
      ]
     },
     "execution_count": 11,
     "metadata": {},
     "output_type": "execute_result"
    }
   ],
   "source": [
    "t1[::-1]   ## :: is used to display in reverse order"
   ]
  },
  {
   "cell_type": "code",
   "execution_count": 12,
   "id": "2fe7e59c",
   "metadata": {},
   "outputs": [],
   "source": [
    "t2=t1[::-1]   ## Reassigning t1 to t2"
   ]
  },
  {
   "cell_type": "code",
   "execution_count": 13,
   "id": "ade3e3b0",
   "metadata": {},
   "outputs": [
    {
     "data": {
      "text/plain": [
       "(True, (45+7j), 'Suni', 4.5, 3, 2, 1)"
      ]
     },
     "execution_count": 13,
     "metadata": {},
     "output_type": "execute_result"
    }
   ],
   "source": [
    "t2"
   ]
  },
  {
   "cell_type": "code",
   "execution_count": 15,
   "id": "8f8ccf7e",
   "metadata": {},
   "outputs": [
    {
     "data": {
      "text/plain": [
       "(True, (45+7j), 'Suni', 4.5, 3, 2, 1)"
      ]
     },
     "execution_count": 15,
     "metadata": {},
     "output_type": "execute_result"
    }
   ],
   "source": [
    "t2"
   ]
  },
  {
   "cell_type": "code",
   "execution_count": 16,
   "id": "936168cf",
   "metadata": {},
   "outputs": [
    {
     "data": {
      "text/plain": [
       "(True, (45+7j), 'Suni')"
      ]
     },
     "execution_count": 16,
     "metadata": {},
     "output_type": "execute_result"
    }
   ],
   "source": [
    "## Slicing operation in tuple to extract some part of the information\n",
    "\n",
    "t2[0:3]   ## Extract the first 3 elements"
   ]
  },
  {
   "cell_type": "markdown",
   "id": "a1d028b0",
   "metadata": {},
   "source": [
    "## Incase of Tuples only 2 methods are available.  1) count() and  2)index()\n",
    "## Incase of Lists many methods are available"
   ]
  },
  {
   "cell_type": "code",
   "execution_count": 17,
   "id": "5af3cc87",
   "metadata": {},
   "outputs": [
    {
     "data": {
      "text/plain": [
       "(True, (45+7j), 'Suni', 4.5, 3, 2, 1)"
      ]
     },
     "execution_count": 17,
     "metadata": {},
     "output_type": "execute_result"
    }
   ],
   "source": [
    "## count() method displays number of occurences\n",
    "\n",
    "t2"
   ]
  },
  {
   "cell_type": "code",
   "execution_count": 18,
   "id": "8cb4985e",
   "metadata": {},
   "outputs": [
    {
     "data": {
      "text/plain": [
       "1"
      ]
     },
     "execution_count": 18,
     "metadata": {},
     "output_type": "execute_result"
    }
   ],
   "source": [
    "t2.count(3)    ## Displays how many times 3 is occured in Tuple"
   ]
  },
  {
   "cell_type": "code",
   "execution_count": 20,
   "id": "5410e5db",
   "metadata": {},
   "outputs": [],
   "source": [
    "t2=t2 + (1,)  ## appending an element 1 in the tuple.\n",
    "              ## There is no append() method in tuple"
   ]
  },
  {
   "cell_type": "code",
   "execution_count": 21,
   "id": "5a1f00fd",
   "metadata": {},
   "outputs": [
    {
     "data": {
      "text/plain": [
       "(True, (45+7j), 'Suni', 4.5, 3, 2, 1, 1)"
      ]
     },
     "execution_count": 21,
     "metadata": {},
     "output_type": "execute_result"
    }
   ],
   "source": [
    "t2"
   ]
  },
  {
   "cell_type": "code",
   "execution_count": 25,
   "id": "d8568c9a",
   "metadata": {},
   "outputs": [
    {
     "data": {
      "text/plain": [
       "3"
      ]
     },
     "execution_count": 25,
     "metadata": {},
     "output_type": "execute_result"
    }
   ],
   "source": [
    "t2.count(1)"
   ]
  },
  {
   "cell_type": "code",
   "execution_count": 28,
   "id": "ca60d237",
   "metadata": {},
   "outputs": [
    {
     "data": {
      "text/plain": [
       "1"
      ]
     },
     "execution_count": 28,
     "metadata": {},
     "output_type": "execute_result"
    }
   ],
   "source": [
    "t2.count('Suni')"
   ]
  },
  {
   "cell_type": "code",
   "execution_count": 29,
   "id": "d9f196eb",
   "metadata": {},
   "outputs": [],
   "source": [
    "t2=t2+ (3,)"
   ]
  },
  {
   "cell_type": "code",
   "execution_count": 30,
   "id": "cda34bbf",
   "metadata": {},
   "outputs": [
    {
     "data": {
      "text/plain": [
       "(True, (45+7j), 'Suni', 4.5, 3, 2, 1, 1, 3)"
      ]
     },
     "execution_count": 30,
     "metadata": {},
     "output_type": "execute_result"
    }
   ],
   "source": [
    "t2"
   ]
  },
  {
   "cell_type": "code",
   "execution_count": 31,
   "id": "60e2722e",
   "metadata": {},
   "outputs": [
    {
     "data": {
      "text/plain": [
       "2"
      ]
     },
     "execution_count": 31,
     "metadata": {},
     "output_type": "execute_result"
    }
   ],
   "source": [
    "t2.count(3)"
   ]
  },
  {
   "cell_type": "code",
   "execution_count": 38,
   "id": "f32449db",
   "metadata": {},
   "outputs": [
    {
     "data": {
      "text/plain": [
       "3"
      ]
     },
     "execution_count": 38,
     "metadata": {},
     "output_type": "execute_result"
    }
   ],
   "source": [
    "t2.count(True)  ## We have True only once but the output is 3 because internally the system stores True=1 so overall count=3"
   ]
  },
  {
   "cell_type": "code",
   "execution_count": 33,
   "id": "209ed491",
   "metadata": {},
   "outputs": [
    {
     "data": {
      "text/plain": [
       "0"
      ]
     },
     "execution_count": 33,
     "metadata": {},
     "output_type": "execute_result"
    }
   ],
   "source": [
    "## index() method is used to give the position\n",
    "\n",
    "t2.index(1)     ## first element is True. System stores 1 for True. The index of True is 0th element"
   ]
  },
  {
   "cell_type": "code",
   "execution_count": 35,
   "id": "d1626b86",
   "metadata": {},
   "outputs": [
    {
     "data": {
      "text/plain": [
       "1"
      ]
     },
     "execution_count": 35,
     "metadata": {},
     "output_type": "execute_result"
    }
   ],
   "source": [
    "t2.index(45+7j)"
   ]
  },
  {
   "cell_type": "code",
   "execution_count": 37,
   "id": "0059fa5e",
   "metadata": {},
   "outputs": [
    {
     "data": {
      "text/plain": [
       "2"
      ]
     },
     "execution_count": 37,
     "metadata": {},
     "output_type": "execute_result"
    }
   ],
   "source": [
    "t2.index('Suni')"
   ]
  },
  {
   "cell_type": "code",
   "execution_count": 39,
   "id": "34cb32ac",
   "metadata": {},
   "outputs": [
    {
     "data": {
      "text/plain": [
       "(True, (45+7j), 'Suni', 4.5, 3, 2, 1, 1, 3)"
      ]
     },
     "execution_count": 39,
     "metadata": {},
     "output_type": "execute_result"
    }
   ],
   "source": [
    "## The major difference between Tuple and List is \n",
    "## In Tuple we cannot assign new element to the existing\n",
    "## In List we can assign new element to the existing\n",
    "\n",
    "t2"
   ]
  },
  {
   "cell_type": "code",
   "execution_count": 40,
   "id": "6d132078",
   "metadata": {},
   "outputs": [
    {
     "data": {
      "text/plain": [
       "True"
      ]
     },
     "execution_count": 40,
     "metadata": {},
     "output_type": "execute_result"
    }
   ],
   "source": [
    "t2[0]"
   ]
  },
  {
   "cell_type": "code",
   "execution_count": 41,
   "id": "4afc0362",
   "metadata": {},
   "outputs": [
    {
     "ename": "TypeError",
     "evalue": "'tuple' object does not support item assignment",
     "output_type": "error",
     "traceback": [
      "\u001b[1;31m---------------------------------------------------------------------------\u001b[0m",
      "\u001b[1;31mTypeError\u001b[0m                                 Traceback (most recent call last)",
      "\u001b[1;32m<ipython-input-41-bc80badc1ab4>\u001b[0m in \u001b[0;36m<module>\u001b[1;34m\u001b[0m\n\u001b[1;32m----> 1\u001b[1;33m \u001b[0mt2\u001b[0m\u001b[1;33m[\u001b[0m\u001b[1;36m0\u001b[0m\u001b[1;33m]\u001b[0m \u001b[1;33m=\u001b[0m \u001b[1;36m345\u001b[0m\u001b[1;33m\u001b[0m\u001b[1;33m\u001b[0m\u001b[0m\n\u001b[0m",
      "\u001b[1;31mTypeError\u001b[0m: 'tuple' object does not support item assignment"
     ]
    }
   ],
   "source": [
    "t2[0] = 345   ## Which is an error. As we cannot assign a new element to the existing in Tuple."
   ]
  },
  {
   "cell_type": "code",
   "execution_count": 42,
   "id": "4e613c87",
   "metadata": {},
   "outputs": [
    {
     "data": {
      "text/plain": [
       "[1, 2, 3, 4]"
      ]
     },
     "execution_count": 42,
     "metadata": {},
     "output_type": "execute_result"
    }
   ],
   "source": [
    "l1"
   ]
  },
  {
   "cell_type": "code",
   "execution_count": 43,
   "id": "dfec6ddf",
   "metadata": {},
   "outputs": [
    {
     "data": {
      "text/plain": [
       "1"
      ]
     },
     "execution_count": 43,
     "metadata": {},
     "output_type": "execute_result"
    }
   ],
   "source": [
    "l1[0]"
   ]
  },
  {
   "cell_type": "code",
   "execution_count": 44,
   "id": "e054801a",
   "metadata": {},
   "outputs": [],
   "source": [
    "l1[0] = 100   ## Assigning a new element to the existing one in List\n"
   ]
  },
  {
   "cell_type": "code",
   "execution_count": 45,
   "id": "1981b08b",
   "metadata": {},
   "outputs": [
    {
     "data": {
      "text/plain": [
       "[100, 2, 3, 4]"
      ]
     },
     "execution_count": 45,
     "metadata": {},
     "output_type": "execute_result"
    }
   ],
   "source": [
    "l1     ### 1 is replced with new element 100"
   ]
  },
  {
   "cell_type": "code",
   "execution_count": 46,
   "id": "a03139bd",
   "metadata": {},
   "outputs": [],
   "source": [
    "###  NOTE\n",
    "### Tuples are IMMUTABLE:: We cannot update any element at any point of time in Tuple\n",
    "### Lists are MUTABLE ::  We can update any element at any point of time in Lists"
   ]
  },
  {
   "cell_type": "code",
   "execution_count": 47,
   "id": "1f023d45",
   "metadata": {},
   "outputs": [
    {
     "name": "stdout",
     "output_type": "stream",
     "text": [
      "True\n",
      "(45+7j)\n",
      "Suni\n",
      "4.5\n",
      "3\n",
      "2\n",
      "1\n",
      "1\n",
      "3\n"
     ]
    }
   ],
   "source": [
    "## Iterate the elements in Tuple using For Loop\n",
    "\n",
    "for i in t2:\n",
    "    print(i)"
   ]
  },
  {
   "cell_type": "code",
   "execution_count": 48,
   "id": "5fc96cfc",
   "metadata": {},
   "outputs": [
    {
     "name": "stdout",
     "output_type": "stream",
     "text": [
      "True <class 'bool'>\n",
      "(45+7j) <class 'complex'>\n",
      "Suni <class 'str'>\n",
      "4.5 <class 'float'>\n",
      "3 <class 'int'>\n",
      "2 <class 'int'>\n",
      "1 <class 'int'>\n",
      "1 <class 'int'>\n",
      "3 <class 'int'>\n"
     ]
    }
   ],
   "source": [
    "## Iterate the elements in Tuple using For Loop with respect to data types\n",
    "\n",
    "for i in t2:\n",
    "    print(i, type(i))"
   ]
  },
  {
   "cell_type": "code",
   "execution_count": 49,
   "id": "3a920a80",
   "metadata": {},
   "outputs": [
    {
     "name": "stdout",
     "output_type": "stream",
     "text": [
      "(1, 3, 4, 5, 5, 6)\n"
     ]
    }
   ],
   "source": [
    "## Different methods in Tuple\n",
    "\n",
    "t3=(1,3,4,5,5,6)\n",
    "print(t3)"
   ]
  },
  {
   "cell_type": "code",
   "execution_count": 54,
   "id": "102d2865",
   "metadata": {},
   "outputs": [
    {
     "data": {
      "text/plain": [
       "1"
      ]
     },
     "execution_count": 54,
     "metadata": {},
     "output_type": "execute_result"
    }
   ],
   "source": [
    "max(t3)\n",
    "min(t3)"
   ]
  },
  {
   "cell_type": "code",
   "execution_count": 58,
   "id": "ac497c51",
   "metadata": {},
   "outputs": [
    {
     "name": "stdout",
     "output_type": "stream",
     "text": [
      "2\n",
      "0\n"
     ]
    },
    {
     "data": {
      "text/plain": [
       "(1, 3, 4, 5, 5, 6, 1, 3, 4, 5, 5, 6, 1, 3, 4, 5, 5, 6, 1, 3, 4, 5, 5, 6)"
      ]
     },
     "execution_count": 58,
     "metadata": {},
     "output_type": "execute_result"
    }
   ],
   "source": [
    "print(t3.count(5))\n",
    "print(t3.index(1))\n",
    "t3 * 4\n",
    "\n"
   ]
  },
  {
   "cell_type": "code",
   "execution_count": 59,
   "id": "45922d55",
   "metadata": {},
   "outputs": [
    {
     "data": {
      "text/plain": [
       "((1, 2, 3, 4), (5, 6, 7, 8))"
      ]
     },
     "execution_count": 59,
     "metadata": {},
     "output_type": "execute_result"
    }
   ],
   "source": [
    "## Tuple inside the tuple\n",
    "## We can store 2 or more tuples in one Tuple\n",
    "\n",
    "t1=(1,2,3,4)\n",
    "t2=(5,6,7,8)\n",
    "\n",
    "t3=(t1,t2)\n",
    "t3"
   ]
  },
  {
   "cell_type": "code",
   "execution_count": 60,
   "id": "a5835def",
   "metadata": {},
   "outputs": [
    {
     "data": {
      "text/plain": [
       "((1, 2, 3, 4, 5), [6, 7, 8, 9, 10])"
      ]
     },
     "execution_count": 60,
     "metadata": {},
     "output_type": "execute_result"
    }
   ],
   "source": [
    "## We can also store Tuples and Lists together in one Tuple\n",
    "\n",
    "t4=(1,2,3,4,5)   #Tuple\n",
    "t5=[6,7,8,9,10]  #List\n",
    "\n",
    "t6=(t4,t5)\n",
    "t6"
   ]
  },
  {
   "cell_type": "code",
   "execution_count": 61,
   "id": "867973ee",
   "metadata": {},
   "outputs": [],
   "source": [
    "## We can delete a particular tuple. Updation is not possible but deletion we can do\n",
    "\n",
    "del t4\n"
   ]
  },
  {
   "cell_type": "code",
   "execution_count": 62,
   "id": "8f75264c",
   "metadata": {},
   "outputs": [
    {
     "ename": "NameError",
     "evalue": "name 't4' is not defined",
     "output_type": "error",
     "traceback": [
      "\u001b[1;31m---------------------------------------------------------------------------\u001b[0m",
      "\u001b[1;31mNameError\u001b[0m                                 Traceback (most recent call last)",
      "\u001b[1;32m<ipython-input-62-7e8198522aa2>\u001b[0m in \u001b[0;36m<module>\u001b[1;34m\u001b[0m\n\u001b[1;32m----> 1\u001b[1;33m \u001b[0mt4\u001b[0m\u001b[1;33m\u001b[0m\u001b[1;33m\u001b[0m\u001b[0m\n\u001b[0m",
      "\u001b[1;31mNameError\u001b[0m: name 't4' is not defined"
     ]
    }
   ],
   "source": [
    "t4    ## Tuple t4 is delelted by del keyword"
   ]
  },
  {
   "cell_type": "code",
   "execution_count": 63,
   "id": "65feb702",
   "metadata": {},
   "outputs": [
    {
     "data": {
      "text/plain": [
       "4"
      ]
     },
     "execution_count": 63,
     "metadata": {},
     "output_type": "execute_result"
    }
   ],
   "source": [
    "## We can also dieplay the number of elements present in each tuple by len function\n",
    "\n",
    "len(t1)   ## 4 elements are present in t1 tuple"
   ]
  },
  {
   "cell_type": "code",
   "execution_count": 64,
   "id": "5825010d",
   "metadata": {},
   "outputs": [
    {
     "data": {
      "text/plain": [
       "(1, 2, 3, 4)"
      ]
     },
     "execution_count": 64,
     "metadata": {},
     "output_type": "execute_result"
    }
   ],
   "source": [
    "## We can check whether a particular element is present in Tuple or not. It displays True if Present otherwise False.\n",
    "\n",
    "t1"
   ]
  },
  {
   "cell_type": "code",
   "execution_count": 65,
   "id": "ba1baedd",
   "metadata": {},
   "outputs": [
    {
     "data": {
      "text/plain": [
       "True"
      ]
     },
     "execution_count": 65,
     "metadata": {},
     "output_type": "execute_result"
    }
   ],
   "source": [
    "1 in t1    ## Returns True as 1 is present in T1"
   ]
  },
  {
   "cell_type": "code",
   "execution_count": 66,
   "id": "7e26e276",
   "metadata": {},
   "outputs": [
    {
     "data": {
      "text/plain": [
       "False"
      ]
     },
     "execution_count": 66,
     "metadata": {},
     "output_type": "execute_result"
    }
   ],
   "source": [
    "5 in t1     ## Returns False as 5 is not present in T1"
   ]
  },
  {
   "cell_type": "markdown",
   "id": "d4c05d66",
   "metadata": {},
   "source": [
    "## SETS"
   ]
  },
  {
   "cell_type": "code",
   "execution_count": 67,
   "id": "047d85fe",
   "metadata": {},
   "outputs": [],
   "source": [
    "## We use { } for Sets\n",
    "## We use [ ] for Lists\n",
    "## We use ( ) for Tuple\n"
   ]
  },
  {
   "cell_type": "code",
   "execution_count": 68,
   "id": "336c084d",
   "metadata": {},
   "outputs": [
    {
     "data": {
      "text/plain": [
       "dict"
      ]
     },
     "execution_count": 68,
     "metadata": {},
     "output_type": "execute_result"
    }
   ],
   "source": [
    "s = { }   # Empty curly braces type will display dict\n",
    "type(s)"
   ]
  },
  {
   "cell_type": "code",
   "execution_count": 69,
   "id": "505a0cf9",
   "metadata": {},
   "outputs": [
    {
     "data": {
      "text/plain": [
       "set"
      ]
     },
     "execution_count": 69,
     "metadata": {},
     "output_type": "execute_result"
    }
   ],
   "source": [
    "## Whenever we use { } then the type will display dict\n",
    "## whenever we use {1,2,3,4} then the type will display set\n",
    "\n",
    "s1= {1,2,3,4}    ## Value inside curly braces the type will display set\n",
    "type(s1)"
   ]
  },
  {
   "cell_type": "code",
   "execution_count": 70,
   "id": "25be6c46",
   "metadata": {},
   "outputs": [
    {
     "data": {
      "text/plain": [
       "{1, 2, 3, 4, 5, 6}"
      ]
     },
     "execution_count": 70,
     "metadata": {},
     "output_type": "execute_result"
    }
   ],
   "source": [
    "## Sets will hold the values but only unique ones.\n",
    "\n",
    "s2={1,1,2,2,3,3,3,4,4,4,5,5,5,5,5,6,6,6,6,6,6}\n",
    "s2"
   ]
  },
  {
   "cell_type": "code",
   "execution_count": 71,
   "id": "6f6d679a",
   "metadata": {},
   "outputs": [
    {
     "data": {
      "text/plain": [
       "{1, 2, 3, 4, 5, 6}"
      ]
     },
     "execution_count": 71,
     "metadata": {},
     "output_type": "execute_result"
    }
   ],
   "source": [
    "## Coverting the entire set to List\n",
    "\n",
    "list(s2)\n",
    "s2"
   ]
  },
  {
   "cell_type": "code",
   "execution_count": 72,
   "id": "96517ef2",
   "metadata": {},
   "outputs": [
    {
     "data": {
      "text/plain": [
       "{1, 2, 3, 4, 5, 6}"
      ]
     },
     "execution_count": 72,
     "metadata": {},
     "output_type": "execute_result"
    }
   ],
   "source": [
    "## Coverting the entire set to Tuple\n",
    "\n",
    "tuple(s2)\n",
    "s2"
   ]
  },
  {
   "cell_type": "code",
   "execution_count": 74,
   "id": "7ee98cda",
   "metadata": {},
   "outputs": [
    {
     "data": {
      "text/plain": [
       "{1, 2, 3, 4, 5, 6}"
      ]
     },
     "execution_count": 74,
     "metadata": {},
     "output_type": "execute_result"
    }
   ],
   "source": [
    "## Coverting the entire list to set\n",
    "\n",
    "s3= list(s2)\n",
    "set(s3)"
   ]
  },
  {
   "cell_type": "code",
   "execution_count": 75,
   "id": "f3a4d209",
   "metadata": {},
   "outputs": [
    {
     "ename": "TypeError",
     "evalue": "unhashable type: 'list'",
     "output_type": "error",
     "traceback": [
      "\u001b[1;31m---------------------------------------------------------------------------\u001b[0m",
      "\u001b[1;31mTypeError\u001b[0m                                 Traceback (most recent call last)",
      "\u001b[1;32m<ipython-input-75-70073b9c0a88>\u001b[0m in \u001b[0;36m<module>\u001b[1;34m\u001b[0m\n\u001b[0;32m      2\u001b[0m \u001b[1;33m\u001b[0m\u001b[0m\n\u001b[0;32m      3\u001b[0m \u001b[1;31m##Example::\u001b[0m\u001b[1;33m\u001b[0m\u001b[1;33m\u001b[0m\u001b[1;33m\u001b[0m\u001b[0m\n\u001b[1;32m----> 4\u001b[1;33m \u001b[0ms4\u001b[0m \u001b[1;33m=\u001b[0m\u001b[1;33m{\u001b[0m\u001b[1;36m1\u001b[0m\u001b[1;33m,\u001b[0m\u001b[1;36m2\u001b[0m\u001b[1;33m,\u001b[0m\u001b[1;36m3\u001b[0m\u001b[1;33m,\u001b[0m\u001b[1;36m4\u001b[0m\u001b[1;33m,\u001b[0m\u001b[1;33m[\u001b[0m\u001b[1;36m1\u001b[0m\u001b[1;33m,\u001b[0m\u001b[1;36m2\u001b[0m\u001b[1;33m,\u001b[0m\u001b[1;36m3\u001b[0m\u001b[1;33m,\u001b[0m\u001b[1;36m4\u001b[0m\u001b[1;33m]\u001b[0m\u001b[1;33m}\u001b[0m      \u001b[1;31m## Collection of integer and List which gives an error\u001b[0m\u001b[1;33m\u001b[0m\u001b[1;33m\u001b[0m\u001b[0m\n\u001b[0m",
      "\u001b[1;31mTypeError\u001b[0m: unhashable type: 'list'"
     ]
    }
   ],
   "source": [
    "## Set cannot hold lists \n",
    "## The reason is Lists are Mutable. i.e; Data inside the lists can be updated\n",
    "\n",
    "##Example::\n",
    "s4 ={1,2,3,4,[1,2,3,4]}      ## Collection of integer and List which gives an error "
   ]
  },
  {
   "cell_type": "code",
   "execution_count": 76,
   "id": "c0135a64",
   "metadata": {},
   "outputs": [
    {
     "data": {
      "text/plain": [
       "{(1, 2, 3, 4), 1, 2, 3, 4}"
      ]
     },
     "execution_count": 76,
     "metadata": {},
     "output_type": "execute_result"
    }
   ],
   "source": [
    "## Set can hold Tuples \n",
    "## The reason is Tuples are Immutable. i.e; Data inside the Tuple cannot be updated.\n",
    "\n",
    "##Example::\n",
    "s5 ={1,2,3,4,(1,2,3,4)}     ## Set holding Tuple\n",
    "s5"
   ]
  },
  {
   "cell_type": "code",
   "execution_count": 77,
   "id": "f28e18bb",
   "metadata": {},
   "outputs": [
    {
     "data": {
      "text/plain": [
       "{1, 2, 3, 'Suni', 'suni'}"
      ]
     },
     "execution_count": 77,
     "metadata": {},
     "output_type": "execute_result"
    }
   ],
   "source": [
    "## Python is a Case Sensitive Language\n",
    "\n",
    "s6 = { \"Suni\", \"suni\", 1,2,3}    ### Suni is different from suni. So it will not raise an error.\n",
    "s6"
   ]
  },
  {
   "cell_type": "code",
   "execution_count": 79,
   "id": "fbb80566",
   "metadata": {},
   "outputs": [
    {
     "data": {
      "text/plain": [
       "{1, 2, 3, 'suni'}"
      ]
     },
     "execution_count": 79,
     "metadata": {},
     "output_type": "execute_result"
    }
   ],
   "source": [
    "s7 = { \"suni\", \"suni\", 1,2,3}    ## Sets cannot hold duplicates.\n",
    "s7"
   ]
  },
  {
   "cell_type": "code",
   "execution_count": 80,
   "id": "0cb725ec",
   "metadata": {},
   "outputs": [
    {
     "data": {
      "text/plain": [
       "{1, 2, 3, 'suni'}"
      ]
     },
     "execution_count": 80,
     "metadata": {},
     "output_type": "execute_result"
    }
   ],
   "source": [
    "## We cannot extract information from Sets\n",
    "\n",
    "s7"
   ]
  },
  {
   "cell_type": "code",
   "execution_count": 81,
   "id": "2543e508",
   "metadata": {},
   "outputs": [
    {
     "ename": "TypeError",
     "evalue": "'set' object is not subscriptable",
     "output_type": "error",
     "traceback": [
      "\u001b[1;31m---------------------------------------------------------------------------\u001b[0m",
      "\u001b[1;31mTypeError\u001b[0m                                 Traceback (most recent call last)",
      "\u001b[1;32m<ipython-input-81-02c99effdb87>\u001b[0m in \u001b[0;36m<module>\u001b[1;34m\u001b[0m\n\u001b[1;32m----> 1\u001b[1;33m \u001b[0ms7\u001b[0m\u001b[1;33m[\u001b[0m\u001b[1;36m0\u001b[0m\u001b[1;33m]\u001b[0m\u001b[1;33m\u001b[0m\u001b[1;33m\u001b[0m\u001b[0m\n\u001b[0m",
      "\u001b[1;31mTypeError\u001b[0m: 'set' object is not subscriptable"
     ]
    }
   ],
   "source": [
    "s7[0]    ## Indexing is not allowed."
   ]
  },
  {
   "cell_type": "code",
   "execution_count": 82,
   "id": "852f8add",
   "metadata": {},
   "outputs": [
    {
     "ename": "TypeError",
     "evalue": "'set' object is not subscriptable",
     "output_type": "error",
     "traceback": [
      "\u001b[1;31m---------------------------------------------------------------------------\u001b[0m",
      "\u001b[1;31mTypeError\u001b[0m                                 Traceback (most recent call last)",
      "\u001b[1;32m<ipython-input-82-44b42cdf213c>\u001b[0m in \u001b[0;36m<module>\u001b[1;34m\u001b[0m\n\u001b[1;32m----> 1\u001b[1;33m \u001b[0ms7\u001b[0m\u001b[1;33m[\u001b[0m\u001b[1;33m:\u001b[0m\u001b[1;33m:\u001b[0m\u001b[1;33m-\u001b[0m\u001b[1;36m1\u001b[0m\u001b[1;33m]\u001b[0m   \u001b[1;31m## Slicing operation is also not possible.\u001b[0m\u001b[1;33m\u001b[0m\u001b[1;33m\u001b[0m\u001b[0m\n\u001b[0m",
      "\u001b[1;31mTypeError\u001b[0m: 'set' object is not subscriptable"
     ]
    }
   ],
   "source": [
    "s7[::-1]   ## Slicing operation is also not possible.\n",
    "        ## We cannot even reverse"
   ]
  },
  {
   "cell_type": "code",
   "execution_count": 83,
   "id": "905ef279",
   "metadata": {},
   "outputs": [
    {
     "data": {
      "text/plain": [
       "{1, 2, 3, 'suni'}"
      ]
     },
     "execution_count": 83,
     "metadata": {},
     "output_type": "execute_result"
    }
   ],
   "source": [
    "# We can use For Loop to extract information from Sets\n",
    "\n",
    "s7"
   ]
  },
  {
   "cell_type": "code",
   "execution_count": 85,
   "id": "f07558c2",
   "metadata": {},
   "outputs": [
    {
     "name": "stdout",
     "output_type": "stream",
     "text": [
      "suni\n",
      "2\n",
      "3\n",
      "1\n"
     ]
    }
   ],
   "source": [
    "for i in s7:\n",
    "    print(i)"
   ]
  },
  {
   "cell_type": "code",
   "execution_count": 87,
   "id": "0dacad1c",
   "metadata": {},
   "outputs": [
    {
     "data": {
      "text/plain": [
       "{1, 2, 3, 4, 5, 6}"
      ]
     },
     "execution_count": 87,
     "metadata": {},
     "output_type": "execute_result"
    }
   ],
   "source": [
    "s2"
   ]
  },
  {
   "cell_type": "code",
   "execution_count": 88,
   "id": "6080d5f9",
   "metadata": {},
   "outputs": [
    {
     "name": "stdout",
     "output_type": "stream",
     "text": [
      "1\n",
      "2\n",
      "3\n",
      "4\n",
      "5\n",
      "6\n"
     ]
    }
   ],
   "source": [
    "for i in s2:\n",
    "    print(i)"
   ]
  },
  {
   "cell_type": "code",
   "execution_count": 89,
   "id": "373048c5",
   "metadata": {},
   "outputs": [
    {
     "name": "stdout",
     "output_type": "stream",
     "text": [
      "1\n",
      "2\n",
      "4\n",
      "6\n",
      "7\n",
      "Subhash\n"
     ]
    }
   ],
   "source": [
    "## Example2\n",
    "\n",
    "s8={1,2,4,6,7,\"Subhash\"}\n",
    "\n",
    "for i in s8:\n",
    "    print(i)"
   ]
  },
  {
   "cell_type": "code",
   "execution_count": 90,
   "id": "44c3d85d",
   "metadata": {},
   "outputs": [
    {
     "data": {
      "text/plain": [
       "{1, 2, 34, 4, 6, 7, 'Subhash'}"
      ]
     },
     "execution_count": 90,
     "metadata": {},
     "output_type": "execute_result"
    }
   ],
   "source": [
    "## Methods avaialble in sets. Press Shift-Tab\n",
    "\n",
    "s8.add(34)\n",
    "s8"
   ]
  },
  {
   "cell_type": "code",
   "execution_count": 91,
   "id": "56e81d98",
   "metadata": {},
   "outputs": [
    {
     "data": {
      "text/plain": [
       "{1, 2, 21, 34, 4, 6, 7, 'Subhash'}"
      ]
     },
     "execution_count": 91,
     "metadata": {},
     "output_type": "execute_result"
    }
   ],
   "source": [
    "s8.add(21)\n",
    "s8"
   ]
  },
  {
   "cell_type": "code",
   "execution_count": 92,
   "id": "cb231a00",
   "metadata": {},
   "outputs": [
    {
     "data": {
      "text/plain": [
       "8"
      ]
     },
     "execution_count": 92,
     "metadata": {},
     "output_type": "execute_result"
    }
   ],
   "source": [
    "## We can find the Length of the Set\n",
    "\n",
    "len(s8)"
   ]
  },
  {
   "cell_type": "code",
   "execution_count": 93,
   "id": "5aee3541",
   "metadata": {},
   "outputs": [
    {
     "data": {
      "text/plain": [
       "1"
      ]
     },
     "execution_count": 93,
     "metadata": {},
     "output_type": "execute_result"
    }
   ],
   "source": [
    "## We can use pop() Method to remove the elements from Set\n",
    "\n",
    "s8.pop()"
   ]
  },
  {
   "cell_type": "code",
   "execution_count": 94,
   "id": "5b598b76",
   "metadata": {},
   "outputs": [
    {
     "data": {
      "text/plain": [
       "{2, 21, 34, 4, 6, 7, 'Subhash'}"
      ]
     },
     "execution_count": 94,
     "metadata": {},
     "output_type": "execute_result"
    }
   ],
   "source": [
    "s8"
   ]
  },
  {
   "cell_type": "code",
   "execution_count": 95,
   "id": "72be7bf2",
   "metadata": {},
   "outputs": [
    {
     "data": {
      "text/plain": [
       "2"
      ]
     },
     "execution_count": 95,
     "metadata": {},
     "output_type": "execute_result"
    }
   ],
   "source": [
    "s8.pop()"
   ]
  },
  {
   "cell_type": "code",
   "execution_count": 100,
   "id": "ee9ca644",
   "metadata": {},
   "outputs": [
    {
     "data": {
      "text/plain": [
       "6"
      ]
     },
     "execution_count": 100,
     "metadata": {},
     "output_type": "execute_result"
    }
   ],
   "source": [
    "s8.pop()"
   ]
  },
  {
   "cell_type": "code",
   "execution_count": 97,
   "id": "7c70e2da",
   "metadata": {},
   "outputs": [
    {
     "data": {
      "text/plain": [
       "34"
      ]
     },
     "execution_count": 97,
     "metadata": {},
     "output_type": "execute_result"
    }
   ],
   "source": [
    "s8.pop()"
   ]
  },
  {
   "cell_type": "code",
   "execution_count": 98,
   "id": "4bf33400",
   "metadata": {},
   "outputs": [
    {
     "data": {
      "text/plain": [
       "{21, 4, 6, 7, 'Subhash'}"
      ]
     },
     "execution_count": 98,
     "metadata": {},
     "output_type": "execute_result"
    }
   ],
   "source": [
    "s8   "
   ]
  },
  {
   "cell_type": "code",
   "execution_count": 99,
   "id": "63f95f95",
   "metadata": {},
   "outputs": [
    {
     "data": {
      "text/plain": [
       "4"
      ]
     },
     "execution_count": 99,
     "metadata": {},
     "output_type": "execute_result"
    }
   ],
   "source": [
    "s8.pop()"
   ]
  },
  {
   "cell_type": "code",
   "execution_count": 101,
   "id": "d3621769",
   "metadata": {},
   "outputs": [
    {
     "data": {
      "text/plain": [
       "{21, 7, 'Subhash'}"
      ]
     },
     "execution_count": 101,
     "metadata": {},
     "output_type": "execute_result"
    }
   ],
   "source": [
    "s8"
   ]
  },
  {
   "cell_type": "code",
   "execution_count": 102,
   "id": "6d6ed596",
   "metadata": {},
   "outputs": [
    {
     "data": {
      "text/plain": [
       "set()"
      ]
     },
     "execution_count": 102,
     "metadata": {},
     "output_type": "execute_result"
    }
   ],
   "source": [
    "## clear() clears all the elements from the set\n",
    "\n",
    "s8.clear()\n",
    "s8"
   ]
  },
  {
   "cell_type": "code",
   "execution_count": 104,
   "id": "f0cb87e2",
   "metadata": {},
   "outputs": [
    {
     "data": {
      "text/plain": [
       "{4}"
      ]
     },
     "execution_count": 104,
     "metadata": {},
     "output_type": "execute_result"
    }
   ],
   "source": [
    "## Set Comparision\n",
    "\n",
    "s9={1,2,3,4}\n",
    "s10={1,2,3,5}\n",
    "\n",
    "s9.difference(s10)   ## The difference between s9 and s10 is 4"
   ]
  },
  {
   "cell_type": "code",
   "execution_count": 105,
   "id": "47b63b4e",
   "metadata": {},
   "outputs": [
    {
     "data": {
      "text/plain": [
       "{5}"
      ]
     },
     "execution_count": 105,
     "metadata": {},
     "output_type": "execute_result"
    }
   ],
   "source": [
    "s10.difference(s9)   ## The difference between s10 and s9 is 5"
   ]
  },
  {
   "cell_type": "markdown",
   "id": "fe8d982a",
   "metadata": {},
   "source": [
    "### DICTIONARY"
   ]
  },
  {
   "cell_type": "code",
   "execution_count": 106,
   "id": "07e7a936",
   "metadata": {},
   "outputs": [
    {
     "data": {
      "text/plain": [
       "dict"
      ]
     },
     "execution_count": 106,
     "metadata": {},
     "output_type": "execute_result"
    }
   ],
   "source": [
    "## Dictionary can be defined in empty curly braces\n",
    "\n",
    "d ={}\n",
    "type(d)"
   ]
  },
  {
   "cell_type": "code",
   "execution_count": 107,
   "id": "a07a0569",
   "metadata": {},
   "outputs": [
    {
     "data": {
      "text/plain": [
       "dict"
      ]
     },
     "execution_count": 107,
     "metadata": {},
     "output_type": "execute_result"
    }
   ],
   "source": [
    "## The Dictionary hold a Key and a Value\n",
    "\n",
    "d1={\"name\" :\"Sunitha\", \"course\" : \"Msc\", \"number\" : 12345}\n",
    "type(d1)"
   ]
  },
  {
   "cell_type": "code",
   "execution_count": 108,
   "id": "79a41451",
   "metadata": {},
   "outputs": [
    {
     "data": {
      "text/plain": [
       "{'name': 'Sunitha', 'course': 'Msc', 'number': 12345}"
      ]
     },
     "execution_count": 108,
     "metadata": {},
     "output_type": "execute_result"
    }
   ],
   "source": [
    "d1     ## Displays Key and a Value"
   ]
  },
  {
   "cell_type": "code",
   "execution_count": 109,
   "id": "ba6dc7ca",
   "metadata": {},
   "outputs": [
    {
     "data": {
      "text/plain": [
       "{'name': 'Subhash'}"
      ]
     },
     "execution_count": 109,
     "metadata": {},
     "output_type": "execute_result"
    }
   ],
   "source": [
    "## Whenever we create a dictionary with the same key twice the latest one will be updated in dictionary.\n",
    "\n",
    "\n",
    "d2 = {\"name\" : \"Sub\", \"name\" : \"Subhash\"}   ## The lastest Key value Subhash will be Printed in Dictionary.\n",
    "d2"
   ]
  },
  {
   "cell_type": "markdown",
   "id": "fdd6963e",
   "metadata": {},
   "source": [
    "### RULES AND DECLARATION OF KEY IN A DICTIONARY"
   ]
  },
  {
   "cell_type": "code",
   "execution_count": 110,
   "id": "a6ea9c16",
   "metadata": {},
   "outputs": [
    {
     "data": {
      "text/plain": [
       "{1234: 'Suni'}"
      ]
     },
     "execution_count": 110,
     "metadata": {},
     "output_type": "execute_result"
    }
   ],
   "source": [
    "## A Key can be a String or a Numeric Value.\n",
    "\n",
    "d3 = {1234 : \"Suni\"}\n",
    "d3"
   ]
  },
  {
   "cell_type": "code",
   "execution_count": 111,
   "id": "68cc91c1",
   "metadata": {},
   "outputs": [
    {
     "data": {
      "text/plain": [
       "{1234.0: 'Suni'}"
      ]
     },
     "execution_count": 111,
     "metadata": {},
     "output_type": "execute_result"
    }
   ],
   "source": [
    "## A Key can also be a Floating point number\n",
    "\n",
    "d4 = {1234.0 : \"Suni\"}\n",
    "d4"
   ]
  },
  {
   "cell_type": "code",
   "execution_count": 112,
   "id": "2ec3fc83",
   "metadata": {},
   "outputs": [
    {
     "data": {
      "text/plain": [
       "{True: 'Suni'}"
      ]
     },
     "execution_count": 112,
     "metadata": {},
     "output_type": "execute_result"
    }
   ],
   "source": [
    "## A Key can also be a Boolean Value number\n",
    "\n",
    "d5 = {True: \"Suni\"}\n",
    "d5"
   ]
  },
  {
   "cell_type": "code",
   "execution_count": 114,
   "id": "2f1c5b8f",
   "metadata": {},
   "outputs": [
    {
     "ename": "SyntaxError",
     "evalue": "unexpected EOF while parsing (<ipython-input-114-309ddda7d560>, line 3)",
     "output_type": "error",
     "traceback": [
      "\u001b[1;36m  File \u001b[1;32m\"<ipython-input-114-309ddda7d560>\"\u001b[1;36m, line \u001b[1;32m3\u001b[0m\n\u001b[1;33m    d6 = {# : \"Suni\"}\u001b[0m\n\u001b[1;37m                     ^\u001b[0m\n\u001b[1;31mSyntaxError\u001b[0m\u001b[1;31m:\u001b[0m unexpected EOF while parsing\n"
     ]
    }
   ],
   "source": [
    "## Special characters are not allowed in Key\n",
    "\n",
    "d6 = {# : \"Suni\"}"
   ]
  },
  {
   "cell_type": "code",
   "execution_count": 115,
   "id": "ccf5079b",
   "metadata": {},
   "outputs": [
    {
     "ename": "TypeError",
     "evalue": "unhashable type: 'list'",
     "output_type": "error",
     "traceback": [
      "\u001b[1;31m---------------------------------------------------------------------------\u001b[0m",
      "\u001b[1;31mTypeError\u001b[0m                                 Traceback (most recent call last)",
      "\u001b[1;32m<ipython-input-115-3549f9d6b2a0>\u001b[0m in \u001b[0;36m<module>\u001b[1;34m\u001b[0m\n\u001b[0;32m      1\u001b[0m \u001b[1;31m## Lists are not allowed in Key\u001b[0m\u001b[1;33m\u001b[0m\u001b[1;33m\u001b[0m\u001b[1;33m\u001b[0m\u001b[0m\n\u001b[0;32m      2\u001b[0m \u001b[1;33m\u001b[0m\u001b[0m\n\u001b[1;32m----> 3\u001b[1;33m \u001b[0md7\u001b[0m \u001b[1;33m=\u001b[0m \u001b[1;33m{\u001b[0m\u001b[1;33m[\u001b[0m\u001b[1;36m1\u001b[0m\u001b[1;33m,\u001b[0m\u001b[1;36m2\u001b[0m\u001b[1;33m,\u001b[0m\u001b[1;36m3\u001b[0m\u001b[1;33m,\u001b[0m\u001b[1;36m4\u001b[0m\u001b[1;33m]\u001b[0m \u001b[1;33m:\u001b[0m \u001b[1;34m\"abc\"\u001b[0m\u001b[1;33m}\u001b[0m\u001b[1;33m\u001b[0m\u001b[1;33m\u001b[0m\u001b[0m\n\u001b[0m\u001b[0;32m      4\u001b[0m \u001b[0md7\u001b[0m\u001b[1;33m\u001b[0m\u001b[1;33m\u001b[0m\u001b[0m\n",
      "\u001b[1;31mTypeError\u001b[0m: unhashable type: 'list'"
     ]
    }
   ],
   "source": [
    "## Lists are not allowed in Key\n",
    "\n",
    "d7 = {[1,2,3,4] : \"abc\"}\n",
    "d7"
   ]
  },
  {
   "cell_type": "code",
   "execution_count": 116,
   "id": "80142055",
   "metadata": {},
   "outputs": [
    {
     "data": {
      "text/plain": [
       "{(1, 2, 3, 4): 'abc'}"
      ]
     },
     "execution_count": 116,
     "metadata": {},
     "output_type": "execute_result"
    }
   ],
   "source": [
    "## Tuples are  allowed in Key\n",
    "\n",
    "d8 = {(1,2,3,4) : \"abc\"}\n",
    "d8"
   ]
  },
  {
   "cell_type": "code",
   "execution_count": 117,
   "id": "2854ac44",
   "metadata": {},
   "outputs": [
    {
     "ename": "TypeError",
     "evalue": "unhashable type: 'set'",
     "output_type": "error",
     "traceback": [
      "\u001b[1;31m---------------------------------------------------------------------------\u001b[0m",
      "\u001b[1;31mTypeError\u001b[0m                                 Traceback (most recent call last)",
      "\u001b[1;32m<ipython-input-117-5f2089a08319>\u001b[0m in \u001b[0;36m<module>\u001b[1;34m\u001b[0m\n\u001b[0;32m      1\u001b[0m \u001b[1;31m## Sets are not allowed in Key\u001b[0m\u001b[1;33m\u001b[0m\u001b[1;33m\u001b[0m\u001b[1;33m\u001b[0m\u001b[0m\n\u001b[0;32m      2\u001b[0m \u001b[1;33m\u001b[0m\u001b[0m\n\u001b[1;32m----> 3\u001b[1;33m \u001b[0md9\u001b[0m \u001b[1;33m=\u001b[0m \u001b[1;33m{\u001b[0m\u001b[1;33m{\u001b[0m\u001b[1;36m1\u001b[0m\u001b[1;33m,\u001b[0m\u001b[1;36m2\u001b[0m\u001b[1;33m,\u001b[0m\u001b[1;36m3\u001b[0m\u001b[1;33m,\u001b[0m\u001b[1;36m4\u001b[0m\u001b[1;33m}\u001b[0m \u001b[1;33m:\u001b[0m \u001b[1;34m\"abc\"\u001b[0m\u001b[1;33m}\u001b[0m\u001b[1;33m\u001b[0m\u001b[1;33m\u001b[0m\u001b[0m\n\u001b[0m\u001b[0;32m      4\u001b[0m \u001b[0md9\u001b[0m\u001b[1;33m\u001b[0m\u001b[1;33m\u001b[0m\u001b[0m\n",
      "\u001b[1;31mTypeError\u001b[0m: unhashable type: 'set'"
     ]
    }
   ],
   "source": [
    "## Sets are not allowed in Key\n",
    "\n",
    "d9 = {{1,2,3,4} : \"abc\"}\n",
    "d9"
   ]
  },
  {
   "cell_type": "code",
   "execution_count": 118,
   "id": "5e45957b",
   "metadata": {},
   "outputs": [
    {
     "ename": "TypeError",
     "evalue": "unhashable type: 'dict'",
     "output_type": "error",
     "traceback": [
      "\u001b[1;31m---------------------------------------------------------------------------\u001b[0m",
      "\u001b[1;31mTypeError\u001b[0m                                 Traceback (most recent call last)",
      "\u001b[1;32m<ipython-input-118-803ec51de22c>\u001b[0m in \u001b[0;36m<module>\u001b[1;34m\u001b[0m\n\u001b[0;32m      1\u001b[0m \u001b[1;31m## dictionary is not allowed in a key\u001b[0m\u001b[1;33m\u001b[0m\u001b[1;33m\u001b[0m\u001b[1;33m\u001b[0m\u001b[0m\n\u001b[0;32m      2\u001b[0m \u001b[1;33m\u001b[0m\u001b[0m\n\u001b[1;32m----> 3\u001b[1;33m \u001b[0md10\u001b[0m \u001b[1;33m=\u001b[0m \u001b[1;33m{\u001b[0m\u001b[1;33m{\u001b[0m\u001b[1;34m\"name\"\u001b[0m \u001b[1;33m:\u001b[0m \u001b[1;34m\"abc\"\u001b[0m\u001b[1;33m}\u001b[0m \u001b[1;33m:\u001b[0m \u001b[1;34m\"Suni\"\u001b[0m\u001b[1;33m}\u001b[0m\u001b[1;33m\u001b[0m\u001b[1;33m\u001b[0m\u001b[0m\n\u001b[0m\u001b[0;32m      4\u001b[0m \u001b[0md10\u001b[0m\u001b[1;33m\u001b[0m\u001b[1;33m\u001b[0m\u001b[0m\n",
      "\u001b[1;31mTypeError\u001b[0m: unhashable type: 'dict'"
     ]
    }
   ],
   "source": [
    "## dictionary is not allowed in a key\n",
    "\n",
    "d10 = {{\"name\" : \"abc\"} : \"Suni\"}    ## In this case {\"name\": \"abc\"} is a dictionary\n",
    "d10"
   ]
  },
  {
   "cell_type": "code",
   "execution_count": 119,
   "id": "c19841c9",
   "metadata": {},
   "outputs": [],
   "source": [
    "###  NOTE::\n",
    "### We can allow only a TUPLE in a Key"
   ]
  },
  {
   "cell_type": "markdown",
   "id": "e607a0b0",
   "metadata": {},
   "source": [
    "### RULES AND DECLARATION OF VALUE IN A DICTIONARY"
   ]
  },
  {
   "cell_type": "code",
   "execution_count": 120,
   "id": "7a3126c7",
   "metadata": {},
   "outputs": [
    {
     "data": {
      "text/plain": [
       "{'Course_name': ['BCA', 'B.Sc', 'MCA', 'MBA']}"
      ]
     },
     "execution_count": 120,
     "metadata": {},
     "output_type": "execute_result"
    }
   ],
   "source": [
    "## Multiple values in List can be allowed in a Value\n",
    "\n",
    "d11 = {\"Course_name\" : [\"BCA\", \"B.Sc\", \"MCA\", \"MBA\"]}\n",
    "d11"
   ]
  },
  {
   "cell_type": "code",
   "execution_count": 122,
   "id": "8c229e21",
   "metadata": {},
   "outputs": [
    {
     "data": {
      "text/plain": [
       "{'Numbers': (1, 2, 3, 4)}"
      ]
     },
     "execution_count": 122,
     "metadata": {},
     "output_type": "execute_result"
    }
   ],
   "source": [
    "## Tuples are allowed to declare in Value\n",
    "\n",
    "d12 = {\"Numbers\": (1,2,3,4)}\n",
    "d12"
   ]
  },
  {
   "cell_type": "code",
   "execution_count": 123,
   "id": "9d577e4d",
   "metadata": {},
   "outputs": [
    {
     "data": {
      "text/plain": [
       "{'Number': {5, 6, 7, 8}}"
      ]
     },
     "execution_count": 123,
     "metadata": {},
     "output_type": "execute_result"
    }
   ],
   "source": [
    "## Sets are allowed to declare in Value\n",
    "\n",
    "d13 = {\"Number\": {5,6,7,8}}\n",
    "d13"
   ]
  },
  {
   "cell_type": "code",
   "execution_count": 124,
   "id": "ab0ab64e",
   "metadata": {},
   "outputs": [
    {
     "data": {
      "text/plain": [
       "{'Course': {'Branch': 'Blore'}}"
      ]
     },
     "execution_count": 124,
     "metadata": {},
     "output_type": "execute_result"
    }
   ],
   "source": [
    "## Dictionary  can be allowed in value\n",
    "\n",
    "d14= {\"Course\" : {\"Branch\" : \"Blore\"}}\n",
    "d14\n",
    "\n"
   ]
  },
  {
   "cell_type": "code",
   "execution_count": 125,
   "id": "8da9486c",
   "metadata": {},
   "outputs": [
    {
     "data": {
      "text/plain": [
       "{'Course': {'name': 'Subhash', 'course': 'MBBS'}}"
      ]
     },
     "execution_count": 125,
     "metadata": {},
     "output_type": "execute_result"
    }
   ],
   "source": [
    "### NESTED DICTIONARY\n",
    "## Dictionary inside the dictionary\n",
    "\n",
    "d15= {\"Course\" : {\"name\" : \"Subhash\", \"course\" : \"MBBS\"}}\n",
    "d15"
   ]
  },
  {
   "cell_type": "code",
   "execution_count": 126,
   "id": "3fe9b70c",
   "metadata": {},
   "outputs": [
    {
     "data": {
      "text/plain": [
       "{'Course': ('BBA', 'BCA', 'B.Com'),\n",
       " 'College': {'DSI', 'MSRAMAIH', 'PES'},\n",
       " 'Faculty': {'CS': 'Sunitha', 'IT': 'Kalyan', 'AI': 'Subhash'}}"
      ]
     },
     "execution_count": 126,
     "metadata": {},
     "output_type": "execute_result"
    }
   ],
   "source": [
    "## Example\n",
    "## Dictionary which holds Tuples, Sets, Dictionary, List\n",
    "\n",
    "d16= {\"Course\": ('BBA','BCA','B.Com'), \"College\" : {\"DSI\",\"PES\",\"MSRAMAIH\"}, \"Faculty\": {\"CS\" : \"Sunitha\", \"IT\" : \"Kalyan\", \"AI\" : \"Subhash\"}}\n",
    "d16"
   ]
  },
  {
   "cell_type": "code",
   "execution_count": 127,
   "id": "14e04d13",
   "metadata": {},
   "outputs": [
    {
     "data": {
      "text/plain": [
       "{'Course': ('BBA', 'BCA', 'B.Com'),\n",
       " 'College': {'DSI', 'MSRAMAIH', 'PES'},\n",
       " 'Faculty': {'CS': 'Sunitha', 'IT': 'Kalyan', 'AI': 'Subhash'}}"
      ]
     },
     "execution_count": 127,
     "metadata": {},
     "output_type": "execute_result"
    }
   ],
   "source": [
    "d17 = d16= {\"Course\": ('BBA','BCA','B.Com'), \"College\" : {\"DSI\",\"PES\",\"MSRAMAIH\"}, \"Faculty\": {\"CS\" : \"Sunitha\", \"IT\" : \"Kalyan\", \"AI\" : \"Subhash\"}}\n",
    "d17"
   ]
  },
  {
   "cell_type": "code",
   "execution_count": 128,
   "id": "b0162d99",
   "metadata": {},
   "outputs": [
    {
     "data": {
      "text/plain": [
       "{'Course': ('BBA', 'BCA', 'B.Com'),\n",
       " 'College': {'DSI', 'MSRAMAIH', 'PES'},\n",
       " 'Faculty': {'CS': 'Sunitha', 'IT': 'Kalyan', 'AI': 'Subhash'},\n",
       " 'Experience': [10, 20, 5]}"
      ]
     },
     "execution_count": 128,
     "metadata": {},
     "output_type": "execute_result"
    }
   ],
   "source": [
    "d18 = {\"Course\": ('BBA','BCA','B.Com'), \"College\" : {\"DSI\",\"PES\",\"MSRAMAIH\"}, \"Faculty\": {\"CS\" : \"Sunitha\", \"IT\" : \"Kalyan\", \"AI\" : \"Subhash\"}, \"Experience\" : [10,20,5]}\n",
    "d18"
   ]
  },
  {
   "cell_type": "code",
   "execution_count": 129,
   "id": "6a9b052e",
   "metadata": {},
   "outputs": [
    {
     "data": {
      "text/plain": [
       "{'Course': ('BBA', 'BCA', 'B.Com'),\n",
       " 'College': {'DSI', 'MSRAMAIH', 'PES'},\n",
       " 'Faculty': {'CS': 'Sunitha', 'IT': 'Kalyan', 'AI': 'Subhash'}}"
      ]
     },
     "execution_count": 129,
     "metadata": {},
     "output_type": "execute_result"
    }
   ],
   "source": [
    "### We can add a new key and a value to the existing dictionary\n",
    "\n",
    "d17"
   ]
  },
  {
   "cell_type": "code",
   "execution_count": 130,
   "id": "6ca88812",
   "metadata": {},
   "outputs": [],
   "source": [
    "d17[\"Timing\"] = (8, 8, 8)      ### Key = Timing\n",
    "                            ### Value = (8,8,8)"
   ]
  },
  {
   "cell_type": "code",
   "execution_count": 131,
   "id": "57e83d27",
   "metadata": {},
   "outputs": [
    {
     "data": {
      "text/plain": [
       "{'Course': ('BBA', 'BCA', 'B.Com'),\n",
       " 'College': {'DSI', 'MSRAMAIH', 'PES'},\n",
       " 'Faculty': {'CS': 'Sunitha', 'IT': 'Kalyan', 'AI': 'Subhash'},\n",
       " 'Timing': (8, 8, 8)}"
      ]
     },
     "execution_count": 131,
     "metadata": {},
     "output_type": "execute_result"
    }
   ],
   "source": [
    "d17"
   ]
  },
  {
   "cell_type": "code",
   "execution_count": 132,
   "id": "140cf5ea",
   "metadata": {},
   "outputs": [
    {
     "data": {
      "text/plain": [
       "('BBA', 'BCA', 'B.Com')"
      ]
     },
     "execution_count": 132,
     "metadata": {},
     "output_type": "execute_result"
    }
   ],
   "source": [
    "### We can extract a particular \"Value\" with the help of a \"Key\" in a Dictionary.\n",
    "\n",
    "d18[\"Course\"]"
   ]
  },
  {
   "cell_type": "code",
   "execution_count": 133,
   "id": "422a0ee2",
   "metadata": {},
   "outputs": [
    {
     "data": {
      "text/plain": [
       "{'CS': 'Sunitha', 'IT': 'Kalyan', 'AI': 'Subhash'}"
      ]
     },
     "execution_count": 133,
     "metadata": {},
     "output_type": "execute_result"
    }
   ],
   "source": [
    "d18[\"Faculty\"]"
   ]
  },
  {
   "cell_type": "code",
   "execution_count": 136,
   "id": "96c3fa85",
   "metadata": {},
   "outputs": [
    {
     "data": {
      "text/plain": [
       "list"
      ]
     },
     "execution_count": 136,
     "metadata": {},
     "output_type": "execute_result"
    }
   ],
   "source": [
    "type(d18[\"Experience\"])   ## Displays the type of that particular Element ina  dictionary"
   ]
  },
  {
   "cell_type": "code",
   "execution_count": 137,
   "id": "7218fbe2",
   "metadata": {},
   "outputs": [
    {
     "data": {
      "text/plain": [
       "{'Course': ('BBA', 'BCA', 'B.Com'),\n",
       " 'College': {'DSI', 'MSRAMAIH', 'PES'},\n",
       " 'Faculty': {'CS': 'Sunitha', 'IT': 'Kalyan', 'AI': 'Subhash'},\n",
       " 'Experience': [10, 20, 5]}"
      ]
     },
     "execution_count": 137,
     "metadata": {},
     "output_type": "execute_result"
    }
   ],
   "source": [
    "## We can also add a new data set in the existing dictionary\n",
    "\n",
    "d18"
   ]
  },
  {
   "cell_type": "code",
   "execution_count": 139,
   "id": "842b039d",
   "metadata": {},
   "outputs": [
    {
     "data": {
      "text/plain": [
       "{'Course': ('BBA', 'BCA', 'B.Com'),\n",
       " 'College': {'DSI', 'MSRAMAIH', 'PES'},\n",
       " 'Faculty': {'CS': 'Sunitha', 'IT': 'Kalyan', 'AI': 'Subhash'},\n",
       " 'Experience': [10, 20, 5],\n",
       " 'location': 'Bangalore'}"
      ]
     },
     "execution_count": 139,
     "metadata": {},
     "output_type": "execute_result"
    }
   ],
   "source": [
    "d18[\"location\"] = \"Bangalore\"      ## Location is added to the data set \n",
    "d18"
   ]
  },
  {
   "cell_type": "code",
   "execution_count": 140,
   "id": "4049f241",
   "metadata": {},
   "outputs": [
    {
     "data": {
      "text/plain": [
       "[10, 20, 5]"
      ]
     },
     "execution_count": 140,
     "metadata": {},
     "output_type": "execute_result"
    }
   ],
   "source": [
    "d18[\"Experience\"]   ## We can fetch a particular data set from the dictionary."
   ]
  },
  {
   "cell_type": "code",
   "execution_count": 145,
   "id": "4b3ad88e",
   "metadata": {},
   "outputs": [
    {
     "data": {
      "text/plain": [
       "'Bangalore'"
      ]
     },
     "execution_count": 145,
     "metadata": {},
     "output_type": "execute_result"
    }
   ],
   "source": [
    "## We can also convert the dataset into Upper Case\n",
    "\n",
    "d18[\"location\"]\n"
   ]
  },
  {
   "cell_type": "code",
   "execution_count": 146,
   "id": "5b4cca71",
   "metadata": {},
   "outputs": [
    {
     "data": {
      "text/plain": [
       "'BANGALORE'"
      ]
     },
     "execution_count": 146,
     "metadata": {},
     "output_type": "execute_result"
    }
   ],
   "source": [
    "d18[\"location\"].upper()"
   ]
  },
  {
   "cell_type": "code",
   "execution_count": null,
   "id": "d159a15d",
   "metadata": {},
   "outputs": [],
   "source": []
  }
 ],
 "metadata": {
  "kernelspec": {
   "display_name": "Python 3",
   "language": "python",
   "name": "python3"
  },
  "language_info": {
   "codemirror_mode": {
    "name": "ipython",
    "version": 3
   },
   "file_extension": ".py",
   "mimetype": "text/x-python",
   "name": "python",
   "nbconvert_exporter": "python",
   "pygments_lexer": "ipython3",
   "version": "3.8.8"
  }
 },
 "nbformat": 4,
 "nbformat_minor": 5
}
