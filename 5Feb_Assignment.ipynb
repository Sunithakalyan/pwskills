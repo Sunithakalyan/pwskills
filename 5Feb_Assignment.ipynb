{
 "cells": [
  {
   "cell_type": "markdown",
   "id": "45c3db1c",
   "metadata": {},
   "source": [
    "## Q1. Explain Class and Object with respect to Object-Oriented Programming. Give a suitable example."
   ]
  },
  {
   "cell_type": "code",
   "execution_count": 1,
   "id": "35ef06ee",
   "metadata": {},
   "outputs": [],
   "source": [
    "## In Object-Oriented Programming (OOP), \n",
    "## A class is a blueprint for creating objects (a particular data structure),providing initial values for state (member variables or attributes), \n",
    "## and implementations of behavior (member functions or methods).\n",
    "\n",
    "## An object is an instance of a class. It is created from a class and is a separate and unique occurrence of the class with its own state and behavior.\n",
    "## An object can be thought of as a specific example of the class with its own unique set of attributes and methods."
   ]
  },
  {
   "cell_type": "code",
   "execution_count": 2,
   "id": "23a72206",
   "metadata": {},
   "outputs": [],
   "source": [
    "## Example\n",
    "class car:\n",
    "    def model(self):\n",
    "        print(\"I Love to drive car\")\n",
    "        \n",
    "    "
   ]
  },
  {
   "cell_type": "code",
   "execution_count": 3,
   "id": "e4613c6b",
   "metadata": {},
   "outputs": [
    {
     "name": "stdout",
     "output_type": "stream",
     "text": [
      "I Love to drive car\n"
     ]
    }
   ],
   "source": [
    "red = car()   ## Object red () is created for the class car()\n",
    "red.model()   ## Calling the method model() using dot operator."
   ]
  },
  {
   "cell_type": "code",
   "execution_count": 4,
   "id": "643e3dff",
   "metadata": {},
   "outputs": [],
   "source": [
    "## Note:  From the above example class car is created which represents a blue-print. \n",
    " ## The method model is created under the class.\n",
    "## A class will have meaning only if an object is created. \n",
    "##  The object red is created for the class car. To invoke the method model() we use dot operator.That is object_name.method"
   ]
  },
  {
   "cell_type": "markdown",
   "id": "6c88341c",
   "metadata": {},
   "source": [
    "## Q2. Name the four pillars of OOPs."
   ]
  },
  {
   "cell_type": "code",
   "execution_count": 5,
   "id": "e811e0f3",
   "metadata": {},
   "outputs": [],
   "source": [
    "## Like other Object-Oriented languages, when creating objects using classes.\n",
    "## There are four(4) basic principles for writing clean and concise code.\n",
    "## These principles are called the four pillars of object-oriented programming (OOP).\n",
    "## These four pillars are Inheritance, Polymorphism, Encapsulation and Abstraction."
   ]
  },
  {
   "cell_type": "markdown",
   "id": "e12088bd",
   "metadata": {},
   "source": [
    "## Q3. Explain why the __init__() function is used. Give a suitable example."
   ]
  },
  {
   "cell_type": "code",
   "execution_count": 10,
   "id": "15fe73ff",
   "metadata": {},
   "outputs": [],
   "source": [
    "## When ever we use Constructor we use __init()__ method in python.  \n",
    "## Constructor : It is a method which is called when an object is created.\n",
    "\n",
    "## Pointer = self  is a Pointer refering the class\n",
    "\n",
    "## Double underscore __init__ is used for constructor\n",
    "\n",
    "## Note::: We can use any reference name as an pointer which refers to the class\n",
    " \n",
    "    \n",
    "## Example: Print student details using class and object\n",
    "\n",
    "class student1():\n",
    "    \n",
    "    def __init__(self,name,email,phno,address):\n",
    "        \n",
    "        self.name=name\n",
    "        self.email=email\n",
    "        self.phno=phno\n",
    "        self.address=address\n",
    "    \n",
    "    def std_details(self):\n",
    "        return self.name,self.email,self.phno,self.address\n",
    "    \n",
    "    "
   ]
  },
  {
   "cell_type": "code",
   "execution_count": 13,
   "id": "731e9f63",
   "metadata": {},
   "outputs": [
    {
     "name": "stdout",
     "output_type": "stream",
     "text": [
      "Subhash\n",
      "subbu@gmail.com\n",
      "6366303627\n",
      "K.S.Layout\n"
     ]
    }
   ],
   "source": [
    "st1 = student1(\"Subhash\",\"subbu@gmail.com\",6366303627,\"K.S.Layout\")\n",
    "print(st1.name)\n",
    "print(st1.email)\n",
    "print(st1.phno)\n",
    "print(st1.address)"
   ]
  },
  {
   "cell_type": "markdown",
   "id": "40d997b6",
   "metadata": {},
   "source": [
    "## Q4. Why self is used in OOPs?"
   ]
  },
  {
   "cell_type": "code",
   "execution_count": 18,
   "id": "bb2e8c3b",
   "metadata": {},
   "outputs": [],
   "source": [
    "## The self variable is used to represent the instance of the class which is often used in object-oriented programming.\n",
    "## It works as a reference to the object. \n",
    "## Python uses the self parameter to refer to instance attributes and methods of the class.  \n",
    "\n",
    "\n",
    "## Example:: Usage of self in OOPS.\n",
    "\n",
    "class library:\n",
    "    \n",
    "    def books(self):\n",
    "        print(\"I Love to read novels\")    \n",
    " \n"
   ]
  },
  {
   "cell_type": "code",
   "execution_count": 21,
   "id": "42580480",
   "metadata": {},
   "outputs": [
    {
     "name": "stdout",
     "output_type": "stream",
     "text": [
      "I Love to read novels\n"
     ]
    }
   ],
   "source": [
    "comics = library()      ## Object creation\n",
    "comics.books()          ## Invoking the member function books()"
   ]
  },
  {
   "cell_type": "markdown",
   "id": "67e531c4",
   "metadata": {},
   "source": [
    "## Q5. What is inheritance? Give an example for each type of inheritance"
   ]
  },
  {
   "cell_type": "code",
   "execution_count": 24,
   "id": "1fba4320",
   "metadata": {},
   "outputs": [],
   "source": [
    "## Inheritance allows us to define a class that inherits all the methods and properties from another class.\n",
    "## Parent class is the class being inherited from, also called base class.\n",
    "## Child class is the class that inherits from another class, also called derived class.\n",
    "\n",
    "## Example:  Create a Parent Class\n",
    "\n",
    "class parent1:\n",
    "    \n",
    "    def __init__(self,name,relation):\n",
    "        \n",
    "        self.name=name\n",
    "        self.relation=relation\n",
    "        \n",
    "    def details(self):\n",
    "        \n",
    "        return self.name,self.relation\n",
    "\n"
   ]
  },
  {
   "cell_type": "code",
   "execution_count": 26,
   "id": "6e2e61f0",
   "metadata": {},
   "outputs": [
    {
     "name": "stdout",
     "output_type": "stream",
     "text": [
      "Kalyan\n",
      "Father\n"
     ]
    }
   ],
   "source": [
    "family = parent1(\"Kalyan\",\"Father\")     ## Object creation for the parent1 class.\n",
    "print(family.name)\n",
    "print(family.relation)"
   ]
  },
  {
   "cell_type": "code",
   "execution_count": 27,
   "id": "ac6cbb16",
   "metadata": {},
   "outputs": [],
   "source": [
    "## Create a Child Class\n",
    "## Note: Use the pass keyword when you do not want to add any other properties or methods to the class.\n",
    "\n",
    "class parent2(parent1):\n",
    "    pass"
   ]
  },
  {
   "cell_type": "code",
   "execution_count": 29,
   "id": "b199e377",
   "metadata": {},
   "outputs": [
    {
     "data": {
      "text/plain": [
       "('Sunitha', 'Wife')"
      ]
     },
     "execution_count": 29,
     "metadata": {},
     "output_type": "execute_result"
    }
   ],
   "source": [
    "## Note:: From the above example parent2 class has the same properties and methods as per parent1 class.\n",
    "\n",
    "x = parent2(\"Sunitha\",\"Wife\")\n",
    "x.details()"
   ]
  },
  {
   "cell_type": "code",
   "execution_count": 32,
   "id": "0aaf0ec2",
   "metadata": {},
   "outputs": [],
   "source": [
    "## Use the super() Function\n",
    "## Python also has a super() function that will make the child class inherit all the methods and properties from its parent:\n",
    "\n",
    "class parent2(parent1):\n",
    "    def __init__(self,name,relation,year):\n",
    "        super().__init__(name,relation)\n",
    "            "
   ]
  },
  {
   "cell_type": "code",
   "execution_count": 33,
   "id": "c4c6b29d",
   "metadata": {},
   "outputs": [],
   "source": [
    "## Add a property called graduationyear to the Student class:\n",
    "\n",
    "class parent2(parent1):\n",
    "    def __init__(self,name,relation,year):\n",
    "        super().__init__(name,relation)\n",
    "        self.year=year"
   ]
  },
  {
   "cell_type": "code",
   "execution_count": 35,
   "id": "3a9e3209",
   "metadata": {},
   "outputs": [
    {
     "data": {
      "text/plain": [
       "('Subhash', 'Son')"
      ]
     },
     "execution_count": 35,
     "metadata": {},
     "output_type": "execute_result"
    }
   ],
   "source": [
    "x = parent2(\"Subhash\",\"Son\",2022)\n",
    "x.details()"
   ]
  },
  {
   "cell_type": "code",
   "execution_count": null,
   "id": "916fb1e0",
   "metadata": {},
   "outputs": [],
   "source": []
  }
 ],
 "metadata": {
  "kernelspec": {
   "display_name": "Python 3",
   "language": "python",
   "name": "python3"
  },
  "language_info": {
   "codemirror_mode": {
    "name": "ipython",
    "version": 3
   },
   "file_extension": ".py",
   "mimetype": "text/x-python",
   "name": "python",
   "nbconvert_exporter": "python",
   "pygments_lexer": "ipython3",
   "version": "3.8.8"
  }
 },
 "nbformat": 4,
 "nbformat_minor": 5
}
