{
 "cells": [
  {
   "cell_type": "markdown",
   "id": "4c28e4cc",
   "metadata": {},
   "source": [
    "### String Functions"
   ]
  },
  {
   "cell_type": "code",
   "execution_count": 1,
   "id": "b5580e27",
   "metadata": {},
   "outputs": [],
   "source": [
    "name=\"Data Science Masters\""
   ]
  },
  {
   "cell_type": "code",
   "execution_count": 2,
   "id": "2d05c3a8",
   "metadata": {},
   "outputs": [
    {
     "data": {
      "text/plain": [
       "'Data science masters'"
      ]
     },
     "execution_count": 2,
     "metadata": {},
     "output_type": "execute_result"
    }
   ],
   "source": [
    "name.capitalize()   ## Only the first letter will be capital rest all in small letters"
   ]
  },
  {
   "cell_type": "markdown",
   "id": "57f16fbd",
   "metadata": {},
   "source": [
    "## Reversing a String"
   ]
  },
  {
   "cell_type": "code",
   "execution_count": 3,
   "id": "3130cede",
   "metadata": {},
   "outputs": [
    {
     "data": {
      "text/plain": [
       "'sretsaM ecneicS ataD'"
      ]
     },
     "execution_count": 3,
     "metadata": {},
     "output_type": "execute_result"
    }
   ],
   "source": [
    "name[::-1]"
   ]
  },
  {
   "cell_type": "code",
   "execution_count": 4,
   "id": "cc8c2e35",
   "metadata": {},
   "outputs": [
    {
     "data": {
      "text/plain": [
       "<reversed at 0x289f43699a0>"
      ]
     },
     "execution_count": 4,
     "metadata": {},
     "output_type": "execute_result"
    }
   ],
   "source": [
    "reversed(name)   ## reversed the string displays the memory sequence until and then we apply some operation like join, list etc;"
   ]
  },
  {
   "cell_type": "code",
   "execution_count": 5,
   "id": "65421b59",
   "metadata": {},
   "outputs": [
    {
     "data": {
      "text/plain": [
       "'s r e t s a M   e c n e i c S   a t a D'"
      ]
     },
     "execution_count": 5,
     "metadata": {},
     "output_type": "execute_result"
    }
   ],
   "source": [
    "' '.join(reversed(name))"
   ]
  },
  {
   "cell_type": "code",
   "execution_count": 6,
   "id": "1a60eb79",
   "metadata": {},
   "outputs": [
    {
     "data": {
      "text/plain": [
       "'s u n i'"
      ]
     },
     "execution_count": 6,
     "metadata": {},
     "output_type": "execute_result"
    }
   ],
   "source": [
    "' '.join(\"suni\")   ## Join operation joins the string after every space"
   ]
  },
  {
   "cell_type": "code",
   "execution_count": 7,
   "id": "73ff60fc",
   "metadata": {},
   "outputs": [
    {
     "data": {
      "text/plain": [
       "'P W s k i l l s'"
      ]
     },
     "execution_count": 7,
     "metadata": {},
     "output_type": "execute_result"
    }
   ],
   "source": [
    "' '.join(\"PWskills\")"
   ]
  },
  {
   "cell_type": "code",
   "execution_count": 8,
   "id": "403ac60a",
   "metadata": {},
   "outputs": [
    {
     "data": {
      "text/plain": [
       "'D a t a   S c i e n c e   M a s t e r s'"
      ]
     },
     "execution_count": 8,
     "metadata": {},
     "output_type": "execute_result"
    }
   ],
   "source": [
    "' '.join(name)"
   ]
  },
  {
   "cell_type": "code",
   "execution_count": 11,
   "id": "f2e4dc2e",
   "metadata": {},
   "outputs": [
    {
     "data": {
      "text/plain": [
       "'tna'"
      ]
     },
     "execution_count": 11,
     "metadata": {},
     "output_type": "execute_result"
    }
   ],
   "source": [
    "''.join(reversed(\"ant\"))"
   ]
  },
  {
   "cell_type": "code",
   "execution_count": 12,
   "id": "96697c49",
   "metadata": {},
   "outputs": [
    {
     "data": {
      "text/plain": [
       "'t PWskills n PWskills a'"
      ]
     },
     "execution_count": 12,
     "metadata": {},
     "output_type": "execute_result"
    }
   ],
   "source": [
    "' PWskills '.join(reversed(\"ant\"))"
   ]
  },
  {
   "cell_type": "code",
   "execution_count": 13,
   "id": "ffdf2804",
   "metadata": {},
   "outputs": [
    {
     "data": {
      "text/plain": [
       "['t', 'n', 'a']"
      ]
     },
     "execution_count": 13,
     "metadata": {},
     "output_type": "execute_result"
    }
   ],
   "source": [
    "list(reversed(\"ant\"))   ## Converted the string ant in order of list in reverse order"
   ]
  },
  {
   "cell_type": "code",
   "execution_count": 14,
   "id": "b2126ed4",
   "metadata": {},
   "outputs": [],
   "source": [
    "str1=\"Hello world\"\n"
   ]
  },
  {
   "cell_type": "code",
   "execution_count": 15,
   "id": "ebada49f",
   "metadata": {},
   "outputs": [
    {
     "name": "stdout",
     "output_type": "stream",
     "text": [
      "sretsaM ecneicS ataD"
     ]
    }
   ],
   "source": [
    "## Example using for loop\n",
    "\n",
    "\n",
    "for i in list(reversed(name)):\n",
    "    print(i,end='')"
   ]
  },
  {
   "cell_type": "code",
   "execution_count": 16,
   "id": "22368e7b",
   "metadata": {},
   "outputs": [],
   "source": [
    "## Removing character from the end of the string"
   ]
  },
  {
   "cell_type": "code",
   "execution_count": 17,
   "id": "7c4337a7",
   "metadata": {},
   "outputs": [],
   "source": [
    "string_a=\" PWsills \""
   ]
  },
  {
   "cell_type": "code",
   "execution_count": 18,
   "id": "53b5054c",
   "metadata": {},
   "outputs": [
    {
     "data": {
      "text/plain": [
       "'PWsills'"
      ]
     },
     "execution_count": 18,
     "metadata": {},
     "output_type": "execute_result"
    }
   ],
   "source": [
    "string_a.strip(\" \")  ## The strip fucntion removes the tab "
   ]
  },
  {
   "cell_type": "code",
   "execution_count": 20,
   "id": "1b3a0aa2",
   "metadata": {},
   "outputs": [
    {
     "data": {
      "text/plain": [
       "'PWsills '"
      ]
     },
     "execution_count": 20,
     "metadata": {},
     "output_type": "execute_result"
    }
   ],
   "source": [
    "string_a.lstrip(\" \")   ## Removes the left tab from the string"
   ]
  },
  {
   "cell_type": "code",
   "execution_count": 21,
   "id": "b77355b1",
   "metadata": {},
   "outputs": [
    {
     "data": {
      "text/plain": [
       "' PWsills'"
      ]
     },
     "execution_count": 21,
     "metadata": {},
     "output_type": "execute_result"
    }
   ],
   "source": [
    "string_a.rstrip(\" \")    ## Removes the right tab from the string"
   ]
  },
  {
   "cell_type": "code",
   "execution_count": 22,
   "id": "558fccaa",
   "metadata": {},
   "outputs": [],
   "source": [
    "### Relacing the word of the string"
   ]
  },
  {
   "cell_type": "code",
   "execution_count": 23,
   "id": "50e7187c",
   "metadata": {},
   "outputs": [
    {
     "data": {
      "text/plain": [
       "'Greetings from PWskills'"
      ]
     },
     "execution_count": 23,
     "metadata": {},
     "output_type": "execute_result"
    }
   ],
   "source": [
    "string_n=\"Greetings to PWskills\"\n",
    "string_n.replace(\"to\" , \"from\")     ## Replace the word \"to\" to \"From\" in the string"
   ]
  },
  {
   "cell_type": "code",
   "execution_count": 24,
   "id": "84345da7",
   "metadata": {},
   "outputs": [
    {
     "data": {
      "text/plain": [
       "'Welcome to PWskills'"
      ]
     },
     "execution_count": 24,
     "metadata": {},
     "output_type": "execute_result"
    }
   ],
   "source": [
    "string_n.replace(\"Greetings\" , \"Welcome\")"
   ]
  },
  {
   "cell_type": "code",
   "execution_count": 26,
   "id": "4c5d1428",
   "metadata": {},
   "outputs": [],
   "source": [
    "##Example2\n"
   ]
  },
  {
   "cell_type": "code",
   "execution_count": 27,
   "id": "00d51ee2",
   "metadata": {},
   "outputs": [
    {
     "data": {
      "text/plain": [
       "'test gmail.com'"
      ]
     },
     "execution_count": 27,
     "metadata": {},
     "output_type": "execute_result"
    }
   ],
   "source": [
    "string_n=\"test@gmail.com\"\n",
    "var_a=string_n.replace(\"@\", \" \")\n",
    "var_a"
   ]
  },
  {
   "cell_type": "code",
   "execution_count": 28,
   "id": "55fbe904",
   "metadata": {},
   "outputs": [
    {
     "data": {
      "text/plain": [
       "'hello   world'"
      ]
     },
     "execution_count": 28,
     "metadata": {},
     "output_type": "execute_result"
    }
   ],
   "source": [
    "## expandtab() used for \\t\n",
    "\n",
    "'hello \\tworld'.expandtabs()"
   ]
  },
  {
   "cell_type": "code",
   "execution_count": 29,
   "id": "e318e98e",
   "metadata": {},
   "outputs": [
    {
     "data": {
      "text/plain": [
       "'Welcome to PWskills. Welcome to Data cience Masters'"
      ]
     },
     "execution_count": 29,
     "metadata": {},
     "output_type": "execute_result"
    }
   ],
   "source": [
    "#### \n",
    "\n",
    "str1=\"Welcome to PWskills. Welcome to Dat cience Masters\"\n",
    "str1.replace(\"Dat\" , \"Data\")"
   ]
  },
  {
   "cell_type": "code",
   "execution_count": 31,
   "id": "6d6dfd49",
   "metadata": {},
   "outputs": [
    {
     "data": {
      "text/plain": [
       "'Welcome to PWskills. Welcome to Data Science Masters'"
      ]
     },
     "execution_count": 31,
     "metadata": {},
     "output_type": "execute_result"
    }
   ],
   "source": [
    "str1.replace(\"Dat\" , \"Data\").replace(\"cience\", \"Science\")"
   ]
  },
  {
   "cell_type": "code",
   "execution_count": 32,
   "id": "bcb5f1d8",
   "metadata": {},
   "outputs": [],
   "source": [
    "## How to check whether the string is in upper case or not\n"
   ]
  },
  {
   "cell_type": "code",
   "execution_count": 33,
   "id": "1ebc8021",
   "metadata": {},
   "outputs": [
    {
     "data": {
      "text/plain": [
       "'Welcome to PWskills. Welcome to Dat cience Masters'"
      ]
     },
     "execution_count": 33,
     "metadata": {},
     "output_type": "execute_result"
    }
   ],
   "source": [
    "str1"
   ]
  },
  {
   "cell_type": "code",
   "execution_count": 34,
   "id": "007b3601",
   "metadata": {},
   "outputs": [
    {
     "data": {
      "text/plain": [
       "False"
      ]
     },
     "execution_count": 34,
     "metadata": {},
     "output_type": "execute_result"
    }
   ],
   "source": [
    "str1.isupper()"
   ]
  },
  {
   "cell_type": "code",
   "execution_count": 35,
   "id": "8d2d5321",
   "metadata": {},
   "outputs": [
    {
     "data": {
      "text/plain": [
       "False"
      ]
     },
     "execution_count": 35,
     "metadata": {},
     "output_type": "execute_result"
    }
   ],
   "source": [
    "str1.islower()"
   ]
  },
  {
   "cell_type": "code",
   "execution_count": 36,
   "id": "39368b2a",
   "metadata": {},
   "outputs": [
    {
     "data": {
      "text/plain": [
       "True"
      ]
     },
     "execution_count": 36,
     "metadata": {},
     "output_type": "execute_result"
    }
   ],
   "source": [
    "str1_a=\"SUNITHA\"\n",
    "str1_a.isupper()"
   ]
  },
  {
   "cell_type": "code",
   "execution_count": 38,
   "id": "d32c0981",
   "metadata": {},
   "outputs": [
    {
     "data": {
      "text/plain": [
       "False"
      ]
     },
     "execution_count": 38,
     "metadata": {},
     "output_type": "execute_result"
    }
   ],
   "source": [
    "str1_b=\"SunithaKalyan\"  ## Check whether the string is empty ornot\n",
    "str1_b.isspace()"
   ]
  },
  {
   "cell_type": "code",
   "execution_count": 40,
   "id": "89d9e8e4",
   "metadata": {},
   "outputs": [
    {
     "name": "stdout",
     "output_type": "stream",
     "text": [
      "Hello\n"
     ]
    }
   ],
   "source": [
    "if ' '.isspace():\n",
    "    print(\"Hello\")"
   ]
  },
  {
   "cell_type": "code",
   "execution_count": 41,
   "id": "77e66860",
   "metadata": {},
   "outputs": [
    {
     "data": {
      "text/plain": [
       "True"
      ]
     },
     "execution_count": 41,
     "metadata": {},
     "output_type": "execute_result"
    }
   ],
   "source": [
    "## endswith   ::: check whther the last letter is ended with the specified letter. True or False.\n",
    "\n",
    "str2=\"PWskills\"\n",
    "str2.endswith('s')     "
   ]
  },
  {
   "cell_type": "code",
   "execution_count": 42,
   "id": "4bc599da",
   "metadata": {},
   "outputs": [
    {
     "data": {
      "text/plain": [
       "False"
      ]
     },
     "execution_count": 42,
     "metadata": {},
     "output_type": "execute_result"
    }
   ],
   "source": [
    "str2.endswith('l')"
   ]
  },
  {
   "cell_type": "code",
   "execution_count": 43,
   "id": "341d5dea",
   "metadata": {},
   "outputs": [],
   "source": [
    "### Startswith\n"
   ]
  },
  {
   "cell_type": "code",
   "execution_count": 44,
   "id": "6349a54b",
   "metadata": {},
   "outputs": [
    {
     "data": {
      "text/plain": [
       "True"
      ]
     },
     "execution_count": 44,
     "metadata": {},
     "output_type": "execute_result"
    }
   ],
   "source": [
    "str2.startswith('P')"
   ]
  },
  {
   "cell_type": "code",
   "execution_count": 46,
   "id": "d4487d8d",
   "metadata": {},
   "outputs": [
    {
     "data": {
      "text/plain": [
       "True"
      ]
     },
     "execution_count": 46,
     "metadata": {},
     "output_type": "execute_result"
    }
   ],
   "source": [
    "## Check if all the char in the string is alphanumeric.\n",
    "\n",
    "a=\"abcd1234\"\n",
    "a.isalnum()"
   ]
  },
  {
   "cell_type": "code",
   "execution_count": 48,
   "id": "40c80003",
   "metadata": {},
   "outputs": [
    {
     "name": "stdout",
     "output_type": "stream",
     "text": [
      "1\n",
      "2\n",
      "3\n",
      "4\n",
      "5\n",
      "6\n",
      "7\n",
      "8\n",
      "9\n",
      "10\n",
      "11\n"
     ]
    }
   ],
   "source": [
    "### Example Code to count the number of characters in a string\n",
    "\n",
    "str2=\"Hello world\"\n",
    "count=0\n",
    "for i in str2:\n",
    "    count=count+1\n",
    "    print(count)"
   ]
  },
  {
   "cell_type": "code",
   "execution_count": 49,
   "id": "de128a2b",
   "metadata": {},
   "outputs": [
    {
     "data": {
      "text/plain": [
       "11"
      ]
     },
     "execution_count": 49,
     "metadata": {},
     "output_type": "execute_result"
    }
   ],
   "source": [
    "len(str2)"
   ]
  },
  {
   "cell_type": "code",
   "execution_count": 50,
   "id": "51614dd7",
   "metadata": {},
   "outputs": [
    {
     "name": "stdout",
     "output_type": "stream",
     "text": [
      "H\n",
      "e\n",
      "l\n",
      "l\n",
      "o\n",
      " \n",
      "w\n",
      "o\n",
      "r\n",
      "l\n",
      "d\n"
     ]
    }
   ],
   "source": [
    "## Display \n",
    "\n",
    "for i in str2:\n",
    "    print(i)"
   ]
  },
  {
   "cell_type": "code",
   "execution_count": 51,
   "id": "ced6a968",
   "metadata": {},
   "outputs": [
    {
     "name": "stdout",
     "output_type": "stream",
     "text": [
      "H\n",
      "e\n",
      "l\n",
      "l\n",
      "o\n",
      " \n",
      "w\n",
      "o\n",
      "r\n",
      "l\n",
      "d\n"
     ]
    }
   ],
   "source": [
    "for i in range(len(str2)):      ## range of 0,11   \n",
    "    print(str2[i])              ## Iterating the for loop\n",
    "    "
   ]
  },
  {
   "cell_type": "code",
   "execution_count": 52,
   "id": "947e6f6c",
   "metadata": {},
   "outputs": [
    {
     "name": "stdout",
     "output_type": "stream",
     "text": [
      "0 = H\n",
      "1 = e\n",
      "2 = l\n",
      "3 = l\n",
      "4 = o\n",
      "5 =  \n",
      "6 = w\n",
      "7 = o\n",
      "8 = r\n",
      "9 = l\n",
      "10 = d\n"
     ]
    }
   ],
   "source": [
    "for i in range(len(str2)):      ## range of 0,11   \n",
    "    print(i,\"=\", str2[i]) "
   ]
  },
  {
   "cell_type": "code",
   "execution_count": 56,
   "id": "2361c2b1",
   "metadata": {},
   "outputs": [
    {
     "name": "stdout",
     "output_type": "stream",
     "text": [
      "d\n",
      "l\n",
      "r\n",
      "o\n",
      "w\n",
      " \n",
      "o\n",
      "l\n",
      "l\n",
      "e\n",
      "H\n"
     ]
    }
   ],
   "source": [
    "### Use index to iterate the string in reverse direction\n",
    "\n",
    "for i in range(len(str2)-1,-1,-1):\n",
    "    print(str2[i])\n",
    "\n"
   ]
  },
  {
   "cell_type": "code",
   "execution_count": 59,
   "id": "58f40870",
   "metadata": {},
   "outputs": [
    {
     "name": "stdout",
     "output_type": "stream",
     "text": [
      "n\n",
      "a\n",
      "y\n",
      "l\n",
      "a\n",
      "K\n"
     ]
    }
   ],
   "source": [
    "### Example  of reverse the string using while loop\n",
    "\n",
    "string=\"Kalyan\"\n",
    "ch=len(string)-1\n",
    "\n",
    "while ch>=0:\n",
    "    print(string[ch])\n",
    "    ch=ch-1"
   ]
  },
  {
   "cell_type": "code",
   "execution_count": 60,
   "id": "993dabff",
   "metadata": {},
   "outputs": [
    {
     "data": {
      "text/plain": [
       "-1"
      ]
     },
     "execution_count": 60,
     "metadata": {},
     "output_type": "execute_result"
    }
   ],
   "source": [
    "##Explanation\n",
    "ch"
   ]
  },
  {
   "cell_type": "code",
   "execution_count": 67,
   "id": "af6231fa",
   "metadata": {},
   "outputs": [
    {
     "data": {
      "text/plain": [
       "('K', 'a', 'l', 'y', 'a', 'n')"
      ]
     },
     "execution_count": 67,
     "metadata": {},
     "output_type": "execute_result"
    }
   ],
   "source": [
    "string[0], string[1],string[2],string[3],string[4] ,string[5]"
   ]
  },
  {
   "cell_type": "code",
   "execution_count": 69,
   "id": "abe24c69",
   "metadata": {},
   "outputs": [
    {
     "name": "stdout",
     "output_type": "stream",
     "text": [
      "P is not an vowel\n",
      "W is not an vowel\n",
      "s is not an vowel\n",
      "k is not an vowel\n",
      "i is a vowel\n",
      "l is not an vowel\n",
      "l is not an vowel\n",
      "s is not an vowel\n"
     ]
    }
   ],
   "source": [
    "### Check the vowels in the string given\n",
    "\n",
    "name=\"PWskills\"\n",
    "vowels=\"AaEeIiOoUu\"\n",
    "\n",
    "for ch in name:\n",
    "    if ch in vowels:\n",
    "        print(\"{} is a vowel\".format(ch))\n",
    "    else:\n",
    "        print(\"{} is not an vowel\".format(ch))"
   ]
  },
  {
   "cell_type": "markdown",
   "id": "19d1aa11",
   "metadata": {},
   "source": [
    "## list\n"
   ]
  },
  {
   "cell_type": "code",
   "execution_count": 70,
   "id": "a51b7c41",
   "metadata": {},
   "outputs": [
    {
     "data": {
      "text/plain": [
       "list"
      ]
     },
     "execution_count": 70,
     "metadata": {},
     "output_type": "execute_result"
    }
   ],
   "source": [
    "[]\n",
    "type([])"
   ]
  },
  {
   "cell_type": "code",
   "execution_count": 71,
   "id": "0929f924",
   "metadata": {},
   "outputs": [
    {
     "data": {
      "text/plain": [
       "['Sunitha', 'Kalyan', 'PWskills', 23]"
      ]
     },
     "execution_count": 71,
     "metadata": {},
     "output_type": "execute_result"
    }
   ],
   "source": [
    "[\"Sunitha\",\"Kalyan\",\"PWskills\",23]"
   ]
  },
  {
   "cell_type": "code",
   "execution_count": 72,
   "id": "1ad9c1db",
   "metadata": {},
   "outputs": [
    {
     "data": {
      "text/plain": [
       "[1, 2, 3, 4]"
      ]
     },
     "execution_count": 72,
     "metadata": {},
     "output_type": "execute_result"
    }
   ],
   "source": [
    "list([1,2,3,4])"
   ]
  },
  {
   "cell_type": "code",
   "execution_count": 74,
   "id": "e07033ca",
   "metadata": {},
   "outputs": [
    {
     "data": {
      "text/plain": [
       "'W'"
      ]
     },
     "execution_count": 74,
     "metadata": {},
     "output_type": "execute_result"
    }
   ],
   "source": [
    "str1[0]"
   ]
  },
  {
   "cell_type": "code",
   "execution_count": 75,
   "id": "b2cdca1c",
   "metadata": {},
   "outputs": [],
   "source": [
    "str1=\"PW Skills Data Science Masters\"\n"
   ]
  },
  {
   "cell_type": "code",
   "execution_count": 77,
   "id": "7fa6d891",
   "metadata": {},
   "outputs": [
    {
     "data": {
      "text/plain": [
       "['PW', 'Skills', 'Data', 'Science', 'Masters']"
      ]
     },
     "execution_count": 77,
     "metadata": {},
     "output_type": "execute_result"
    }
   ],
   "source": [
    "list(str1.split(\" \"))"
   ]
  },
  {
   "cell_type": "code",
   "execution_count": 79,
   "id": "102b88eb",
   "metadata": {},
   "outputs": [],
   "source": [
    "lst1=str1.split(\" \")"
   ]
  },
  {
   "cell_type": "code",
   "execution_count": 80,
   "id": "aaf6e8be",
   "metadata": {},
   "outputs": [
    {
     "data": {
      "text/plain": [
       "['PW', 'Skills', 'Data', 'Science', 'Masters']"
      ]
     },
     "execution_count": 80,
     "metadata": {},
     "output_type": "execute_result"
    }
   ],
   "source": [
    "lst1"
   ]
  },
  {
   "cell_type": "code",
   "execution_count": 81,
   "id": "c2a99c7e",
   "metadata": {},
   "outputs": [
    {
     "data": {
      "text/plain": [
       "['Skills', 'Data', 'Science', 'Masters']"
      ]
     },
     "execution_count": 81,
     "metadata": {},
     "output_type": "execute_result"
    }
   ],
   "source": [
    "lst1[1:]"
   ]
  },
  {
   "cell_type": "code",
   "execution_count": 82,
   "id": "0a075cd2",
   "metadata": {},
   "outputs": [],
   "source": [
    "lst1[2]=\"Datas\""
   ]
  },
  {
   "cell_type": "code",
   "execution_count": 83,
   "id": "fad21210",
   "metadata": {},
   "outputs": [
    {
     "data": {
      "text/plain": [
       "['PW', 'Skills', 'Datas', 'Science', 'Masters']"
      ]
     },
     "execution_count": 83,
     "metadata": {},
     "output_type": "execute_result"
    }
   ],
   "source": [
    "lst1"
   ]
  },
  {
   "cell_type": "code",
   "execution_count": 84,
   "id": "dd9fa517",
   "metadata": {},
   "outputs": [
    {
     "data": {
      "text/plain": [
       "['Masters', 'Datas', 'PW']"
      ]
     },
     "execution_count": 84,
     "metadata": {},
     "output_type": "execute_result"
    }
   ],
   "source": [
    "lst1[::-2]"
   ]
  },
  {
   "cell_type": "code",
   "execution_count": 85,
   "id": "884cb34d",
   "metadata": {},
   "outputs": [
    {
     "data": {
      "text/plain": [
       "[]"
      ]
     },
     "execution_count": 85,
     "metadata": {},
     "output_type": "execute_result"
    }
   ],
   "source": [
    "lst1[-5:3:-2]"
   ]
  },
  {
   "cell_type": "code",
   "execution_count": 86,
   "id": "644044cb",
   "metadata": {},
   "outputs": [
    {
     "data": {
      "text/plain": [
       "['PW']"
      ]
     },
     "execution_count": 86,
     "metadata": {},
     "output_type": "execute_result"
    }
   ],
   "source": [
    "lst1[-5::-2]"
   ]
  },
  {
   "cell_type": "code",
   "execution_count": 87,
   "id": "913481c2",
   "metadata": {},
   "outputs": [
    {
     "data": {
      "text/plain": [
       "['PW', 'Skills', 'Datas', 'Science', 'Masters']"
      ]
     },
     "execution_count": 87,
     "metadata": {},
     "output_type": "execute_result"
    }
   ],
   "source": [
    "### Concatenation Operation\n",
    "lst1"
   ]
  },
  {
   "cell_type": "code",
   "execution_count": 88,
   "id": "fcb2cc34",
   "metadata": {},
   "outputs": [
    {
     "data": {
      "text/plain": [
       "['PW', 'Skills', 'Datas', 'Science', 'Masters', 'new element', 3]"
      ]
     },
     "execution_count": 88,
     "metadata": {},
     "output_type": "execute_result"
    }
   ],
   "source": [
    "lst1 + ['new element',3]"
   ]
  },
  {
   "cell_type": "code",
   "execution_count": 89,
   "id": "0b117900",
   "metadata": {},
   "outputs": [
    {
     "data": {
      "text/plain": [
       "['PW', 'Skills', 'Datas', 'Science', 'Masters', ['new element', 3]]"
      ]
     },
     "execution_count": 89,
     "metadata": {},
     "output_type": "execute_result"
    }
   ],
   "source": [
    "lst1 + [['new element',3]]"
   ]
  },
  {
   "cell_type": "code",
   "execution_count": 92,
   "id": "dbf83122",
   "metadata": {},
   "outputs": [
    {
     "data": {
      "text/plain": [
       "'new element'"
      ]
     },
     "execution_count": 92,
     "metadata": {},
     "output_type": "execute_result"
    }
   ],
   "source": [
    "## Iterate new element\n",
    "\n",
    "\n",
    "lst2=lst1 + [['new element',3]]\n",
    "lst2[-1][0]"
   ]
  },
  {
   "cell_type": "code",
   "execution_count": 91,
   "id": "019164b9",
   "metadata": {},
   "outputs": [
    {
     "data": {
      "text/plain": [
       "['PW',\n",
       " 'Skills',\n",
       " 'Datas',\n",
       " 'Science',\n",
       " 'Masters',\n",
       " 'PW',\n",
       " 'Skills',\n",
       " 'Datas',\n",
       " 'Science',\n",
       " 'Masters']"
      ]
     },
     "execution_count": 91,
     "metadata": {},
     "output_type": "execute_result"
    }
   ],
   "source": [
    "## Example\n",
    "\n",
    "lst1 * 2   ### Repeating all the elements of list1 twice"
   ]
  },
  {
   "cell_type": "code",
   "execution_count": 111,
   "id": "5e74799b",
   "metadata": {},
   "outputs": [
    {
     "data": {
      "text/plain": [
       "['Zebra', 'Monkey', 'Donkey', 'Lion']"
      ]
     },
     "execution_count": 111,
     "metadata": {},
     "output_type": "execute_result"
    }
   ],
   "source": [
    "lst1"
   ]
  },
  {
   "cell_type": "code",
   "execution_count": 98,
   "id": "f8b472cf",
   "metadata": {},
   "outputs": [
    {
     "ename": "IndentationError",
     "evalue": "unexpected indent (<ipython-input-98-4cad9a9aebe6>, line 5)",
     "output_type": "error",
     "traceback": [
      "\u001b[1;36m  File \u001b[1;32m\"<ipython-input-98-4cad9a9aebe6>\"\u001b[1;36m, line \u001b[1;32m5\u001b[0m\n\u001b[1;33m    if \"science\" in lst1:\u001b[0m\n\u001b[1;37m    ^\u001b[0m\n\u001b[1;31mIndentationError\u001b[0m\u001b[1;31m:\u001b[0m unexpected indent\n"
     ]
    }
   ],
   "source": [
    "## Check whether Science is present or not. If present stop the iteration\n",
    "\n",
    "\n",
    "\n",
    "    if \"science\" in lst1:\n",
    "        print(\"Present\")\n",
    "       "
   ]
  },
  {
   "cell_type": "code",
   "execution_count": null,
   "id": "b166c65a",
   "metadata": {},
   "outputs": [],
   "source": [
    "lst20=[\"PWskills\",\"Data\",\"Science\",\"Masters\"]"
   ]
  },
  {
   "cell_type": "code",
   "execution_count": 113,
   "id": "7aff3aba",
   "metadata": {},
   "outputs": [
    {
     "ename": "NameError",
     "evalue": "name 'lst20' is not defined",
     "output_type": "error",
     "traceback": [
      "\u001b[1;31m---------------------------------------------------------------------------\u001b[0m",
      "\u001b[1;31mNameError\u001b[0m                                 Traceback (most recent call last)",
      "\u001b[1;32m<ipython-input-113-75c8c21f763a>\u001b[0m in \u001b[0;36m<module>\u001b[1;34m\u001b[0m\n\u001b[1;32m----> 1\u001b[1;33m \u001b[0mlst20\u001b[0m\u001b[1;33m\u001b[0m\u001b[1;33m\u001b[0m\u001b[0m\n\u001b[0m",
      "\u001b[1;31mNameError\u001b[0m: name 'lst20' is not defined"
     ]
    }
   ],
   "source": [
    "lst20"
   ]
  },
  {
   "cell_type": "code",
   "execution_count": 108,
   "id": "3521d5b2",
   "metadata": {},
   "outputs": [],
   "source": [
    "for elements in lst1:\n",
    "    if elements==\"science\":\n",
    "        print(elements)\n",
    "        break\n",
    "       "
   ]
  },
  {
   "cell_type": "code",
   "execution_count": null,
   "id": "1f9a74ca",
   "metadata": {},
   "outputs": [],
   "source": []
  },
  {
   "cell_type": "code",
   "execution_count": 103,
   "id": "ddcf3fea",
   "metadata": {},
   "outputs": [
    {
     "data": {
      "text/plain": [
       "True"
      ]
     },
     "execution_count": 103,
     "metadata": {},
     "output_type": "execute_result"
    }
   ],
   "source": [
    "### Check elements inside the list\n",
    "\n",
    "\n",
    "lst=[1,2,3,4]\n",
    "4 in lst"
   ]
  },
  {
   "cell_type": "code",
   "execution_count": 104,
   "id": "e2e2b3cc",
   "metadata": {},
   "outputs": [
    {
     "name": "stdout",
     "output_type": "stream",
     "text": [
      "Zebra\n"
     ]
    }
   ],
   "source": [
    "### Print Max of List1\n",
    "\n",
    "\n",
    "lst1=[\"Zebra\",\"Monkey\",\"Donkey\",\"Lion\"]\n",
    "lst2=[5,6,2,9,8,6]\n",
    "\n",
    "print(max(lst1))     ### Checks for ASCII Characters and displays the maximum"
   ]
  },
  {
   "cell_type": "code",
   "execution_count": 105,
   "id": "4fa13d59",
   "metadata": {},
   "outputs": [
    {
     "name": "stdout",
     "output_type": "stream",
     "text": [
      "9\n"
     ]
    }
   ],
   "source": [
    "print(max(lst2))"
   ]
  },
  {
   "cell_type": "code",
   "execution_count": 106,
   "id": "b8fe841e",
   "metadata": {},
   "outputs": [
    {
     "name": "stdout",
     "output_type": "stream",
     "text": [
      "Donkey\n"
     ]
    }
   ],
   "source": [
    "print(min(lst1))"
   ]
  },
  {
   "cell_type": "code",
   "execution_count": 107,
   "id": "e0e7a71f",
   "metadata": {},
   "outputs": [
    {
     "name": "stdout",
     "output_type": "stream",
     "text": [
      "2\n"
     ]
    }
   ],
   "source": [
    "print(min(lst2))"
   ]
  },
  {
   "cell_type": "code",
   "execution_count": 114,
   "id": "d4df5015",
   "metadata": {},
   "outputs": [],
   "source": [
    "lst21=[\"PWsills\",\"Data\",\"Science\"]\n"
   ]
  },
  {
   "cell_type": "code",
   "execution_count": 115,
   "id": "c87bdeb1",
   "metadata": {},
   "outputs": [
    {
     "data": {
      "text/plain": [
       "['PWsills', 'Data', 'Science']"
      ]
     },
     "execution_count": 115,
     "metadata": {},
     "output_type": "execute_result"
    }
   ],
   "source": [
    "lst21"
   ]
  },
  {
   "cell_type": "code",
   "execution_count": 116,
   "id": "2e6cd496",
   "metadata": {},
   "outputs": [
    {
     "name": "stdout",
     "output_type": "stream",
     "text": [
      "Science\n"
     ]
    }
   ],
   "source": [
    "## Check whther Science present in lst21 or not\n",
    "for elements in lst21:\n",
    "    if elements==\"Science\":\n",
    "        print(elements)\n",
    "        break\n",
    "    "
   ]
  },
  {
   "cell_type": "code",
   "execution_count": 117,
   "id": "8b2295c8",
   "metadata": {},
   "outputs": [],
   "source": [
    "## Breaks the loop if Masters is not present in lst21\n",
    "for elements in lst21:\n",
    "    if elements==\"Masters\":\n",
    "        print(elements)\n",
    "        break\n",
    "    "
   ]
  },
  {
   "cell_type": "code",
   "execution_count": 118,
   "id": "e75fd4a0",
   "metadata": {},
   "outputs": [],
   "source": [
    "### insert() function"
   ]
  },
  {
   "cell_type": "code",
   "execution_count": 185,
   "id": "4e87b976",
   "metadata": {},
   "outputs": [
    {
     "data": {
      "text/plain": [
       "[1, 2, 3, 4, 5, 6]"
      ]
     },
     "execution_count": 185,
     "metadata": {},
     "output_type": "execute_result"
    }
   ],
   "source": [
    "lst30=[1,2,3,4,5,6]\n",
    "lst30"
   ]
  },
  {
   "cell_type": "code",
   "execution_count": 188,
   "id": "faced8fc",
   "metadata": {},
   "outputs": [],
   "source": [
    "lst30.insert(len(lst30)+1,3000)"
   ]
  },
  {
   "cell_type": "code",
   "execution_count": 189,
   "id": "8d55fd5a",
   "metadata": {},
   "outputs": [
    {
     "data": {
      "text/plain": [
       "[1, 2, 3, 4, 5, 6, 3000, 3000, 3000]"
      ]
     },
     "execution_count": 189,
     "metadata": {},
     "output_type": "execute_result"
    }
   ],
   "source": [
    "lst30"
   ]
  },
  {
   "cell_type": "markdown",
   "id": "bc5bc511",
   "metadata": {},
   "source": [
    "### "
   ]
  },
  {
   "cell_type": "code",
   "execution_count": null,
   "id": "b4e677c4",
   "metadata": {},
   "outputs": [],
   "source": []
  },
  {
   "cell_type": "code",
   "execution_count": null,
   "id": "72656a7d",
   "metadata": {},
   "outputs": [],
   "source": [
    "### Append Function It is used to append the new element in the list at the end.\n",
    "\n",
    "lst23=[1,2,3,4,5]"
   ]
  },
  {
   "cell_type": "code",
   "execution_count": 121,
   "id": "f15c820f",
   "metadata": {},
   "outputs": [],
   "source": [
    "lst23.append(\"PWskills\")    ## append"
   ]
  },
  {
   "cell_type": "code",
   "execution_count": 122,
   "id": "33e35307",
   "metadata": {},
   "outputs": [
    {
     "data": {
      "text/plain": [
       "[1, 2, 3, 4, 5, 'PWskills']"
      ]
     },
     "execution_count": 122,
     "metadata": {},
     "output_type": "execute_result"
    }
   ],
   "source": [
    "lst23"
   ]
  },
  {
   "cell_type": "code",
   "execution_count": 123,
   "id": "19d1b5c9",
   "metadata": {},
   "outputs": [],
   "source": [
    "lst23.append([\"a\",\"b\",\"c\"])  ## Append the list to the existing ones."
   ]
  },
  {
   "cell_type": "code",
   "execution_count": 124,
   "id": "3ba95cf8",
   "metadata": {},
   "outputs": [
    {
     "data": {
      "text/plain": [
       "[1, 2, 3, 4, 5, 'PWskills', ['a', 'b', 'c']]"
      ]
     },
     "execution_count": 124,
     "metadata": {},
     "output_type": "execute_result"
    }
   ],
   "source": [
    "lst23"
   ]
  },
  {
   "cell_type": "code",
   "execution_count": null,
   "id": "5f8ff442",
   "metadata": {},
   "outputs": [],
   "source": [
    "## Extend operation"
   ]
  },
  {
   "cell_type": "code",
   "execution_count": 139,
   "id": "273e8f0a",
   "metadata": {},
   "outputs": [
    {
     "data": {
      "text/plain": [
       "[1, 2, 3, 4, 5, 'PWskills', ['a', 'b', 'c']]"
      ]
     },
     "execution_count": 139,
     "metadata": {},
     "output_type": "execute_result"
    }
   ],
   "source": [
    "lst23"
   ]
  },
  {
   "cell_type": "code",
   "execution_count": 141,
   "id": "9f7bd15f",
   "metadata": {},
   "outputs": [],
   "source": [
    "lst23.extend(['PW','Skills'])"
   ]
  },
  {
   "cell_type": "code",
   "execution_count": 142,
   "id": "efe722ef",
   "metadata": {},
   "outputs": [
    {
     "data": {
      "text/plain": [
       "[1, 2, 3, 4, 5, 'PWskills', ['a', 'b', 'c'], 'PW', 'Skills']"
      ]
     },
     "execution_count": 142,
     "metadata": {},
     "output_type": "execute_result"
    }
   ],
   "source": [
    "lst23"
   ]
  },
  {
   "cell_type": "code",
   "execution_count": null,
   "id": "3483354e",
   "metadata": {},
   "outputs": [],
   "source": []
  },
  {
   "cell_type": "code",
   "execution_count": 125,
   "id": "2f3e65f2",
   "metadata": {},
   "outputs": [],
   "source": [
    "## Exampl\n",
    "\n",
    "lst21=[\"PWsills\",\"Data\",\"Science\"]\n"
   ]
  },
  {
   "cell_type": "code",
   "execution_count": 126,
   "id": "923ecd62",
   "metadata": {},
   "outputs": [
    {
     "data": {
      "text/plain": [
       "'Science'"
      ]
     },
     "execution_count": 126,
     "metadata": {},
     "output_type": "execute_result"
    }
   ],
   "source": [
    "lst21.pop()    ## Removes the last String in list\n",
    "               ## We have not given any index in this"
   ]
  },
  {
   "cell_type": "code",
   "execution_count": 127,
   "id": "e9ced484",
   "metadata": {},
   "outputs": [
    {
     "data": {
      "text/plain": [
       "['PWsills', 'Data']"
      ]
     },
     "execution_count": 127,
     "metadata": {},
     "output_type": "execute_result"
    }
   ],
   "source": [
    "lst21"
   ]
  },
  {
   "cell_type": "code",
   "execution_count": 129,
   "id": "9349a563",
   "metadata": {},
   "outputs": [
    {
     "data": {
      "text/plain": [
       "'PWsills'"
      ]
     },
     "execution_count": 129,
     "metadata": {},
     "output_type": "execute_result"
    }
   ],
   "source": [
    "lst21.pop(0)    ## First string is removed from the list"
   ]
  },
  {
   "cell_type": "code",
   "execution_count": 131,
   "id": "993b5e4d",
   "metadata": {},
   "outputs": [
    {
     "ename": "IndexError",
     "evalue": "pop from empty list",
     "output_type": "error",
     "traceback": [
      "\u001b[1;31m---------------------------------------------------------------------------\u001b[0m",
      "\u001b[1;31mIndexError\u001b[0m                                Traceback (most recent call last)",
      "\u001b[1;32m<ipython-input-131-c9bbc5789aba>\u001b[0m in \u001b[0;36m<module>\u001b[1;34m\u001b[0m\n\u001b[1;32m----> 1\u001b[1;33m \u001b[0mremoved_element\u001b[0m\u001b[1;33m=\u001b[0m\u001b[0mlst21\u001b[0m\u001b[1;33m.\u001b[0m\u001b[0mpop\u001b[0m\u001b[1;33m(\u001b[0m\u001b[1;36m2\u001b[0m\u001b[1;33m)\u001b[0m\u001b[1;33m\u001b[0m\u001b[1;33m\u001b[0m\u001b[0m\n\u001b[0m\u001b[0;32m      2\u001b[0m \u001b[0mremoved_element\u001b[0m\u001b[1;33m\u001b[0m\u001b[1;33m\u001b[0m\u001b[0m\n",
      "\u001b[1;31mIndexError\u001b[0m: pop from empty list"
     ]
    }
   ],
   "source": [
    "removed_element=lst21.pop(2)\n",
    "removed_element"
   ]
  },
  {
   "cell_type": "code",
   "execution_count": 132,
   "id": "c5488d23",
   "metadata": {},
   "outputs": [],
   "source": [
    "## Sorting and Reversed method in List\n",
    "\n"
   ]
  },
  {
   "cell_type": "code",
   "execution_count": 133,
   "id": "022cf1b3",
   "metadata": {},
   "outputs": [
    {
     "data": {
      "text/plain": [
       "['a', 'e', 'i', 'o', 'u']"
      ]
     },
     "execution_count": 133,
     "metadata": {},
     "output_type": "execute_result"
    }
   ],
   "source": [
    "new_lst=['a','e','i','o','u']\n",
    "new_lst"
   ]
  },
  {
   "cell_type": "code",
   "execution_count": 134,
   "id": "d4dc74f5",
   "metadata": {},
   "outputs": [
    {
     "data": {
      "text/plain": [
       "['u', 'o', 'i', 'e', 'a']"
      ]
     },
     "execution_count": 134,
     "metadata": {},
     "output_type": "execute_result"
    }
   ],
   "source": [
    "new_lst[::-1]"
   ]
  },
  {
   "cell_type": "code",
   "execution_count": 135,
   "id": "68ceaa59",
   "metadata": {},
   "outputs": [],
   "source": [
    "## inplace operation\n",
    "\n",
    "new_lst.reverse()"
   ]
  },
  {
   "cell_type": "code",
   "execution_count": 136,
   "id": "5a0169f2",
   "metadata": {},
   "outputs": [
    {
     "data": {
      "text/plain": [
       "['u', 'o', 'i', 'e', 'a']"
      ]
     },
     "execution_count": 136,
     "metadata": {},
     "output_type": "execute_result"
    }
   ],
   "source": [
    "new_lst"
   ]
  },
  {
   "cell_type": "code",
   "execution_count": 137,
   "id": "927f1dfa",
   "metadata": {},
   "outputs": [],
   "source": [
    "## Sort the operation\n",
    "new_lst.sort()"
   ]
  },
  {
   "cell_type": "code",
   "execution_count": 138,
   "id": "8c72fc4f",
   "metadata": {},
   "outputs": [
    {
     "data": {
      "text/plain": [
       "['a', 'e', 'i', 'o', 'u']"
      ]
     },
     "execution_count": 138,
     "metadata": {},
     "output_type": "execute_result"
    }
   ],
   "source": [
    "\n",
    "new_lst"
   ]
  },
  {
   "cell_type": "markdown",
   "id": "46c86f8a",
   "metadata": {},
   "source": [
    "## Nested List"
   ]
  },
  {
   "cell_type": "code",
   "execution_count": 143,
   "id": "cc3152c5",
   "metadata": {},
   "outputs": [],
   "source": [
    "lst_1=[1,2,3]\n",
    "lst_2=[5,6,7]\n",
    "lst_3=[9,10,11]\n",
    "matrix=[lst_1,lst_2,lst_3]\n"
   ]
  },
  {
   "cell_type": "code",
   "execution_count": 144,
   "id": "ea56a2d9",
   "metadata": {},
   "outputs": [
    {
     "data": {
      "text/plain": [
       "[[1, 2, 3], [5, 6, 7], [9, 10, 11]]"
      ]
     },
     "execution_count": 144,
     "metadata": {},
     "output_type": "execute_result"
    }
   ],
   "source": [
    "matrix"
   ]
  },
  {
   "cell_type": "code",
   "execution_count": 145,
   "id": "73ce14b9",
   "metadata": {},
   "outputs": [
    {
     "data": {
      "text/plain": [
       "7"
      ]
     },
     "execution_count": 145,
     "metadata": {},
     "output_type": "execute_result"
    }
   ],
   "source": [
    "matrix[1][2]"
   ]
  },
  {
   "cell_type": "code",
   "execution_count": 147,
   "id": "40929240",
   "metadata": {},
   "outputs": [
    {
     "data": {
      "text/plain": [
       "[7]"
      ]
     },
     "execution_count": 147,
     "metadata": {},
     "output_type": "execute_result"
    }
   ],
   "source": [
    "matrix[1][2:]"
   ]
  },
  {
   "cell_type": "code",
   "execution_count": 148,
   "id": "5b8780df",
   "metadata": {},
   "outputs": [
    {
     "data": {
      "text/plain": [
       "[10, 11]"
      ]
     },
     "execution_count": 148,
     "metadata": {},
     "output_type": "execute_result"
    }
   ],
   "source": [
    "matrix[2][1:]"
   ]
  },
  {
   "cell_type": "code",
   "execution_count": 149,
   "id": "847a5da6",
   "metadata": {},
   "outputs": [
    {
     "data": {
      "text/plain": [
       "[1, 2, 3]"
      ]
     },
     "execution_count": 149,
     "metadata": {},
     "output_type": "execute_result"
    }
   ],
   "source": [
    "matrix[0][0:]"
   ]
  },
  {
   "cell_type": "markdown",
   "id": "1d9caf4b",
   "metadata": {},
   "source": [
    "### List Comprehension"
   ]
  },
  {
   "cell_type": "code",
   "execution_count": 150,
   "id": "ea9f9078",
   "metadata": {},
   "outputs": [
    {
     "data": {
      "text/plain": [
       "[0, 1, 2, 3, 4, 5, 6, 7, 8, 9, 10, 11, 12, 13, 14, 15, 16, 17, 18, 19]"
      ]
     },
     "execution_count": 150,
     "metadata": {},
     "output_type": "execute_result"
    }
   ],
   "source": [
    "[i for i in range(20)]"
   ]
  },
  {
   "cell_type": "code",
   "execution_count": 152,
   "id": "cd7173ef",
   "metadata": {},
   "outputs": [
    {
     "data": {
      "text/plain": [
       "[0,\n",
       " 'ODD NUMBER',\n",
       " 2,\n",
       " 'ODD NUMBER',\n",
       " 4,\n",
       " 'ODD NUMBER',\n",
       " 6,\n",
       " 'ODD NUMBER',\n",
       " 8,\n",
       " 'ODD NUMBER',\n",
       " 10,\n",
       " 'ODD NUMBER',\n",
       " 12,\n",
       " 'ODD NUMBER',\n",
       " 14,\n",
       " 'ODD NUMBER',\n",
       " 16,\n",
       " 'ODD NUMBER',\n",
       " 18,\n",
       " 'ODD NUMBER']"
      ]
     },
     "execution_count": 152,
     "metadata": {},
     "output_type": "execute_result"
    }
   ],
   "source": [
    "[i if i%2==0 else \"ODD NUMBER\" for i in range(20)]"
   ]
  },
  {
   "cell_type": "code",
   "execution_count": 154,
   "id": "853f70cc",
   "metadata": {},
   "outputs": [
    {
     "data": {
      "text/plain": [
       "[0, '', 2, '', 4, '', 6, '', 8, '', 10, '', 12, '', 14, '', 16, '', 18, '']"
      ]
     },
     "execution_count": 154,
     "metadata": {},
     "output_type": "execute_result"
    }
   ],
   "source": [
    "## EVEN NUMBER list comprehension\n",
    "\n",
    "[i if i%2==0 else \"\" for i in range(0,20)]"
   ]
  },
  {
   "cell_type": "code",
   "execution_count": 155,
   "id": "91e6516a",
   "metadata": {},
   "outputs": [
    {
     "data": {
      "text/plain": [
       "['', 1, '', 3, '', 5, '', 7, '', 9, '', 11, '', 13, '', 15, '', 17, '', 19]"
      ]
     },
     "execution_count": 155,
     "metadata": {},
     "output_type": "execute_result"
    }
   ],
   "source": [
    "## ODD  NUMBER Comprehension\n",
    "[i if i%2!=0 else \"\" for i in range(0,20)]"
   ]
  },
  {
   "cell_type": "code",
   "execution_count": 156,
   "id": "cc37d5bb",
   "metadata": {},
   "outputs": [],
   "source": [
    "## Find the summation of even number and odd numbers\n",
    "lst=[1,2,3,4,5,6,7,8]\n",
    "\n",
    "even=0\n",
    "odd=0\n",
    "\n",
    "\n"
   ]
  },
  {
   "cell_type": "code",
   "execution_count": 157,
   "id": "6606d4ac",
   "metadata": {},
   "outputs": [
    {
     "data": {
      "text/plain": [
       "[2, 4, 6, 8]"
      ]
     },
     "execution_count": 157,
     "metadata": {},
     "output_type": "execute_result"
    }
   ],
   "source": [
    "## Find the summation of even number and odd numbers\n",
    "## List Comprehension\n",
    "\n",
    "[num for num in lst if num%2==0]"
   ]
  },
  {
   "cell_type": "code",
   "execution_count": 161,
   "id": "779d1401",
   "metadata": {},
   "outputs": [],
   "source": [
    "even_sum=sum([num for num in lst if num%2==0])"
   ]
  },
  {
   "cell_type": "code",
   "execution_count": 162,
   "id": "aba6347d",
   "metadata": {},
   "outputs": [
    {
     "data": {
      "text/plain": [
       "20"
      ]
     },
     "execution_count": 162,
     "metadata": {},
     "output_type": "execute_result"
    }
   ],
   "source": [
    "even_sum"
   ]
  },
  {
   "cell_type": "code",
   "execution_count": 163,
   "id": "ed2cb777",
   "metadata": {},
   "outputs": [],
   "source": [
    "odd_sum=sum([num for num in lst if num%2!=0])"
   ]
  },
  {
   "cell_type": "code",
   "execution_count": 164,
   "id": "8b046e91",
   "metadata": {},
   "outputs": [
    {
     "data": {
      "text/plain": [
       "16"
      ]
     },
     "execution_count": 164,
     "metadata": {},
     "output_type": "execute_result"
    }
   ],
   "source": [
    "odd_sum"
   ]
  },
  {
   "cell_type": "code",
   "execution_count": 166,
   "id": "86b2c916",
   "metadata": {},
   "outputs": [
    {
     "data": {
      "text/plain": [
       "[1, 4, 9, 16, 25, 36]"
      ]
     },
     "execution_count": 166,
     "metadata": {},
     "output_type": "execute_result"
    }
   ],
   "source": [
    "## Sqaure of elements in the list\n",
    "lst2=[1,2,3,4,5,6]\n",
    "[num**2 for num in lst2]"
   ]
  },
  {
   "cell_type": "code",
   "execution_count": 182,
   "id": "fdbb68c9",
   "metadata": {},
   "outputs": [
    {
     "data": {
      "text/plain": [
       "[1, 2, 4]"
      ]
     },
     "execution_count": 182,
     "metadata": {},
     "output_type": "execute_result"
    }
   ],
   "source": [
    "## Create a list of only positive\n",
    "\n",
    "numbers=[1,2,-3,4,-5,0]\n",
    "[n for n in numbers if n>0]"
   ]
  },
  {
   "cell_type": "code",
   "execution_count": 169,
   "id": "2b9a19f2",
   "metadata": {},
   "outputs": [
    {
     "data": {
      "text/plain": [
       "['a', 'b']"
      ]
     },
     "execution_count": 169,
     "metadata": {},
     "output_type": "execute_result"
    }
   ],
   "source": [
    "## Create a list with only first letter\n",
    "\n",
    "words=['apple','banana']\n",
    "[word[0] for word in words]"
   ]
  },
  {
   "cell_type": "code",
   "execution_count": 171,
   "id": "b472c33c",
   "metadata": {},
   "outputs": [
    {
     "data": {
      "text/plain": [
       "[1, 2, 3, 4, 5, 6, 7, 8, 9]"
      ]
     },
     "execution_count": 171,
     "metadata": {},
     "output_type": "execute_result"
    }
   ],
   "source": [
    "## Flatten a list into a single list\n",
    "lists=[[1,2,3],[4,5,6],[7,8,9]]\n",
    "\n",
    "[num for sublist in lists for num in sublist]\n"
   ]
  },
  {
   "cell_type": "markdown",
   "id": "563b88b0",
   "metadata": {},
   "source": [
    "### ASSIGNMENT\n",
    "### CODE AND LIST COMPREHENSION\n"
   ]
  },
  {
   "cell_type": "markdown",
   "id": "a8e18c8f",
   "metadata": {},
   "source": [
    "1. Create the list of prime numbers from a given list\n",
    "2. Create the list of possible combinations of 2 elements from a list"
   ]
  },
  {
   "cell_type": "code",
   "execution_count": null,
   "id": "49f36f82",
   "metadata": {},
   "outputs": [],
   "source": []
  }
 ],
 "metadata": {
  "kernelspec": {
   "display_name": "Python 3",
   "language": "python",
   "name": "python3"
  },
  "language_info": {
   "codemirror_mode": {
    "name": "ipython",
    "version": 3
   },
   "file_extension": ".py",
   "mimetype": "text/x-python",
   "name": "python",
   "nbconvert_exporter": "python",
   "pygments_lexer": "ipython3",
   "version": "3.8.8"
  }
 },
 "nbformat": 4,
 "nbformat_minor": 5
}
