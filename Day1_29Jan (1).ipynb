{
 "cells": [
  {
   "cell_type": "code",
   "execution_count": 1,
   "id": "ca53d5c1-c921-46d8-98cd-0ab54e325620",
   "metadata": {},
   "outputs": [
    {
     "name": "stdout",
     "output_type": "stream",
     "text": [
      "12\n"
     ]
    }
   ],
   "source": [
    "i=10\n",
    "a=2\n",
    "b = i + a\n",
    "print(b)"
   ]
  },
  {
   "cell_type": "markdown",
   "id": "e495743e-278d-42a2-bc8d-180e0ed23247",
   "metadata": {},
   "source": [
    "## MY TEST"
   ]
  },
  {
   "cell_type": "code",
   "execution_count": 2,
   "id": "8ae39d04-8ebc-419c-9b2f-0e72d07396cd",
   "metadata": {},
   "outputs": [
    {
     "name": "stdout",
     "output_type": "stream",
     "text": [
      "55\n"
     ]
    }
   ],
   "source": [
    "i=10\n",
    "a=45\n",
    "b = i + a\n",
    "print(b)"
   ]
  },
  {
   "cell_type": "code",
   "execution_count": null,
   "id": "1e0568ee-85e1-4fc0-bf35-c228335071ba",
   "metadata": {},
   "outputs": [],
   "source": []
  },
  {
   "cell_type": "code",
   "execution_count": 3,
   "id": "145dffe3-e04c-4f02-b9f6-2fd6e5df66fa",
   "metadata": {},
   "outputs": [
    {
     "name": "stdout",
     "output_type": "stream",
     "text": [
      "40\n"
     ]
    }
   ],
   "source": [
    "## This is a small code\n",
    "i=10\n",
    "a=30\n",
    "b = i + a\n",
    "print(b)"
   ]
  },
  {
   "cell_type": "code",
   "execution_count": 7,
   "id": "512b81c1-718f-4937-a36d-34f118406829",
   "metadata": {},
   "outputs": [
    {
     "ename": "NameError",
     "evalue": "name 'code' is not defined",
     "output_type": "error",
     "traceback": [
      "\u001b[0;31m---------------------------------------------------------------------------\u001b[0m",
      "\u001b[0;31mNameError\u001b[0m                                 Traceback (most recent call last)",
      "Cell \u001b[0;32mIn[7], line 2\u001b[0m\n\u001b[1;32m      1\u001b[0m \u001b[38;5;66;03m### This is a simple python \u001b[39;00m\n\u001b[0;32m----> 2\u001b[0m \u001b[43mcode\u001b[49m \u001b[38;5;66;03m###\u001b[39;00m\n\u001b[1;32m      3\u001b[0m a\u001b[38;5;241m=\u001b[39m\u001b[38;5;241m20\u001b[39m\n\u001b[1;32m      4\u001b[0m \u001b[38;5;28mprint\u001b[39m(a)\n",
      "\u001b[0;31mNameError\u001b[0m: name 'code' is not defined"
     ]
    }
   ],
   "source": [
    "### This is a simple python \n",
    "code ###\n",
    "a=20\n",
    "print(a)"
   ]
  },
  {
   "cell_type": "code",
   "execution_count": null,
   "id": "b6268e5c-f6a1-460f-a930-a061b9db48a8",
   "metadata": {},
   "outputs": [],
   "source": []
  },
  {
   "cell_type": "code",
   "execution_count": 8,
   "id": "e2f9cc6e-8150-4b3f-80bc-67ac499491ae",
   "metadata": {},
   "outputs": [
    {
     "name": "stdout",
     "output_type": "stream",
     "text": [
      "20\n"
     ]
    }
   ],
   "source": [
    "### This is a simple python \n",
    "\n",
    "### \n",
    "a=20\n",
    "print(a)"
   ]
  },
  {
   "cell_type": "markdown",
   "id": "b59e9aa4-231e-4cd1-9c16-cfb3bb2a3350",
   "metadata": {},
   "source": [
    "# hello\n",
    "## hello1\n"
   ]
  },
  {
   "cell_type": "code",
   "execution_count": 10,
   "id": "b72bb6ea-6b65-4052-9134-cf0ef6d23e30",
   "metadata": {},
   "outputs": [],
   "source": [
    "#Pytthon Objects, numbers"
   ]
  },
  {
   "cell_type": "code",
   "execution_count": 12,
   "id": "4f998cad-7f42-4fe5-88b5-9c82ef35eb42",
   "metadata": {},
   "outputs": [
    {
     "name": "stdout",
     "output_type": "stream",
     "text": [
      "4\n"
     ]
    }
   ],
   "source": [
    "print(1+3)"
   ]
  },
  {
   "cell_type": "code",
   "execution_count": 13,
   "id": "e8d033b5-ccc3-45b4-a279-26a4f0fac319",
   "metadata": {},
   "outputs": [
    {
     "name": "stdout",
     "output_type": "stream",
     "text": [
      "5\n"
     ]
    }
   ],
   "source": [
    "a=5\n",
    "print(a)"
   ]
  },
  {
   "cell_type": "code",
   "execution_count": 15,
   "id": "4e5d7612-e287-43b7-b4ca-35bab7c11b02",
   "metadata": {},
   "outputs": [
    {
     "name": "stdout",
     "output_type": "stream",
     "text": [
      "Hello World\n"
     ]
    }
   ],
   "source": [
    "print(\"Hello World\")"
   ]
  },
  {
   "cell_type": "code",
   "execution_count": 3,
   "id": "73c49860-e804-4d0c-a263-9f1e0301692b",
   "metadata": {},
   "outputs": [
    {
     "name": "stdout",
     "output_type": "stream",
     "text": [
      "I am Sunitha \n",
      " I love Data Sceince\n"
     ]
    }
   ],
   "source": [
    "print(\"I am Sunitha \\n I love Data Sceince\")"
   ]
  },
  {
   "cell_type": "markdown",
   "id": "3323a095-0063-4362-b8b8-a05f9a7e7e23",
   "metadata": {},
   "source": [
    "Variable Assignment"
   ]
  },
  {
   "cell_type": "code",
   "execution_count": 18,
   "id": "18dfa084-74e4-49bb-832e-e7f91af12e16",
   "metadata": {},
   "outputs": [],
   "source": [
    "name=\"Sunitha\"\n",
    "company=\"PWSkills\""
   ]
  },
  {
   "cell_type": "code",
   "execution_count": 21,
   "id": "1ea2876c-f16b-4a75-b58f-2e4c2dfa1ab2",
   "metadata": {},
   "outputs": [],
   "source": [
    "name=\"Suni\""
   ]
  },
  {
   "cell_type": "code",
   "execution_count": 19,
   "id": "acff584b-a437-4fae-b637-8f6a55117c15",
   "metadata": {},
   "outputs": [
    {
     "data": {
      "text/plain": [
       "'Sunitha'"
      ]
     },
     "execution_count": 19,
     "metadata": {},
     "output_type": "execute_result"
    }
   ],
   "source": [
    "name"
   ]
  },
  {
   "cell_type": "markdown",
   "id": "544bdd35-39ed-4da5-9f32-418386caf50f",
   "metadata": {},
   "source": []
  },
  {
   "cell_type": "code",
   "execution_count": 22,
   "id": "ef89beb6-b9a3-4e2b-a410-c933cb504c8e",
   "metadata": {},
   "outputs": [
    {
     "data": {
      "text/plain": [
       "'Suni'"
      ]
     },
     "execution_count": 22,
     "metadata": {},
     "output_type": "execute_result"
    }
   ],
   "source": [
    "name"
   ]
  },
  {
   "cell_type": "code",
   "execution_count": 20,
   "id": "7ff332c3-450d-45a0-a82c-d56fc1988860",
   "metadata": {},
   "outputs": [
    {
     "data": {
      "text/plain": [
       "'PWSkills'"
      ]
     },
     "execution_count": 20,
     "metadata": {},
     "output_type": "execute_result"
    }
   ],
   "source": [
    "company"
   ]
  },
  {
   "cell_type": "code",
   "execution_count": 24,
   "id": "f8a2fa23-cd77-46be-940e-8f9972205cb1",
   "metadata": {},
   "outputs": [
    {
     "data": {
      "text/plain": [
       "str"
      ]
     },
     "execution_count": 24,
     "metadata": {},
     "output_type": "execute_result"
    }
   ],
   "source": [
    "type(\"fdfdfdf\")"
   ]
  },
  {
   "cell_type": "code",
   "execution_count": 25,
   "id": "54423d8e-297a-47b0-9339-fd749c93b78c",
   "metadata": {},
   "outputs": [
    {
     "data": {
      "text/plain": [
       "str"
      ]
     },
     "execution_count": 25,
     "metadata": {},
     "output_type": "execute_result"
    }
   ],
   "source": [
    "type(name)"
   ]
  },
  {
   "cell_type": "code",
   "execution_count": 26,
   "id": "45bdafe6-95b3-486b-b302-79aa0fa47638",
   "metadata": {},
   "outputs": [],
   "source": [
    "number=10"
   ]
  },
  {
   "cell_type": "code",
   "execution_count": 27,
   "id": "178f81f5-a40f-4b5f-8ef2-43389ec4cc34",
   "metadata": {},
   "outputs": [
    {
     "data": {
      "text/plain": [
       "int"
      ]
     },
     "execution_count": 27,
     "metadata": {},
     "output_type": "execute_result"
    }
   ],
   "source": [
    "type(number)"
   ]
  },
  {
   "cell_type": "code",
   "execution_count": 28,
   "id": "2c39e769-791c-4663-b785-ef865e239b78",
   "metadata": {},
   "outputs": [],
   "source": [
    "decimal_num=2.5"
   ]
  },
  {
   "cell_type": "code",
   "execution_count": 29,
   "id": "8163ee9c-0a89-4c49-a09e-e3ce95879b80",
   "metadata": {},
   "outputs": [
    {
     "data": {
      "text/plain": [
       "float"
      ]
     },
     "execution_count": 29,
     "metadata": {},
     "output_type": "execute_result"
    }
   ],
   "source": [
    "type(decimal_num)"
   ]
  },
  {
   "cell_type": "code",
   "execution_count": 30,
   "id": "6085c785-d6be-4e77-b931-87bfd6a4a3f2",
   "metadata": {},
   "outputs": [
    {
     "data": {
      "text/plain": [
       "complex"
      ]
     },
     "execution_count": 30,
     "metadata": {},
     "output_type": "execute_result"
    }
   ],
   "source": [
    "type(i+2j)"
   ]
  },
  {
   "cell_type": "markdown",
   "id": "d444287f-d618-4f9a-8d7f-e3b2daf59487",
   "metadata": {},
   "source": [
    "How to write a variable name"
   ]
  },
  {
   "cell_type": "code",
   "execution_count": 31,
   "id": "da88eb1e-0ce3-4638-b593-af2c4de51dfe",
   "metadata": {},
   "outputs": [],
   "source": [
    "#We should not start the variable name with a number\n",
    "number1=23\n"
   ]
  },
  {
   "cell_type": "code",
   "execution_count": 32,
   "id": "e83562cc-52ff-4f7b-bc8d-5c68ed38aee7",
   "metadata": {},
   "outputs": [],
   "source": [
    "company=\"PWskills\"\n",
    "Company=\"Ineuron\""
   ]
  },
  {
   "cell_type": "code",
   "execution_count": 33,
   "id": "6594bd79-5948-4052-9380-32edd5f5cb13",
   "metadata": {},
   "outputs": [
    {
     "name": "stdout",
     "output_type": "stream",
     "text": [
      "PWskills\n",
      "Ineuron\n"
     ]
    }
   ],
   "source": [
    "print(company)\n",
    "print(Company)"
   ]
  },
  {
   "cell_type": "code",
   "execution_count": 4,
   "id": "74312e14-de43-44a6-b4c1-235947f969cd",
   "metadata": {},
   "outputs": [
    {
     "data": {
      "text/plain": [
       "bool"
      ]
     },
     "execution_count": 4,
     "metadata": {},
     "output_type": "execute_result"
    }
   ],
   "source": [
    "type(not False)"
   ]
  },
  {
   "cell_type": "code",
   "execution_count": 4,
   "id": "d0ace72b-d7ac-4493-8965-a884064e107c",
   "metadata": {},
   "outputs": [
    {
     "name": "stdout",
     "output_type": "stream",
     "text": [
      "True\n"
     ]
    }
   ],
   "source": [
    "a=1\n",
    "if bool(a)==True:\n",
    "    print(\"True\")"
   ]
  },
  {
   "cell_type": "code",
   "execution_count": 5,
   "id": "f4f071f2-5edc-445a-9dbd-7a88d38c36e9",
   "metadata": {},
   "outputs": [
    {
     "data": {
      "text/plain": [
       "'45'"
      ]
     },
     "execution_count": 5,
     "metadata": {},
     "output_type": "execute_result"
    }
   ],
   "source": [
    "#covert number into a string\n",
    "str(45)"
   ]
  },
  {
   "cell_type": "code",
   "execution_count": 43,
   "id": "2bef87d8-9d70-49af-9d94-82cfa749d78c",
   "metadata": {},
   "outputs": [
    {
     "data": {
      "text/plain": [
       "23"
      ]
     },
     "execution_count": 43,
     "metadata": {},
     "output_type": "execute_result"
    }
   ],
   "source": [
    "int('23')"
   ]
  },
  {
   "cell_type": "code",
   "execution_count": 44,
   "id": "210d81ca-5bb2-4fc1-96cd-fa35d8681034",
   "metadata": {},
   "outputs": [
    {
     "data": {
      "text/plain": [
       "int"
      ]
     },
     "execution_count": 44,
     "metadata": {},
     "output_type": "execute_result"
    }
   ],
   "source": [
    "type(int('23'))"
   ]
  },
  {
   "cell_type": "markdown",
   "id": "594387cd-21ed-450e-bd94-a30337bc5e78",
   "metadata": {},
   "source": [
    "Dynamic Typing"
   ]
  },
  {
   "cell_type": "code",
   "execution_count": null,
   "id": "24e052f6-b1f5-46a1-b105-4fb469f7230a",
   "metadata": {},
   "outputs": [],
   "source": [
    "#Dynamic Typing is a concept where Compiler undertstands at a run-time"
   ]
  },
  {
   "cell_type": "code",
   "execution_count": 45,
   "id": "3443f555-25f6-4ce1-b628-a7efb18bee5c",
   "metadata": {},
   "outputs": [],
   "source": [
    "a=12\n",
    "b=23\n",
    "a=\"Hello\""
   ]
  },
  {
   "cell_type": "code",
   "execution_count": 46,
   "id": "1d43e34b-9e56-45a7-808b-8f92890c4bda",
   "metadata": {},
   "outputs": [
    {
     "name": "stdout",
     "output_type": "stream",
     "text": [
      "<class 'str'>\n"
     ]
    }
   ],
   "source": [
    "print(type(a))"
   ]
  },
  {
   "cell_type": "code",
   "execution_count": 6,
   "id": "a5e700c5-a2d8-4885-8319-2411dca5ae4a",
   "metadata": {},
   "outputs": [
    {
     "name": "stdout",
     "output_type": "stream",
     "text": [
      "<class 'int'>\n"
     ]
    }
   ],
   "source": [
    "print(type(b))"
   ]
  },
  {
   "cell_type": "code",
   "execution_count": 47,
   "id": "822d5ace-cd57-40b9-a5c3-3b094fdfa130",
   "metadata": {},
   "outputs": [
    {
     "data": {
      "text/plain": [
       "1"
      ]
     },
     "execution_count": 47,
     "metadata": {},
     "output_type": "execute_result"
    }
   ],
   "source": [
    "int(1.54)"
   ]
  },
  {
   "cell_type": "code",
   "execution_count": 48,
   "id": "259ee724-d221-41e8-b25b-af8e57b04db9",
   "metadata": {},
   "outputs": [],
   "source": [
    "## Concatenation between different types"
   ]
  },
  {
   "cell_type": "code",
   "execution_count": 49,
   "id": "9efed22f-1f3a-41f7-a09f-3f5e43fb0b39",
   "metadata": {},
   "outputs": [
    {
     "data": {
      "text/plain": [
       "'1+1'"
      ]
     },
     "execution_count": 49,
     "metadata": {},
     "output_type": "execute_result"
    }
   ],
   "source": [
    "\"1+1\""
   ]
  },
  {
   "cell_type": "code",
   "execution_count": 8,
   "id": "72b42baa-6c8f-4caa-b8de-948fbf239d25",
   "metadata": {},
   "outputs": [
    {
     "data": {
      "text/plain": [
       "'1 * 100100'"
      ]
     },
     "execution_count": 8,
     "metadata": {},
     "output_type": "execute_result"
    }
   ],
   "source": [
    "\"1 * 100\" + \"100\""
   ]
  },
  {
   "cell_type": "code",
   "execution_count": 7,
   "id": "6a2d499d-473f-4f7e-a060-7c36f39d2415",
   "metadata": {},
   "outputs": [
    {
     "data": {
      "text/plain": [
       "str"
      ]
     },
     "execution_count": 7,
     "metadata": {},
     "output_type": "execute_result"
    }
   ],
   "source": [
    "type(\"1+1\")"
   ]
  },
  {
   "cell_type": "code",
   "execution_count": 6,
   "id": "26e3cbd6-1bbd-4858-94b9-f78b71eddaa4",
   "metadata": {},
   "outputs": [
    {
     "name": "stdin",
     "output_type": "stream",
     "text": [
      "Enter your price 2000\n"
     ]
    },
    {
     "name": "stdout",
     "output_type": "stream",
     "text": [
      "The price is 1400.0\n"
     ]
    }
   ],
   "source": [
    "# if the prod_price >3000 20% off\n",
    "#print the Price\n",
    "# prod_price>=2000 and <=3000 30% off\n",
    "\n",
    "product_price=int(input(\"Enter your price\"))\n",
    "if product_price>3000:\n",
    "  print(\"Price is {}\".format(product_price*0.8))\n",
    "elif product_price>=2000 and product_price<=3000:\n",
    "    print(f\"The price is {product_price*0.7}\")\n",
    "else:\n",
    "  print(\"Price is {}\".format(product_price*0.6))"
   ]
  },
  {
   "cell_type": "code",
   "execution_count": 9,
   "id": "f1d7fcc0-fa36-4133-9d27-61b1115f84fa",
   "metadata": {},
   "outputs": [
    {
     "name": "stdin",
     "output_type": "stream",
     "text": [
      "Enter your price 30\n"
     ]
    },
    {
     "name": "stdout",
     "output_type": "stream",
     "text": [
      "Lets drink Something\n"
     ]
    }
   ],
   "source": [
    "product_price=int(input(\"Enter your price\"))\n",
    "if product_price>3000:\n",
    "  print(\"Price is {}\".format(product_price*0.8))\n",
    "elif product_price>=2000 and product_price<=3000:\n",
    "    if product_price==2999:\n",
    "        print(\"Congratulations you got an additional gift\")\n",
    "    print(f\"The price is {product_price*0.7}\")\n",
    "elif product_price>=100 and product_price<=2000:\n",
    "    print(f\"The price is {product_price*0.6}\")\n",
    "else:\n",
    "  print(\"Lets drink Something\")"
   ]
  },
  {
   "cell_type": "code",
   "execution_count": null,
   "id": "06409de3-c72b-4236-84db-c01a320237a9",
   "metadata": {},
   "outputs": [],
   "source": []
  }
 ],
 "metadata": {
  "kernelspec": {
   "display_name": "Python 3 (ipykernel)",
   "language": "python",
   "name": "python3"
  },
  "language_info": {
   "codemirror_mode": {
    "name": "ipython",
    "version": 3
   },
   "file_extension": ".py",
   "mimetype": "text/x-python",
   "name": "python",
   "nbconvert_exporter": "python",
   "pygments_lexer": "ipython3",
   "version": "3.10.8"
  }
 },
 "nbformat": 4,
 "nbformat_minor": 5
}
