{
 "cells": [
  {
   "cell_type": "markdown",
   "id": "bc848654",
   "metadata": {},
   "source": [
    "## Q1. You are writing code for a company. The requirement of the company is that you create a python function that will check whether the password entered by the user is correct or not. The function should take the password as input and return the string “Valid Password” if the entered password follows the below-given password guidelines else it should return “Invalid Password”.\n",
    "\n",
    "\n",
    "## Note: 1. The Password should contain at least two uppercase letters and at least two lowercase letters."
   ]
  },
  {
   "cell_type": "code",
   "execution_count": 1,
   "id": "c3e0a7f8",
   "metadata": {},
   "outputs": [],
   "source": [
    "def validate():\n",
    "    password = input(\"Enter your Password::\")\n",
    "    if len(password)>8 or len(password)<6:\n",
    "        print(\"Maximum length of password is more than 8\")\n",
    "    else:\n",
    "        print(\"Great\")\n",
    "    if password.isupper() or password.islower():\n",
    "        print(\"Password\")"
   ]
  },
  {
   "cell_type": "code",
   "execution_count": 3,
   "id": "1401fe00",
   "metadata": {},
   "outputs": [
    {
     "name": "stdout",
     "output_type": "stream",
     "text": [
      "Enter your Password::SUNITHA@!\n",
      "Maximum length of password is more than 8\n",
      "Password\n"
     ]
    }
   ],
   "source": [
    "validate()"
   ]
  },
  {
   "cell_type": "code",
   "execution_count": 10,
   "id": "e9d32846",
   "metadata": {},
   "outputs": [],
   "source": [
    "## Normal function\n",
    "\n",
    "def f1(n,p):\n",
    "    return n**p\n"
   ]
  },
  {
   "cell_type": "code",
   "execution_count": 11,
   "id": "69fb3b58",
   "metadata": {},
   "outputs": [
    {
     "data": {
      "text/plain": [
       "4"
      ]
     },
     "execution_count": 11,
     "metadata": {},
     "output_type": "execute_result"
    }
   ],
   "source": [
    "f1(2,2)"
   ]
  },
  {
   "cell_type": "code",
   "execution_count": 29,
   "id": "7b826f2c",
   "metadata": {},
   "outputs": [],
   "source": [
    "## Lambda Function\n",
    "\n",
    "l1=[2,4,5,6,7]\n",
    "\n"
   ]
  },
  {
   "cell_type": "code",
   "execution_count": 30,
   "id": "4d6944d9",
   "metadata": {},
   "outputs": [
    {
     "data": {
      "text/plain": [
       "[2, 4, 5, 6, 7]"
      ]
     },
     "execution_count": 30,
     "metadata": {},
     "output_type": "execute_result"
    }
   ],
   "source": [
    "l1"
   ]
  },
  {
   "cell_type": "code",
   "execution_count": 32,
   "id": "2f6af485",
   "metadata": {},
   "outputs": [
    {
     "data": {
      "text/plain": [
       "[4, 16, 25, 36, 49]"
      ]
     },
     "execution_count": 32,
     "metadata": {},
     "output_type": "execute_result"
    }
   ],
   "source": [
    "list(map(lambda x: x**2,l1))"
   ]
  },
  {
   "cell_type": "code",
   "execution_count": 34,
   "id": "dd338ab0",
   "metadata": {},
   "outputs": [
    {
     "data": {
      "text/plain": [
       "[4, 16, 25, 36, 49]"
      ]
     },
     "execution_count": 34,
     "metadata": {},
     "output_type": "execute_result"
    }
   ],
   "source": [
    "def sq(x):\n",
    "    return x**2\n",
    "list(map(sq,l1))"
   ]
  },
  {
   "cell_type": "code",
   "execution_count": 35,
   "id": "69c12a04",
   "metadata": {},
   "outputs": [],
   "source": [
    "## FILTER FUNCTION"
   ]
  },
  {
   "cell_type": "code",
   "execution_count": 41,
   "id": "a3cb8bae",
   "metadata": {},
   "outputs": [
    {
     "data": {
      "text/plain": [
       "[2, 4, 6, 8]"
      ]
     },
     "execution_count": 41,
     "metadata": {},
     "output_type": "execute_result"
    }
   ],
   "source": [
    "l2 = [1,2,3,4,5,6,7,8,9]\n",
    "\n",
    "list(filter(lambda x:  x%2 == 0, l2 ))"
   ]
  },
  {
   "cell_type": "code",
   "execution_count": 4,
   "id": "331cc38c",
   "metadata": {},
   "outputs": [
    {
     "name": "stdout",
     "output_type": "stream",
     "text": [
      "<map object at 0x00000248CE2579D0>\n",
      "[9, 16, 2704]\n"
     ]
    }
   ],
   "source": [
    "### Map Function\n",
    "\n",
    "def mul(i):\n",
    "    return i*i\n",
    "\n",
    "x = map(mul,(3,4,52))\n",
    "print(x)\n",
    "print(list(x))"
   ]
  },
  {
   "cell_type": "code",
   "execution_count": 5,
   "id": "b7c05cee",
   "metadata": {},
   "outputs": [
    {
     "data": {
      "text/plain": [
       "[0, 1, 2, 3, 4, 5, 6, 7, 8, 9, 10, 11, 12, 13, 14, 15, 16, 17, 18, 19]"
      ]
     },
     "execution_count": 5,
     "metadata": {},
     "output_type": "execute_result"
    }
   ],
   "source": [
    "## List Comprehension\n",
    "\n",
    "[i for i in range(20)]"
   ]
  },
  {
   "cell_type": "code",
   "execution_count": 8,
   "id": "c161da4b",
   "metadata": {},
   "outputs": [
    {
     "data": {
      "text/plain": [
       "[0,\n",
       " 'odd',\n",
       " 2,\n",
       " 'odd',\n",
       " 4,\n",
       " 'odd',\n",
       " 6,\n",
       " 'odd',\n",
       " 8,\n",
       " 'odd',\n",
       " 10,\n",
       " 'odd',\n",
       " 12,\n",
       " 'odd',\n",
       " 14,\n",
       " 'odd',\n",
       " 16,\n",
       " 'odd',\n",
       " 18,\n",
       " 'odd']"
      ]
     },
     "execution_count": 8,
     "metadata": {},
     "output_type": "execute_result"
    }
   ],
   "source": [
    "[i if i%2 == 0 else \"odd\" for i in range(20)]"
   ]
  },
  {
   "cell_type": "code",
   "execution_count": 11,
   "id": "5d539563",
   "metadata": {},
   "outputs": [
    {
     "data": {
      "text/plain": [
       "[2, 4, 6, 8]"
      ]
     },
     "execution_count": 11,
     "metadata": {},
     "output_type": "execute_result"
    }
   ],
   "source": [
    "lst = [1,2,3,4,5,6,7,8]\n",
    "even = 0\n",
    "odd = 0\n",
    "[num for num in lst if num%2==0]"
   ]
  },
  {
   "cell_type": "code",
   "execution_count": 12,
   "id": "e0c3d650",
   "metadata": {},
   "outputs": [
    {
     "name": "stdout",
     "output_type": "stream",
     "text": [
      "[1, 4, 9, 16, 25]\n"
     ]
    }
   ],
   "source": [
    "## Squares of a number in a list\n",
    "\n",
    "lst = [1,2,3,4,5]\n",
    "for i in range(len(lst)):\n",
    "    lst[i] = lst[i] **2\n",
    "print(lst)"
   ]
  },
  {
   "cell_type": "code",
   "execution_count": 18,
   "id": "11cf5bf3",
   "metadata": {},
   "outputs": [
    {
     "ename": "SyntaxError",
     "evalue": "invalid syntax (<ipython-input-18-cebb8ff48f01>, line 3)",
     "output_type": "error",
     "traceback": [
      "\u001b[1;36m  File \u001b[1;32m\"<ipython-input-18-cebb8ff48f01>\"\u001b[1;36m, line \u001b[1;32m3\u001b[0m\n\u001b[1;33m    lst[i] = lst[i]***3\u001b[0m\n\u001b[1;37m                     ^\u001b[0m\n\u001b[1;31mSyntaxError\u001b[0m\u001b[1;31m:\u001b[0m invalid syntax\n"
     ]
    }
   ],
   "source": [
    "lst = []\n",
    "for i in range(10):\n",
    "    lst[i] = lst[i]***3\n",
    "    lst=append.i\n",
    "return lst"
   ]
  },
  {
   "cell_type": "code",
   "execution_count": 19,
   "id": "b7843a1e",
   "metadata": {},
   "outputs": [
    {
     "data": {
      "text/plain": [
       "[1, 3, 5, 7]"
      ]
     },
     "execution_count": 19,
     "metadata": {},
     "output_type": "execute_result"
    }
   ],
   "source": [
    "## Filter odd numbers in a list\n",
    "\n",
    "lst = [1,2,3,4,5,6,7]\n",
    "\n",
    "list(filter(lambda x: x%2!=0, lst))"
   ]
  },
  {
   "cell_type": "code",
   "execution_count": 20,
   "id": "3597de5f",
   "metadata": {},
   "outputs": [
    {
     "name": "stdout",
     "output_type": "stream",
     "text": [
      "The original list [1, 2, 3, 4, 5, 6, -1, -2, -3, -4, -5, 0]\n",
      "The final Sorted Operation:[1, 2, 3, 4, 5, 6, -5, -4, -3, -2, -1]\n"
     ]
    }
   ],
   "source": [
    "## sort a list of negative and positive numbers in a list\n",
    "\n",
    "test = [1,2,3,4,5,6,-1,-2,-3,-4,-5,0]\n",
    "print(\"The original list \" + str(test))\n",
    "result = sorted(filter(lambda x : x>0,test)) + sorted(filter(lambda x: x<0, test))\n",
    "print(\"The final Sorted Operation:\" + str(result) )"
   ]
  },
  {
   "cell_type": "code",
   "execution_count": null,
   "id": "04704b5b",
   "metadata": {},
   "outputs": [],
   "source": []
  }
 ],
 "metadata": {
  "kernelspec": {
   "display_name": "Python 3",
   "language": "python",
   "name": "python3"
  },
  "language_info": {
   "codemirror_mode": {
    "name": "ipython",
    "version": 3
   },
   "file_extension": ".py",
   "mimetype": "text/x-python",
   "name": "python",
   "nbconvert_exporter": "python",
   "pygments_lexer": "ipython3",
   "version": "3.8.8"
  }
 },
 "nbformat": 4,
 "nbformat_minor": 5
}
