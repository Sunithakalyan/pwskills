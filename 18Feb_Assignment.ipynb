{
 "cells": [
  {
   "cell_type": "markdown",
   "id": "8e7bb21e",
   "metadata": {},
   "source": [
    "## 1. What is an API? Give an example, where an API is used in real life."
   ]
  },
  {
   "cell_type": "code",
   "execution_count": 1,
   "id": "4e9d51bd",
   "metadata": {},
   "outputs": [],
   "source": [
    "### APIs are mechanisms that enable two software components to communicate with each other using a set of definitions and protocols. \n",
    "## For example:::  the weather bureau's software system contains daily weather data.\n",
    "## The weather app on your phone “talks” to this system via APIs and shows you daily weather updates on your phone.\n",
    "\n",
    "## More Examples where API's are used in Real Life::\n",
    "       ##Twitter Bots , Log-In Using XYZ, Weather Snippers, Pay with PayPal, Google Maps, Travel Booking, E-Commerce"
   ]
  },
  {
   "cell_type": "markdown",
   "id": "90fc472d",
   "metadata": {},
   "source": [
    "### 2. Give advantages and disadvantages of using API. "
   ]
  },
  {
   "cell_type": "code",
   "execution_count": 2,
   "id": "fc443dea",
   "metadata": {},
   "outputs": [],
   "source": [
    "## There are several benefits to API testing, including:\n",
    "\n",
    "  #1. It can help to ensure that an application’s functionality is working as expected.\n",
    "  #2. It can help to catch errors early on in the development process.\n",
    "  #3. It can provide more complete test coverage than UI testing alone.\n",
    "  #4. It can be used to automate tests.\n",
    "  #5. It can be less time-consuming than UI testing.\n",
    "    \n",
    "## Disavantages/Challenges of using API\n",
    "    \n",
    "  #1. APIs can be complex, making it difficult to create comprehensive tests.\n",
    "  #2. Automated API tests can be brittle and prone to false positives/negatives.\n",
    "  #3. maintaining test data can be difficult.\n",
    "  #4. It can be difficult to simulate all potential use cases.\n",
    "  #5. debugging can be challenging."
   ]
  },
  {
   "cell_type": "markdown",
   "id": "c911911c",
   "metadata": {},
   "source": [
    " ## 3.What is a Web API? Differentiate between API and Web API"
   ]
  },
  {
   "cell_type": "code",
   "execution_count": 3,
   "id": "86128728",
   "metadata": {},
   "outputs": [],
   "source": [
    "## Both APIs and web services are technologies that enable the transfer of data between separate software applications. \n",
    "## API is an interface that exposes an application's data to outside software,whereas web applications are one type of API with stricter requirements.\n",
    "## These requirements include network communication, SOAP as the primary protocol, and less accessibility for the public. \n"
   ]
  },
  {
   "cell_type": "markdown",
   "id": "7354a92a",
   "metadata": {},
   "source": [
    "## 4. Explain REST and SOAP Architecture. Mention shortcomings of SOAP."
   ]
  },
  {
   "cell_type": "code",
   "execution_count": 4,
   "id": "85e89b65",
   "metadata": {},
   "outputs": [],
   "source": [
    "## REST Architecture:::  REST (Representational State Transfer) is truly a “web services” API. \n",
    "## REST APIs are based on URIs (Uniform Resource Identifier, and the HTTP protocol and use JSON for a data format.\n",
    "##  REST APIs can be simple to build and scale, but they can also be massive and complicated\n",
    "## REST APIs facilitate client-server communications and architectures.\n",
    "## REST APIs use a single uniform interface.\n",
    "## REST is optimized for the web\n",
    "\n",
    "## SOAP Architecture:: SOAP (Simple Object Access Protocol) is its own protocol and is a bit more complex by defining more standards\n",
    "    ## than REST—things like security and how messages are sent. \n",
    "## These built-in standards do carry a bit more overhead. \n",
    "## SOAP has much tighter security.\n",
    "## Successful/retry logic for reliable messaging functionality.\n",
    "## SOAP has built-in ACID compliance"
   ]
  }
 ],
 "metadata": {
  "kernelspec": {
   "display_name": "Python 3",
   "language": "python",
   "name": "python3"
  },
  "language_info": {
   "codemirror_mode": {
    "name": "ipython",
    "version": 3
   },
   "file_extension": ".py",
   "mimetype": "text/x-python",
   "name": "python",
   "nbconvert_exporter": "python",
   "pygments_lexer": "ipython3",
   "version": "3.8.8"
  }
 },
 "nbformat": 4,
 "nbformat_minor": 5
}
