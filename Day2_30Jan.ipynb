{
 "cells": [
  {
   "cell_type": "code",
   "execution_count": 7,
   "id": "edaa61ab-0fe4-48b8-8518-c68c1f5cd9a7",
   "metadata": {},
   "outputs": [
    {
     "name": "stdin",
     "output_type": "stream",
     "text": [
      "Enter your price 3000\n"
     ]
    },
    {
     "name": "stdout",
     "output_type": "stream",
     "text": [
      "The price is 2100.0\n"
     ]
    }
   ],
   "source": [
    "# if the prod_price >3000 20% off\n",
    "#print the Price\n",
    "# prod_price>=2000 and <=3000 30% off\n",
    "\n",
    "product_price=int(input(\"Enter your price\"))\n",
    "if product_price>3000:\n",
    "  print(\"Price is {}\".format(product_price*0.8))\n",
    "elif product_price>=2000 and product_price<=3000:\n",
    "    print(f\"The price is {product_price*0.7}\")\n",
    "else:\n",
    "  print(\"Price is {}\".format(product_price*0.6))"
   ]
  },
  {
   "cell_type": "code",
   "execution_count": 8,
   "id": "529ff3f6-d606-44db-b0be-79b0d9aeb902",
   "metadata": {},
   "outputs": [
    {
     "name": "stdin",
     "output_type": "stream",
     "text": [
      "Enter your price 2000\n"
     ]
    },
    {
     "name": "stdout",
     "output_type": "stream",
     "text": [
      "The price is 1400.0\n"
     ]
    }
   ],
   "source": [
    "product_price=int(input(\"Enter your price\"))\n",
    "if product_price>3000:\n",
    "  print(\"Price is {}\".format(product_price*0.8))\n",
    "elif product_price>=2000 and product_price<=3000:\n",
    "    print(f\"The price is {product_price*0.7}\")\n",
    "elif product_price>=100 and product_price<=2000:\n",
    "    print(f\"The price is {product_price*0.6}\")\n",
    "else:\n",
    "  print(\"Lets drink Something\")"
   ]
  },
  {
   "cell_type": "code",
   "execution_count": 3,
   "id": "54da288b-c683-454d-ad1c-7bd75ca0a04c",
   "metadata": {},
   "outputs": [
    {
     "name": "stdin",
     "output_type": "stream",
     "text": [
      "Enter your price 5678\n"
     ]
    },
    {
     "name": "stdout",
     "output_type": "stream",
     "text": [
      "Price is 4542.400000000001\n"
     ]
    }
   ],
   "source": [
    "product_price=int(input(\"Enter your price\"))\n",
    "if product_price>3000:\n",
    "  print(\"Price is {}\".format(product_price*0.8))\n",
    "elif product_price>=2000 and product_price<=3000:\n",
    "    print(f\"The price is {product_price*0.7}\")\n",
    "elif product_price>=100 and product_price<=2000:\n",
    "    print(f\"The price is {product_price*0.6}\")\n",
    "else:\n",
    "  print(\"Lets drink Something\")"
   ]
  },
  {
   "cell_type": "code",
   "execution_count": 4,
   "id": "c4c1197b-3344-41fc-8afc-6a16f8c0e666",
   "metadata": {},
   "outputs": [
    {
     "name": "stdin",
     "output_type": "stream",
     "text": [
      "Enter your price 1973\n"
     ]
    },
    {
     "name": "stdout",
     "output_type": "stream",
     "text": [
      "The price is 1183.8\n"
     ]
    }
   ],
   "source": [
    "product_price=int(input(\"Enter your price\"))\n",
    "if product_price>3000:\n",
    "  print(\"Price is {}\".format(product_price*0.8))\n",
    "elif product_price>=2000 and product_price<=3000:\n",
    "    if product_price==2999:\n",
    "        print(\"Congratulations you got an additional gift\")\n",
    "    print(f\"The price is {product_price*0.7}\")\n",
    "elif product_price>=100 and product_price<=2000:\n",
    "    print(f\"The price is {product_price*0.6}\")\n",
    "else:\n",
    "  print(\"Lets drink Something\")\n",
    "\n"
   ]
  },
  {
   "cell_type": "code",
   "execution_count": 5,
   "id": "563acf39-6f7c-435f-8152-d8e142338fec",
   "metadata": {},
   "outputs": [
    {
     "name": "stdin",
     "output_type": "stream",
     "text": [
      "Enter the number 998\n"
     ]
    },
    {
     "name": "stdout",
     "output_type": "stream",
     "text": [
      "Go Home\n"
     ]
    }
   ],
   "source": [
    "#Single Statement\n",
    "val=int(input(\"Enter the number\"))\n",
    "if(val<=99):print(\"value is less than 999\")\n",
    "else:\n",
    "    print(\"Go Home\")"
   ]
  },
  {
   "cell_type": "code",
   "execution_count": 6,
   "id": "f2cebae8-aee6-4936-9890-5c05494619c9",
   "metadata": {},
   "outputs": [
    {
     "name": "stdout",
     "output_type": "stream",
     "text": [
      "25\n",
      "26\n",
      "27\n",
      "28\n",
      "29\n",
      "30\n",
      "31\n",
      "32\n",
      "33\n",
      "34\n",
      "35\n",
      "36\n",
      "37\n",
      "38\n",
      "39\n",
      "40\n",
      "41\n",
      "42\n",
      "43\n",
      "44\n",
      "45\n",
      "46\n",
      "47\n",
      "48\n",
      "49\n",
      "50\n",
      "51\n",
      "52\n",
      "53\n",
      "54\n",
      "55\n",
      "56\n",
      "57\n",
      "58\n",
      "59\n",
      "60\n",
      "Its retirement age\n"
     ]
    }
   ],
   "source": [
    "##while Loop\n",
    "joining_age=25\n",
    "while joining_age<=60:\n",
    "    print(joining_age)    \n",
    "    joining_age=joining_age+1\n",
    "else:\n",
    "    print(\"Its retirement age\")"
   ]
  },
  {
   "cell_type": "code",
   "execution_count": 3,
   "id": "14535c7c-28bd-4d36-b78a-8ddc89c875a5",
   "metadata": {},
   "outputs": [
    {
     "name": "stdout",
     "output_type": "stream",
     "text": [
      "1900\n",
      "1800\n",
      "1700\n",
      "1600\n",
      "1500\n",
      "1400\n",
      "1300\n",
      "1200\n",
      "1100\n",
      "1000\n",
      "900\n",
      "800\n",
      "700\n",
      "600\n",
      "500\n",
      "400\n",
      "300\n",
      "200\n",
      "100\n",
      "0\n",
      "put more money\n"
     ]
    }
   ],
   "source": [
    "tot_amt=2000\n",
    "while tot_amt!=0:\n",
    "    tot_amt=tot_amt-100\n",
    "    print(tot_amt)\n",
    "else:\n",
    "    print(\"put more money\")"
   ]
  },
  {
   "cell_type": "code",
   "execution_count": 8,
   "id": "bfa9725f-95a4-412e-acaa-7ae045e858bf",
   "metadata": {},
   "outputs": [],
   "source": [
    "lst=[\"Sunitha\",1,2,3,4,\"apple\",\"banana\"]"
   ]
  },
  {
   "cell_type": "code",
   "execution_count": 9,
   "id": "d4346f7f-306f-4da5-94db-e4ab65645ff4",
   "metadata": {},
   "outputs": [
    {
     "data": {
      "text/plain": [
       "list"
      ]
     },
     "execution_count": 9,
     "metadata": {},
     "output_type": "execute_result"
    }
   ],
   "source": [
    "type(lst)"
   ]
  },
  {
   "cell_type": "code",
   "execution_count": 11,
   "id": "c3004c49-354c-4d04-a760-bddf83a5f10f",
   "metadata": {},
   "outputs": [
    {
     "data": {
      "text/plain": [
       "'Sunitha'"
      ]
     },
     "execution_count": 11,
     "metadata": {},
     "output_type": "execute_result"
    }
   ],
   "source": [
    "lst[0]"
   ]
  },
  {
   "cell_type": "code",
   "execution_count": 12,
   "id": "98503bd6-7f2e-4956-ab09-61e34f2f0822",
   "metadata": {},
   "outputs": [
    {
     "data": {
      "text/plain": [
       "4"
      ]
     },
     "execution_count": 12,
     "metadata": {},
     "output_type": "execute_result"
    }
   ],
   "source": [
    "lst[4]"
   ]
  },
  {
   "cell_type": "code",
   "execution_count": 14,
   "id": "3a67d977-3568-40f7-87a7-0d4ca160db74",
   "metadata": {},
   "outputs": [
    {
     "data": {
      "text/plain": [
       "['Sunitha', 1, 2, 3, 4, 'apple', 'banana']"
      ]
     },
     "execution_count": 14,
     "metadata": {},
     "output_type": "execute_result"
    }
   ],
   "source": [
    "lst"
   ]
  },
  {
   "cell_type": "code",
   "execution_count": 15,
   "id": "72281cc7-72c9-446d-a51b-865f47e98ef5",
   "metadata": {},
   "outputs": [
    {
     "name": "stdout",
     "output_type": "stream",
     "text": [
      "Sunitha\n",
      "1\n",
      "2\n",
      "3\n",
      "4\n",
      "apple\n",
      "banana\n"
     ]
    }
   ],
   "source": [
    "# How do we iterate all the elements\n",
    "\n",
    "for x in lst:\n",
    "    print(x)"
   ]
  },
  {
   "cell_type": "code",
   "execution_count": 16,
   "id": "d08929e4-d0ce-4f1d-befc-f0751a469506",
   "metadata": {},
   "outputs": [
    {
     "name": "stdout",
     "output_type": "stream",
     "text": [
      "mango\n",
      "cherry\n"
     ]
    }
   ],
   "source": [
    "fruits_lst = [\"mango\", \"cherry\"]\n",
    "for a in fruits_lst:\n",
    "    print(a)"
   ]
  },
  {
   "cell_type": "code",
   "execution_count": 17,
   "id": "c886d4f4-c260-4d77-b7ea-b2555dc743aa",
   "metadata": {},
   "outputs": [
    {
     "name": "stdout",
     "output_type": "stream",
     "text": [
      "mango\n",
      "The fruit is mango\n",
      "cherry\n"
     ]
    }
   ],
   "source": [
    "## we can write if condition under for loop\n",
    "fruits_lst = [\"mango\", \"cherry\"]\n",
    "for a in fruits_lst:\n",
    "     print(a)\n",
    "     if a==\"mango\":\n",
    "        print(\"The fruit is mango\")"
   ]
  },
  {
   "cell_type": "code",
   "execution_count": 18,
   "id": "cd61e60d-a96f-4764-8b13-4cfe0e91100d",
   "metadata": {},
   "outputs": [
    {
     "name": "stdout",
     "output_type": "stream",
     "text": [
      "m\n",
      "a\n",
      "n\n",
      "g\n",
      "o\n"
     ]
    }
   ],
   "source": [
    "fruit='mango'\n",
    "for x in fruit:\n",
    "    print(x)"
   ]
  },
  {
   "cell_type": "code",
   "execution_count": 19,
   "id": "77ecad7d-4590-42e5-80f8-3f91c9bed901",
   "metadata": {},
   "outputs": [
    {
     "data": {
      "text/plain": [
       "'n'"
      ]
     },
     "execution_count": 19,
     "metadata": {},
     "output_type": "execute_result"
    }
   ],
   "source": [
    "fruit[0]\n",
    "fruit[1]\n",
    "fruit[2]"
   ]
  },
  {
   "cell_type": "code",
   "execution_count": 20,
   "id": "9290558d-d379-463b-814b-ede18ebe1fc8",
   "metadata": {},
   "outputs": [
    {
     "data": {
      "text/plain": [
       "'m'"
      ]
     },
     "execution_count": 20,
     "metadata": {},
     "output_type": "execute_result"
    }
   ],
   "source": [
    "fruit[0]"
   ]
  },
  {
   "cell_type": "code",
   "execution_count": 21,
   "id": "ada3988e-2f2a-4266-984a-85abdb325130",
   "metadata": {},
   "outputs": [
    {
     "data": {
      "text/plain": [
       "'a'"
      ]
     },
     "execution_count": 21,
     "metadata": {},
     "output_type": "execute_result"
    }
   ],
   "source": [
    "fruit[1]"
   ]
  },
  {
   "cell_type": "code",
   "execution_count": 22,
   "id": "a562c1f9-d46a-446d-a6bb-f0ad36abf2d2",
   "metadata": {},
   "outputs": [
    {
     "data": {
      "text/plain": [
       "range(1, 6)"
      ]
     },
     "execution_count": 22,
     "metadata": {},
     "output_type": "execute_result"
    }
   ],
   "source": [
    "### Nested Loops\n",
    "## range keyword is used to take the start and to values\n",
    "n=7\n",
    "range(1,6)"
   ]
  },
  {
   "cell_type": "code",
   "execution_count": 23,
   "id": "34084ce2-1c80-4176-88c4-2bb088bee478",
   "metadata": {},
   "outputs": [
    {
     "name": "stdout",
     "output_type": "stream",
     "text": [
      "1\n",
      "2\n",
      "3\n",
      "4\n",
      "5\n"
     ]
    }
   ],
   "source": [
    "for i in range(1,6):\n",
    "    print(i)"
   ]
  },
  {
   "cell_type": "code",
   "execution_count": 24,
   "id": "5df548c5-d640-4ec4-ac62-9f56f2a15700",
   "metadata": {},
   "outputs": [
    {
     "name": "stdout",
     "output_type": "stream",
     "text": [
      "0\n",
      "1\n",
      "2\n"
     ]
    }
   ],
   "source": [
    "for i in range (0,3):\n",
    "    print(i)\n",
    "    "
   ]
  },
  {
   "cell_type": "code",
   "execution_count": 25,
   "id": "97e8c321-b2f0-42a2-9163-91c513ee67df",
   "metadata": {},
   "outputs": [
    {
     "name": "stdout",
     "output_type": "stream",
     "text": [
      "1\n",
      "3\n",
      "5\n"
     ]
    }
   ],
   "source": [
    "for i in range(1,6,2):\n",
    "    print(i)"
   ]
  },
  {
   "cell_type": "code",
   "execution_count": 26,
   "id": "878b727f-e2d3-457a-9087-dd04bfd631e2",
   "metadata": {},
   "outputs": [
    {
     "name": "stdout",
     "output_type": "stream",
     "text": [
      "1\n",
      "4\n",
      "7\n"
     ]
    }
   ],
   "source": [
    "for i in range(1,10,3):\n",
    "    print(i)"
   ]
  },
  {
   "cell_type": "code",
   "execution_count": 27,
   "id": "9088f5f9-2c36-435e-b7ed-e3f6bcbd7ae1",
   "metadata": {},
   "outputs": [
    {
     "name": "stdout",
     "output_type": "stream",
     "text": [
      "****************************"
     ]
    }
   ],
   "source": [
    "## Nested Loops\n",
    "n=7\n",
    "for i in range(0,n):\n",
    "    for j in range(0,i+1):\n",
    "     print(\"*\",end=\"\")"
   ]
  },
  {
   "cell_type": "code",
   "execution_count": 28,
   "id": "0634e845-9fb4-413f-aa79-11fbbc54f43a",
   "metadata": {},
   "outputs": [
    {
     "name": "stdout",
     "output_type": "stream",
     "text": [
      "*\n",
      "**\n",
      "***\n",
      "****\n",
      "*****\n",
      "******\n",
      "*******\n"
     ]
    }
   ],
   "source": [
    "n=7\n",
    "for i in range(0,n):\n",
    "    for j in range(0,i+1):\n",
    "     print(\"*\",end=\"\")\n",
    "    print(\"\\r\")"
   ]
  },
  {
   "cell_type": "code",
   "execution_count": 29,
   "id": "0685f378-dd5f-400b-93fa-1e72f1396892",
   "metadata": {},
   "outputs": [
    {
     "name": "stdout",
     "output_type": "stream",
     "text": [
      "*\n",
      "\n",
      "**\n",
      "\n",
      "***\n",
      "\n",
      "****\n",
      "\n",
      "*****\n",
      "\n",
      "******\n",
      "\n",
      "*******\n",
      "\n"
     ]
    }
   ],
   "source": [
    "n=7\n",
    "for i in range(0,n):\n",
    "    for j in range(0,i+1):\n",
    "     print(\"*\",end=\"\")\n",
    "    print(\"\\n\")"
   ]
  },
  {
   "cell_type": "code",
   "execution_count": 3,
   "id": "8d1f37be-6ff2-401c-b154-063c75b11b8e",
   "metadata": {},
   "outputs": [
    {
     "name": "stdin",
     "output_type": "stream",
     "text": [
      "Enter the number of rows:  9\n"
     ]
    },
    {
     "name": "stdout",
     "output_type": "stream",
     "text": [
      "        *\n",
      "       ***\n",
      "      *****\n",
      "     *******\n",
      "    *********\n",
      "   ***********\n",
      "  *************\n",
      " ***************\n",
      "*****************\n"
     ]
    }
   ],
   "source": [
    "### Equilateral Traiangle\n",
    "#ASSIGNMENT PROBLEM\n",
    "\n",
    "num_rows = int(input(\"Enter the number of rows: \"))\n",
    "row = 0 #row intialize\n",
    "while(row < num_rows):\n",
    "    row += 1 #Rows count increase\n",
    "    s = num_rows - row #Spaces\n",
    "\n",
    "    sc = 0 #Space counter intialize\n",
    "    while(sc < s):\n",
    "        print(\" \", end='')\n",
    "        sc += 1\n",
    "\n",
    "    stars = 2*row-1 #Number of stars\n",
    "    while(stars > 0):\n",
    "        print(\"*\", end='')\n",
    "        stars -= 1\n",
    "    print()"
   ]
  },
  {
   "cell_type": "markdown",
   "id": "95dc7682-32d6-445a-87d0-4718976c6523",
   "metadata": {},
   "source": [
    "BREAK and CONTINUE"
   ]
  },
  {
   "cell_type": "code",
   "execution_count": 4,
   "id": "33053253-6abe-457d-9d92-51ccc4c7d831",
   "metadata": {},
   "outputs": [],
   "source": [
    "fruit_list = [\"Mango\",\"Apple\",\"Cherry\"]"
   ]
  },
  {
   "cell_type": "code",
   "execution_count": 5,
   "id": "d7362bb7-f983-42f0-9190-caf759ad972d",
   "metadata": {},
   "outputs": [
    {
     "name": "stdout",
     "output_type": "stream",
     "text": [
      "Mango\n",
      "Apple\n",
      "The fruit is in the list\n"
     ]
    }
   ],
   "source": [
    "for i in fruit_list:\n",
    "    if i==\"Cherry\":\n",
    "        print(\"The fruit is in the list\")\n",
    "        break\n",
    "    print(i)"
   ]
  },
  {
   "cell_type": "code",
   "execution_count": 33,
   "id": "d09aa315-401c-4504-a4e5-6424253d19df",
   "metadata": {},
   "outputs": [
    {
     "name": "stdout",
     "output_type": "stream",
     "text": [
      "Mango\n",
      "Apple\n",
      "The fruit is in the list\n",
      "Cherry\n"
     ]
    }
   ],
   "source": [
    "## Pass Statement\n",
    "for i in fruit_list:\n",
    "    if i==\"Cherry\":\n",
    "        print(\"The fruit is in the list\")\n",
    "        pass\n",
    "    print(i)"
   ]
  },
  {
   "cell_type": "code",
   "execution_count": 6,
   "id": "09e3619a-91a3-43a7-a99c-23eac6923eaa",
   "metadata": {},
   "outputs": [
    {
     "name": "stdout",
     "output_type": "stream",
     "text": [
      "Mango\n",
      "Apple\n",
      "The fruit is in the list\n"
     ]
    }
   ],
   "source": [
    "## Continue Statement\n",
    "for i in fruit_list:\n",
    "    if i==\"Cherry\":\n",
    "        print(\"The fruit is in the list\")\n",
    "        continue\n",
    "    print(i)"
   ]
  },
  {
   "cell_type": "code",
   "execution_count": 10,
   "id": "1a29119b-1e7b-44b5-a612-3b16b91d612e",
   "metadata": {},
   "outputs": [
    {
     "name": "stdout",
     "output_type": "stream",
     "text": [
      "1\n",
      "2\n",
      "3\n",
      "4\n"
     ]
    }
   ],
   "source": [
    "## Example of break statement\n",
    "## Print the values of x and break the loop when x is 4\n",
    "\n",
    "x = 1\n",
    "while x < 7:\n",
    "    print(x)\n",
    "    if x == 4:\n",
    "        break\n",
    "    x+= 1"
   ]
  },
  {
   "cell_type": "code",
   "execution_count": null,
   "id": "12d5d0d1-26d5-4efb-ac34-b8cdfbbf1b6b",
   "metadata": {},
   "outputs": [],
   "source": [
    "## Check for the eligibility criteria \n",
    "\n",
    "age=int(input(\"Enter the number:\")\n",
    "if age>=18:\n",
    "        status=\"Eligible to vote\"\n",
    "else:\n",
    "        status=\"Not Eligible to vote\"\n",
    "print(\"You are\" status)"
   ]
  },
  {
   "cell_type": "code",
   "execution_count": null,
   "id": "ec157b2e-17e7-4b67-bf9c-e1586180bddc",
   "metadata": {},
   "outputs": [],
   "source": []
  }
 ],
 "metadata": {
  "kernelspec": {
   "display_name": "Python 3 (ipykernel)",
   "language": "python",
   "name": "python3"
  },
  "language_info": {
   "codemirror_mode": {
    "name": "ipython",
    "version": 3
   },
   "file_extension": ".py",
   "mimetype": "text/x-python",
   "name": "python",
   "nbconvert_exporter": "python",
   "pygments_lexer": "ipython3",
   "version": "3.10.8"
  }
 },
 "nbformat": 4,
 "nbformat_minor": 5
}
