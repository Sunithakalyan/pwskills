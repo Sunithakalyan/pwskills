{
 "cells": [
  {
   "cell_type": "markdown",
   "id": "192ba537",
   "metadata": {},
   "source": [
    "## Q1. What is MongoDB? Explain non-relational databases in short. In which scenarios it is preferred to use MongoDB over SQL databases?"
   ]
  },
  {
   "cell_type": "code",
   "execution_count": 3,
   "id": "a1b352fc",
   "metadata": {},
   "outputs": [],
   "source": [
    "\n",
    "\n",
    "## NOSQL database\n",
    "##NoSQL databases (aka \"not only SQL\") are non-tabular databases and store data differently than relational tables. \n",
    "##NoSQL databases come in a variety of types based on their data model. The main types are document, key-value, wide-column, and graph. \n",
    "##They provide flexible schemas and scale easily with large amounts of data and high user loads.\n",
    "##Types of NOSQL databases: Document-based, Key-valued, Graph oriented and Column-based databases.\n",
    "\n",
    "##NoSQL document databases expand on the basic idea of key-value stores where ‘documents’ contain data and \n",
    "##each document is assigned a unique key, which is used to retrieve the document. \n",
    "##These are designed for storing, retrieving and managing document-oriented information, often stored as JSON (JavaScript Object Notation). Unlike RDBMSs, \n",
    "##which require a static schema, document databases have a flexible schema as defined by the document contents.\n",
    "\n",
    "##MONGODB:: One of the most commonly used open source NoSQL document databases is MongoDB. \n",
    "##MongoDB is sometimes referred to as a ‘schemaless’ database as it does not enforce a particular structure on documents in a collection.\n",
    "##MongoDB stores data in JSON-like documents that allow the data structure to be changed over time. If a new field needs to be added, \n",
    "##it can be added without affecting all other documents in the collection and without taking the database offline\n",
    "\n",
    "\n",
    "\n",
    "\n",
    " "
   ]
  },
  {
   "cell_type": "markdown",
   "id": "df6d08b4",
   "metadata": {},
   "source": [
    "## Q2. State and Explain the features of MongoDB"
   ]
  },
  {
   "cell_type": "code",
   "execution_count": 4,
   "id": "ea1b5895",
   "metadata": {},
   "outputs": [],
   "source": [
    "\n",
    "##MongoDB is a scalable, flexible NoSQL document database platform designed to overcome the relational databases approach and\n",
    "##the limitations of other NoSQL solutions. MongoDB is well known for its horizontal scaling and load balancing capabilities, \n",
    "##which has given application developers an unprecedented level of flexibility and scalability.\n",
    "\n",
    "\n",
    "## FEATURES of MONGODB:::\n",
    "    ## 1. Ad-hoc queries for optimized, real-time analytics::MongoDB supports field queries, range queries, and regular expression searches. Queries can return specific fields and also account for user-defined functions. \n",
    "    ## 2. Indexing appropriately for better query executions::\n",
    "    ## 3. Replication for better data availability and stability::\n",
    "    ## 4. Sharding::\n",
    "    ## 5. Load balancing::"
   ]
  },
  {
   "cell_type": "markdown",
   "id": "64659345",
   "metadata": {},
   "source": [
    "## Q3. Write a code to connect MongoDB to Python. Also, create a database and a collection in MongoDB."
   ]
  },
  {
   "cell_type": "code",
   "execution_count": 5,
   "id": "daf78a5e",
   "metadata": {},
   "outputs": [],
   "source": [
    "## I. To connect mongodb to python , firstly we have to \"\" install pip  pymongo \"\". Once we intsalled pymongo we have to create a database and a collection.\n",
    "\n",
    "## II. import pymongo\n",
    "    ## client = pymongo.MongoClient(\"mongodb+srv://PWSKILLS:<password>@cluster0.fycg7zi.mongodb.net/?retryWrites=true&w=majority\")\n",
    "    ## db = client['pwskills']\n",
    "    \n",
    "  ## Note::We have to change the username and password given while creating a mongodb cloud version database.\n",
    "\n",
    "## III.The above code explains that this jupyter notebook is connected to mongodb where it is mentioned as connect=True. The url is also mentioned.\n",
    "\n",
    "## IV.Once mongodb setup is done we have to store some data.\n",
    "        ## coll_create = db[\"my_record\"]\n",
    "    \n",
    "## V. ## We have to store this data inside my mongodb\n",
    "\n",
    "      ## data = {\"name\" : \"subhash\", \"course\" : \"Data Science Masters\", \"Timings\" : \"flexible\"}\n",
    "      ## coll_create.insert_one(data)\n",
    "        \n",
    "        "
   ]
  },
  {
   "cell_type": "markdown",
   "id": "216a1a93",
   "metadata": {},
   "source": [
    "## Q4. Using the database and the collection created in question number 3, write a code to insert one record, and insert many records. Use the find() and find_one() methods to print the inserted record."
   ]
  },
  {
   "cell_type": "code",
   "execution_count": 6,
   "id": "3b4729f5",
   "metadata": {},
   "outputs": [],
   "source": [
    "## ##Example::\n",
    "\n",
    "## data5= [{\"faculty\" : [\"Sudh\",\"Krishh\"], \"ph_no\" : [12321,56556,87877], \"location\" : (\"blore\",\"hyd\")},{\"name\" : \"subbulu\", \"course\" : [\"ai\",\"data science\"]}\n",
    "## coll_create.find()\n",
    "## coll_create.find_one()"
   ]
  },
  {
   "cell_type": "markdown",
   "id": "331e90f3",
   "metadata": {},
   "source": [
    "## Explain the sort() method. Give an example to demonstrate sorting in MongoDB."
   ]
  },
  {
   "cell_type": "code",
   "execution_count": null,
   "id": "34af8168",
   "metadata": {},
   "outputs": [],
   "source": [
    "## The sort() method is a method in MongoDB that is used to sort the documents in a collection. It takes one or more fields on which to sort, and the order in which to sort them.\n",
    "## The basic syntax of the sort() method in MongoDB is as follows:\n",
    "            ## db.collection.find().sort({field1: order1, field2: order2, ...})\n",
    "    \n",
    "    import pymongo\n",
    "\n",
    "client = pymongo.MongoClient(\"mongodb://localhost:27017/\")\n",
    "db = client[\"mydatabase\"]\n",
    "collection = db[\"students\"]\n",
    "\n",
    "result = collection.find().sort(\"grade\", -1)\n",
    "\n",
    "for document in result:\n",
    "    print(document)"
   ]
  },
  {
   "cell_type": "markdown",
   "id": "87af83e9",
   "metadata": {},
   "source": [
    "## Explain why delete_one(), delete_many(), and drop() is used."
   ]
  },
  {
   "cell_type": "code",
   "execution_count": 7,
   "id": "701e31db",
   "metadata": {},
   "outputs": [],
   "source": [
    "## delete_one(), delete_many(), and drop() are methods in MongoDB that are used to remove data from a collection. \n",
    "##Here's a brief explanation of what each method does and when you might want to use them:\n",
    "\n",
    "## delete_one(): This method is used to delete a single document from a collection that matches the specified filter. If multiple documents match the filter, only the first one will be deleted.\n",
    "## delete_many(): This method is used to delete all documents from a collection that match the specified filter. If no documents match the filter, nothing will be deleted.\n",
    "## drop(): This method is used to completely remove a collection from a database. This is different from deleting individual documents, as drop() removes the entire collection and all its indexes."
   ]
  }
 ],
 "metadata": {
  "kernelspec": {
   "display_name": "Python 3",
   "language": "python",
   "name": "python3"
  },
  "language_info": {
   "codemirror_mode": {
    "name": "ipython",
    "version": 3
   },
   "file_extension": ".py",
   "mimetype": "text/x-python",
   "name": "python",
   "nbconvert_exporter": "python",
   "pygments_lexer": "ipython3",
   "version": "3.8.8"
  }
 },
 "nbformat": 4,
 "nbformat_minor": 5
}
