{
 "cells": [
  {
   "cell_type": "markdown",
   "id": "6ef7463d",
   "metadata": {},
   "source": [
    "## Who developed Python Programming"
   ]
  },
  {
   "cell_type": "code",
   "execution_count": 1,
   "id": "833b6434",
   "metadata": {},
   "outputs": [],
   "source": [
    "## Guido van Rossum"
   ]
  },
  {
   "cell_type": "markdown",
   "id": "e70ac651",
   "metadata": {},
   "source": [
    "## Which types of programming does python support"
   ]
  },
  {
   "cell_type": "code",
   "execution_count": 2,
   "id": "0f4b1573",
   "metadata": {},
   "outputs": [],
   "source": [
    "## Python supports imperative, functional, procedural, and object-oriented programming."
   ]
  },
  {
   "cell_type": "markdown",
   "id": "efaa5436",
   "metadata": {},
   "source": [
    "## Is Python Case-Sensitive when dealing with identifiers"
   ]
  },
  {
   "cell_type": "code",
   "execution_count": 3,
   "id": "a0c499cb",
   "metadata": {},
   "outputs": [],
   "source": [
    "## Yes, It is case-sensitive"
   ]
  },
  {
   "cell_type": "markdown",
   "id": "60d5a321",
   "metadata": {},
   "source": [
    "## What is the correct extension of the python file"
   ]
  },
  {
   "cell_type": "code",
   "execution_count": 4,
   "id": "f5039a3d",
   "metadata": {},
   "outputs": [],
   "source": [
    "## The correct extension of the python file is .py"
   ]
  },
  {
   "cell_type": "markdown",
   "id": "b615e8cb",
   "metadata": {},
   "source": [
    "## Is Python code compiled or interpreted"
   ]
  },
  {
   "cell_type": "code",
   "execution_count": 5,
   "id": "1ebd34f8",
   "metadata": {},
   "outputs": [],
   "source": [
    "## Python is an interpreted language, which means \n",
    "## The source code of a Python program is converted into bytecode that is then executed by the Python virtual machine. "
   ]
  },
  {
   "cell_type": "markdown",
   "id": "ea3439a8",
   "metadata": {},
   "source": [
    "## Name a few blocks of code used to define in Python Language"
   ]
  },
  {
   "cell_type": "code",
   "execution_count": 7,
   "id": "2395c10d",
   "metadata": {},
   "outputs": [],
   "source": [
    "## 1) module\n",
    "## 2) function body\n",
    "## 3) class definition. Each command typed interactively is a block"
   ]
  },
  {
   "cell_type": "markdown",
   "id": "40cfbee9",
   "metadata": {},
   "source": [
    "## State a character used to give single-line comments in python"
   ]
  },
  {
   "cell_type": "code",
   "execution_count": 8,
   "id": "c9ed94e5",
   "metadata": {},
   "outputs": [],
   "source": [
    "## In python we use Single-line character(#) for comments"
   ]
  },
  {
   "cell_type": "markdown",
   "id": "68490d2d",
   "metadata": {},
   "source": [
    "## Mention functions which can help us to find the version of python that we are corrently working for"
   ]
  },
  {
   "cell_type": "code",
   "execution_count": 11,
   "id": "0fef5ec5",
   "metadata": {},
   "outputs": [
    {
     "data": {
      "text/plain": [
       "'3.8.8 (default, Apr 13 2021, 15:08:03) [MSC v.1916 64 bit (AMD64)]'"
      ]
     },
     "execution_count": 11,
     "metadata": {},
     "output_type": "execute_result"
    }
   ],
   "source": [
    "import sys\n",
    "\n",
    "sys.version"
   ]
  },
  {
   "cell_type": "markdown",
   "id": "82a2cf1a",
   "metadata": {},
   "source": [
    "## Python supports the creation of anonymous function at run time, using a construct called ____"
   ]
  },
  {
   "cell_type": "code",
   "execution_count": 12,
   "id": "120355f3",
   "metadata": {},
   "outputs": [],
   "source": [
    "## Anonymous function at run-time is lambda"
   ]
  },
  {
   "cell_type": "markdown",
   "id": "db38e56b",
   "metadata": {},
   "source": [
    "## What does pip stands for in python"
   ]
  },
  {
   "cell_type": "code",
   "execution_count": 13,
   "id": "a6eca572",
   "metadata": {},
   "outputs": [],
   "source": [
    "## Python Package Manager: pip is used to install packages."
   ]
  },
  {
   "cell_type": "markdown",
   "id": "cf1a4873",
   "metadata": {},
   "source": [
    "## Inbuilt- functions in python"
   ]
  },
  {
   "cell_type": "code",
   "execution_count": 15,
   "id": "5a4be271",
   "metadata": {},
   "outputs": [],
   "source": [
    "## abs()  : Returns the absolute value of a number\n",
    "## bin()  : Returns the binary version of a number\n",
    "## complex() : Returns the binary version of a number\n",
    "## enumerate() : Takes a collection (e.g. a tuple) and returns it as an enumerate object\n",
    "## format() : Formats a specified value\n",
    "## int() : Returns an integer number\n",
    "## range() : Returns a sequence of numbers, starting from 0 and increments by 1 (by default)\n",
    "## super : Returns an object that represents the parent class"
   ]
  },
  {
   "cell_type": "markdown",
   "id": "8295d271",
   "metadata": {},
   "source": [
    "## Maximum possible length of an identifier in python"
   ]
  },
  {
   "cell_type": "code",
   "execution_count": 16,
   "id": "730ecf6d",
   "metadata": {},
   "outputs": [],
   "source": [
    "## The maximum possible length of an identifier in Python language is 79 characters"
   ]
  },
  {
   "cell_type": "markdown",
   "id": "326cb035",
   "metadata": {},
   "source": [
    "## Benefits of python"
   ]
  },
  {
   "cell_type": "code",
   "execution_count": 18,
   "id": "e1cfa30c",
   "metadata": {},
   "outputs": [],
   "source": [
    "## high-level, general-purpose, dynamically typed, and interpreted programming language.It is platform-independent and powerful."
   ]
  },
  {
   "cell_type": "markdown",
   "id": "95878918",
   "metadata": {},
   "source": [
    "## How is memory managed in python??"
   ]
  },
  {
   "cell_type": "code",
   "execution_count": 19,
   "id": "be25986f",
   "metadata": {},
   "outputs": [],
   "source": [
    "## Memory management in Python involves a private heap containing all Python objects and data structures. \n",
    "## The management of this private heap is ensured internally by the Python memory manager."
   ]
  },
  {
   "cell_type": "markdown",
   "id": "b50fe3be",
   "metadata": {},
   "source": [
    "## How to install python on windows and set path variables??"
   ]
  },
  {
   "cell_type": "code",
   "execution_count": 20,
   "id": "a5d19114",
   "metadata": {},
   "outputs": [],
   "source": [
    "##   c:\\> python"
   ]
  },
  {
   "cell_type": "markdown",
   "id": "6d2c989f",
   "metadata": {},
   "source": [
    "## Is indentation required in python"
   ]
  },
  {
   "cell_type": "code",
   "execution_count": 21,
   "id": "c756a8e8",
   "metadata": {},
   "outputs": [],
   "source": [
    "## Indentation is a very important concept of Python because without properly indenting the Python code,\n",
    "## We will end up seeing IndentationError and the code will not get compiled."
   ]
  },
  {
   "cell_type": "code",
   "execution_count": null,
   "id": "e4feae65",
   "metadata": {},
   "outputs": [],
   "source": [
    "********************************************************************************"
   ]
  }
 ],
 "metadata": {
  "kernelspec": {
   "display_name": "Python 3",
   "language": "python",
   "name": "python3"
  },
  "language_info": {
   "codemirror_mode": {
    "name": "ipython",
    "version": 3
   },
   "file_extension": ".py",
   "mimetype": "text/x-python",
   "name": "python",
   "nbconvert_exporter": "python",
   "pygments_lexer": "ipython3",
   "version": "3.8.8"
  }
 },
 "nbformat": 4,
 "nbformat_minor": 5
}
