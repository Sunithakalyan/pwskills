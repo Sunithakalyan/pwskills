{
 "cells": [
  {
   "cell_type": "markdown",
   "id": "d3bd4b35",
   "metadata": {},
   "source": [
    "## Q1, Create a vehicle class with an init method having instance variables as name_of_vehicle, max_speed and average_of_vehicle. "
   ]
  },
  {
   "cell_type": "code",
   "execution_count": 1,
   "id": "eda99fa7",
   "metadata": {},
   "outputs": [],
   "source": [
    "class vehicle:\n",
    "    def __init__(self,name_of_vehicle,max_speed,average_of_vehicle):\n",
    "        self.name_of_vehicle = name_of_vehicle\n",
    "        self.max_speed = max_speed\n",
    "        self.average_of_vehicle = average_of_vehicle\n",
    "        \n",
    "    def vehicle_details(self):\n",
    "        return self.name_of_vehicle,self.max_speed,self.average_of_vehicle\n",
    "        \n",
    "                       "
   ]
  },
  {
   "cell_type": "code",
   "execution_count": 4,
   "id": "12644ad9",
   "metadata": {},
   "outputs": [],
   "source": [
    "obj1_vehicle = vehicle(\"car\",2000,500)"
   ]
  },
  {
   "cell_type": "code",
   "execution_count": 5,
   "id": "ef7057e7",
   "metadata": {},
   "outputs": [
    {
     "data": {
      "text/plain": [
       "('car', 2000, 500)"
      ]
     },
     "execution_count": 5,
     "metadata": {},
     "output_type": "execute_result"
    }
   ],
   "source": [
    "obj1_vehicle . vehicle_details()"
   ]
  },
  {
   "cell_type": "markdown",
   "id": "81f92449",
   "metadata": {},
   "source": [
    "## Q2.  Create a child class car from the vehicle class created in Que 1, which will inherit the vehicle class. Create a method named seating_capacity which takes capacity as an argument and returns the name of the vehicle and its seating capacity."
   ]
  },
  {
   "cell_type": "code",
   "execution_count": 11,
   "id": "ed4e79b9",
   "metadata": {},
   "outputs": [],
   "source": [
    "class vehicle:\n",
    "    def __init__(self,name,capacity):\n",
    "        self.name = name\n",
    "        self.capacity = capacity\n",
    "    def seating_capacity(self):\n",
    "        return self.name, self.capacity\n",
    "class car(vehicle):\n",
    "    pass\n",
    "\n",
    "    "
   ]
  },
  {
   "cell_type": "code",
   "execution_count": 12,
   "id": "e568f729",
   "metadata": {},
   "outputs": [],
   "source": [
    "obj_vehicle = vehicle(\"Range Rover\",472)"
   ]
  },
  {
   "cell_type": "code",
   "execution_count": 13,
   "id": "4bb7be90",
   "metadata": {},
   "outputs": [
    {
     "data": {
      "text/plain": [
       "('Range Rover', 472)"
      ]
     },
     "execution_count": 13,
     "metadata": {},
     "output_type": "execute_result"
    }
   ],
   "source": [
    "obj_vehicle.seating_capacity()"
   ]
  },
  {
   "cell_type": "markdown",
   "id": "fc746dec",
   "metadata": {},
   "source": [
    "## Q3. What is multiple inheritance? Write a python code to demonstrate multiple inheritance.\n"
   ]
  },
  {
   "cell_type": "code",
   "execution_count": 14,
   "id": "8518a45a",
   "metadata": {},
   "outputs": [],
   "source": [
    "## Multiple Inheritance :: When a class is derived from more than one base class it is called multiple Inheritance. \n",
    "##The derived class inherits all the features of the base case."
   ]
  },
  {
   "cell_type": "code",
   "execution_count": 15,
   "id": "1d121712",
   "metadata": {},
   "outputs": [],
   "source": [
    "class Base_class1:\n",
    "    def test_baseclass1(self):\n",
    "        print(\"This is Parent1 details\")\n",
    "class Base_class2:\n",
    "    def test_baseclass2(self):\n",
    "        print(\"This is Parent2 details\")\n",
    "class child_class(Base_class1,Base_class2):\n",
    "     def test_childclass(self):\n",
    "        print(\"This is child class details\")\n",
    "    "
   ]
  },
  {
   "cell_type": "code",
   "execution_count": 16,
   "id": "53385c98",
   "metadata": {},
   "outputs": [],
   "source": [
    "objchild = child_class()"
   ]
  },
  {
   "cell_type": "code",
   "execution_count": 17,
   "id": "b4ea1c34",
   "metadata": {},
   "outputs": [
    {
     "name": "stdout",
     "output_type": "stream",
     "text": [
      "This is Parent1 details\n"
     ]
    }
   ],
   "source": [
    "objchild.test_baseclass1()"
   ]
  },
  {
   "cell_type": "code",
   "execution_count": 19,
   "id": "f7279291",
   "metadata": {},
   "outputs": [
    {
     "name": "stdout",
     "output_type": "stream",
     "text": [
      "This is Parent2 details\n"
     ]
    }
   ],
   "source": [
    "objchild.test_baseclass2()"
   ]
  },
  {
   "cell_type": "markdown",
   "id": "dd7148ac",
   "metadata": {},
   "source": [
    "## Q4. What are getter and setter in python? Create a class and create a getter and a setter method in this class."
   ]
  },
  {
   "cell_type": "code",
   "execution_count": 20,
   "id": "276d4606",
   "metadata": {},
   "outputs": [],
   "source": [
    "## In Python, getters and setters are not the same as those in other object-oriented programming languages. \n",
    "## Basically, the main purpose of using getters and setters in object-oriented programs is to ensure data encapsulation.\n",
    "## Private variables in python are not actually hidden fields like in other object oriented languages. \n",
    "## Getters and Setters in python are often used when:\n",
    "   ###To avoid direct access of a class field i.e. private variables cannot be accessed directly or modified by external user.\n",
    "    \n"
   ]
  },
  {
   "cell_type": "code",
   "execution_count": 21,
   "id": "a14a4230",
   "metadata": {},
   "outputs": [],
   "source": [
    "class person:\n",
    "    def __init__(self,age=0):\n",
    "        self.__age = age\n",
    "        \n",
    "    def get_age(self):\n",
    "        return self.__age\n",
    "    def set_age(self,x):\n",
    "        self.__age = x\n",
    "    "
   ]
  },
  {
   "cell_type": "code",
   "execution_count": 22,
   "id": "5575ed15",
   "metadata": {},
   "outputs": [],
   "source": [
    "p1 = person()"
   ]
  },
  {
   "cell_type": "code",
   "execution_count": 25,
   "id": "f682264d",
   "metadata": {},
   "outputs": [],
   "source": [
    "p1.set_age(22)"
   ]
  },
  {
   "cell_type": "code",
   "execution_count": 26,
   "id": "50440c39",
   "metadata": {},
   "outputs": [
    {
     "data": {
      "text/plain": [
       "22"
      ]
     },
     "execution_count": 26,
     "metadata": {},
     "output_type": "execute_result"
    }
   ],
   "source": [
    "p1.get_age()"
   ]
  },
  {
   "cell_type": "markdown",
   "id": "3795ee36",
   "metadata": {},
   "source": [
    "## Q5.What is method overriding in python? Write a python code to demonstrate method overriding."
   ]
  },
  {
   "cell_type": "code",
   "execution_count": 27,
   "id": "13299511",
   "metadata": {},
   "outputs": [],
   "source": [
    "## Method overriding is an ability of any oops that allows a subclass or \n",
    "##child class to provide a specific implementation of a method that is already provided by one of its super-classes or parent classes. \n",
    "##When a method in a subclass has the same name, same parameters or \n",
    "##signature and same return type(or sub-type) as a method in its super-class, \n",
    "##then the method in the subclass is said to override the method in the super-class."
   ]
  },
  {
   "cell_type": "code",
   "execution_count": 28,
   "id": "26e4f956",
   "metadata": {},
   "outputs": [],
   "source": [
    "class parent1:\n",
    "    def __init__(self):\n",
    "        self.value = \"Inside the Parent1\"\n",
    "    def show(self):\n",
    "        print(self.value)\n",
    "class child1(parent1):\n",
    "    def __init__(self):\n",
    "        self.value = \"Inside the Child1\"\n",
    "    def show(self):\n",
    "        print(self.value)\n",
    "        \n"
   ]
  },
  {
   "cell_type": "code",
   "execution_count": 35,
   "id": "3f920504",
   "metadata": {},
   "outputs": [],
   "source": [
    "obj1_p = parent1()\n",
    "obj1_c = child1()"
   ]
  },
  {
   "cell_type": "code",
   "execution_count": 36,
   "id": "50240490",
   "metadata": {},
   "outputs": [
    {
     "name": "stdout",
     "output_type": "stream",
     "text": [
      "Inside the Parent1\n",
      "Inside the Child1\n"
     ]
    }
   ],
   "source": [
    "obj1_p . show()\n",
    "obj1_c . show()"
   ]
  },
  {
   "cell_type": "code",
   "execution_count": null,
   "id": "12fe9a05",
   "metadata": {},
   "outputs": [],
   "source": []
  }
 ],
 "metadata": {
  "kernelspec": {
   "display_name": "Python 3",
   "language": "python",
   "name": "python3"
  },
  "language_info": {
   "codemirror_mode": {
    "name": "ipython",
    "version": 3
   },
   "file_extension": ".py",
   "mimetype": "text/x-python",
   "name": "python",
   "nbconvert_exporter": "python",
   "pygments_lexer": "ipython3",
   "version": "3.8.8"
  }
 },
 "nbformat": 4,
 "nbformat_minor": 5
}
