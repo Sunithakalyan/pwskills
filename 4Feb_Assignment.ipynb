{
 "cells": [
  {
   "cell_type": "markdown",
   "id": "85601ae0",
   "metadata": {},
   "source": [
    "## Q1. Create a python program to sort the given list of tuples based on integer value using a lambda function. "
   ]
  },
  {
   "cell_type": "code",
   "execution_count": null,
   "id": "bccb8790",
   "metadata": {},
   "outputs": [],
   "source": [
    "## Lambda Function :: A lambda function is a small anonymous funct\n",
    "## A lambda function can take any number of arguments, but can only have one expression.\n",
    "## Syntax::     lambda arguments : expression\n"
   ]
  },
  {
   "cell_type": "code",
   "execution_count": null,
   "id": "274fd1d0",
   "metadata": {},
   "outputs": [],
   "source": [
    "## Example1:: Square of the numbers\n",
    "\n",
    "a = lambda n,p : n**2    ## Calculates the expression power and the result is executed by calling the function.\n",
    "\n"
   ]
  },
  {
   "cell_type": "code",
   "execution_count": null,
   "id": "b1dc58c2",
   "metadata": {},
   "outputs": [],
   "source": [
    "a(2,2)"
   ]
  },
  {
   "cell_type": "code",
   "execution_count": null,
   "id": "708ed2e1",
   "metadata": {},
   "outputs": [],
   "source": [
    "## Example2:: Greatest of 2 numbers using lambda function\n",
    "x1 = lambda x,y: x if x>y else y"
   ]
  },
  {
   "cell_type": "code",
   "execution_count": 8,
   "id": "c1b66429",
   "metadata": {},
   "outputs": [
    {
     "data": {
      "text/plain": [
       "4"
      ]
     },
     "execution_count": 8,
     "metadata": {},
     "output_type": "execute_result"
    }
   ],
   "source": [
    "x1(2,4)"
   ]
  },
  {
   "cell_type": "code",
   "execution_count": 11,
   "id": "eb2e5d61",
   "metadata": {},
   "outputs": [],
   "source": [
    "## Create a python program to sort the given list of tuples based on integer value using a lambda function.\n"
   ]
  },
  {
   "cell_type": "code",
   "execution_count": 8,
   "id": "34208ff1",
   "metadata": {},
   "outputs": [
    {
     "name": "stdout",
     "output_type": "stream",
     "text": [
      "[('Virat Kohli', 24936), ('Jack Kallis', 25534), ('Ricky Ponting', 27483), ('Sachin Tendulkar', 34357)]\n"
     ]
    }
   ],
   "source": [
    "\n",
    "\n",
    "lst = [('Sachin Tendulkar', 34357), ('Ricky Ponting', 27483), ('Jack Kallis', 25534), ('Virat Kohli', 24936)]\n",
    "\n",
    "lst.sort(key=lambda x:x[1])\n",
    "print(lst)\n"
   ]
  },
  {
   "cell_type": "code",
   "execution_count": 11,
   "id": "d5f11b2c",
   "metadata": {},
   "outputs": [
    {
     "name": "stdout",
     "output_type": "stream",
     "text": [
      "[('Jack Kallis', 25534), ('Ricky Ponting', 27483), ('Sachin Tendulkar', 34357), ('Virat Kohli', 24936)]\n"
     ]
    }
   ],
   "source": [
    "## python program to sort the tuples based on first element\n",
    "\n",
    "lst1 = [('Sachin Tendulkar', 34357), ('Ricky Ponting', 27483), ('Jack Kallis', 25534), ('Virat Kohli', 24936)]\n",
    "\n",
    "lst1.sort(key=lambda x:x[0])\n",
    "print(lst1)"
   ]
  },
  {
   "cell_type": "markdown",
   "id": "dcfe9c48",
   "metadata": {},
   "source": [
    "## Q2. Write a Python Program to find the squares of all the numbers in the given list of integers using lambda and map functions."
   ]
  },
  {
   "cell_type": "code",
   "execution_count": 13,
   "id": "cfd27e4f",
   "metadata": {},
   "outputs": [],
   "source": [
    "lst4 = [1,2,3,4,5]\n",
    "\n",
    "def f1(a):\n",
    "    l3 = []\n",
    "    for i in a:\n",
    "        l3.append(i**2)\n",
    "    return l3\n",
    "       "
   ]
  },
  {
   "cell_type": "code",
   "execution_count": 14,
   "id": "db1051a0",
   "metadata": {},
   "outputs": [
    {
     "data": {
      "text/plain": [
       "[1, 4, 9, 16, 25]"
      ]
     },
     "execution_count": 14,
     "metadata": {},
     "output_type": "execute_result"
    }
   ],
   "source": [
    "f1(lst4)"
   ]
  },
  {
   "cell_type": "code",
   "execution_count": 4,
   "id": "238e6cb7",
   "metadata": {},
   "outputs": [
    {
     "data": {
      "text/plain": [
       "[1, 4, 9, 16, 25, 36, 49, 64, 81, 100]"
      ]
     },
     "execution_count": 4,
     "metadata": {},
     "output_type": "execute_result"
    }
   ],
   "source": [
    "## Python Program using Lambda Function\n",
    "\n",
    "l1 = [1,2,3,4,5,6,7,8,9,10]\n",
    "\n",
    "\n",
    "list(map(lambda x: x**2,l1))"
   ]
  },
  {
   "cell_type": "markdown",
   "id": "e35e8dbc",
   "metadata": {},
   "source": [
    "## Q3. Write a python program to convert the given list of integers into a tuple of strings. Use map and lambda functions  Given String: [1, 2, 3, 4, 5, 6, 7, 8, 9, 10]"
   ]
  },
  {
   "cell_type": "code",
   "execution_count": 15,
   "id": "bd3a9b0e",
   "metadata": {},
   "outputs": [],
   "source": [
    "list4 = [1,2,3,4,5,6,7,8,9,10]\n",
    "\n",
    "new_list = list(map(lambda x : str(x) , list4))"
   ]
  },
  {
   "cell_type": "code",
   "execution_count": 16,
   "id": "a54bcc5c",
   "metadata": {},
   "outputs": [
    {
     "data": {
      "text/plain": [
       "['1', '2', '3', '4', '5', '6', '7', '8', '9', '10']"
      ]
     },
     "execution_count": 16,
     "metadata": {},
     "output_type": "execute_result"
    }
   ],
   "source": [
    "new_list"
   ]
  },
  {
   "cell_type": "markdown",
   "id": "e17539cf",
   "metadata": {},
   "source": [
    "## Q4.  Write a python program using reduce function to compute the product of a list containing numbers from 1 to 25."
   ]
  },
  {
   "cell_type": "code",
   "execution_count": 57,
   "id": "11ecf42a",
   "metadata": {},
   "outputs": [
    {
     "name": "stdout",
     "output_type": "stream",
     "text": [
      "3628800\n"
     ]
    }
   ],
   "source": [
    "from functools import reduce\n",
    "\n",
    "l1 = [1,2,3,4,5,6,7,8,9,10]\n",
    "\n",
    "prod = reduce(lambda x,y : x*y , l1)\n",
    "\n",
    "print(prod)"
   ]
  },
  {
   "cell_type": "markdown",
   "id": "048db49c",
   "metadata": {},
   "source": [
    "## Q5. Write a python program to filter the numbers in a given list that are divisible by 2 and 3 using the filter function.\n"
   ]
  },
  {
   "cell_type": "code",
   "execution_count": 61,
   "id": "20c7cb0b",
   "metadata": {},
   "outputs": [
    {
     "name": "stdout",
     "output_type": "stream",
     "text": [
      "[6, 18, 24]\n"
     ]
    }
   ],
   "source": [
    "list5 = [ 2,3,4,5,6,7,18,21,22,24,26,27]\n",
    "\n",
    "result = list(filter(lambda x: x%2==0 and x%3==0 ,list5))\n",
    "print(result)"
   ]
  },
  {
   "cell_type": "code",
   "execution_count": null,
   "id": "92ed6f37",
   "metadata": {},
   "outputs": [],
   "source": []
  }
 ],
 "metadata": {
  "kernelspec": {
   "display_name": "Python 3",
   "language": "python",
   "name": "python3"
  },
  "language_info": {
   "codemirror_mode": {
    "name": "ipython",
    "version": 3
   },
   "file_extension": ".py",
   "mimetype": "text/x-python",
   "name": "python",
   "nbconvert_exporter": "python",
   "pygments_lexer": "ipython3",
   "version": "3.8.8"
  }
 },
 "nbformat": 4,
 "nbformat_minor": 5
}
