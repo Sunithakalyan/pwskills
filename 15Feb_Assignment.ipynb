{
 "cells": [
  {
   "cell_type": "markdown",
   "id": "d0aa5753",
   "metadata": {},
   "source": [
    "##1. What is multiprocessing in python? Why is it useful?"
   ]
  },
  {
   "cell_type": "code",
   "execution_count": 1,
   "id": "54802efe",
   "metadata": {},
   "outputs": [],
   "source": [
    "## Ans: multiprocessing is a package that supports spawning processes using an API similar to the threading module. \n",
    "## The multiprocessing package offers both local and remote concurrency, \n",
    "## effectively side-stepping the Global Interpreter Lock by using subprocesses instead of threads.\n",
    "## Multiprocessing is the ability of a system to run multiple processors at one time. "
   ]
  },
  {
   "cell_type": "markdown",
   "id": "6d9da238",
   "metadata": {},
   "source": [
    "## What are the differences between multiprocessing and multithreading?"
   ]
  },
  {
   "cell_type": "code",
   "execution_count": 2,
   "id": "bc0d48d3",
   "metadata": {},
   "outputs": [],
   "source": [
    "## 1. multithreading refers to the ability of a processor to execute multiple threads concurrently, where each thread runs a process.\n",
    "     ## Whereas multiprocessing refers to the ability of a system to run multiple processors concurrently, where each processor can run one or more threads.\n",
    "## 2. multiple threads share the same code, data, and files but run on a different register and stack. \n",
    "     ## Multiprocessing (right diagram) multiplies a single processor — replicating the code, data, and files, which incurs more overhead.\n",
    "## 3. Multithreading is useful for IO-bound processes, such as reading files from a network or database since each thread can run the IO-bound process concurrently. \n",
    "     ## Wheras Multiprocessing is useful for CPU-bound processes, such as computationally heavy tasks since it will benefit from having multiple processors; similar to how multicore computers work faster than computers with a single core."
   ]
  },
  {
   "cell_type": "markdown",
   "id": "1683090c",
   "metadata": {},
   "source": [
    "## 3. Write a python code to create a process using the multiprocessing module."
   ]
  },
  {
   "cell_type": "code",
   "execution_count": null,
   "id": "a1d5c9de",
   "metadata": {},
   "outputs": [],
   "source": [
    "import multiprocessing\n",
    "\n",
    "def square(n):\n",
    "    return n**2\n",
    "\n",
    "if __name__ == \"__main__\":\n",
    "    \n",
    "    with multiprocessing.Pool(processes=5) as pool:\n",
    "        out = pool.map(square, [2,3,4,5,6,7,8,9,10])\n",
    "        print(out)"
   ]
  },
  {
   "cell_type": "markdown",
   "id": "827e3228",
   "metadata": {},
   "source": [
    "## 4. What is a multiprocessing pool in python? Why is it used?"
   ]
  },
  {
   "cell_type": "code",
   "execution_count": null,
   "id": "a019f3b0",
   "metadata": {},
   "outputs": [],
   "source": [
    "## The Python Multiprocessing Pool class allows you to create and manage process pools in Python.\n",
    "## The multiprocessing.pool.Pool class can also be accessed by the alias multiprocessing.Pool. They can be used interchangeably.\n",
    "\n",
    "## Example::\n",
    "import multiprocessing\n",
    "\n",
    "def add(n):\n",
    "    return n+2\n",
    "\n",
    "if __name__ == \"__main__\":\n",
    "    \n",
    "    with multiprocessing.Pool(processes=5) as pool:\n",
    "        out = pool.map(add, [2,3,4,5,6,7,8,9,10])\n",
    "        print(out)"
   ]
  },
  {
   "cell_type": "markdown",
   "id": "dde57c8a",
   "metadata": {},
   "source": [
    "## Q5. How can we create a pool of worker processes in python using the multiprocessing module?"
   ]
  },
  {
   "cell_type": "code",
   "execution_count": null,
   "id": "e85586dd",
   "metadata": {},
   "outputs": [],
   "source": [
    "from multiprocessing import Process\n",
    "\n",
    "\n",
    "def print_func(continent='Asia'):\n",
    "    print('The name of continent is : ', continent)\n",
    "\n",
    "if __name__ == \"__main__\":  # confirms that the code is under main function\n",
    "    names = ['America', 'Europe', 'Africa']\n",
    "    procs = []\n",
    "    proc = Process(target=print_func)  # instantiating without any argument\n",
    "    procs.append(proc)\n",
    "    proc.start()\n",
    "\n",
    "    # instantiating process with arguments\n",
    "    for name in names:\n",
    "        # print(name)\n",
    "        proc = Process(target=print_func, args=(name,))\n",
    "        procs.append(proc)\n",
    "        proc.start()\n",
    "\n",
    "    # complete the processes\n",
    "    for proc in procs:\n",
    "        proc.join()\n"
   ]
  },
  {
   "cell_type": "markdown",
   "id": "6f8850c8",
   "metadata": {},
   "source": [
    "## Q6. Write a python program to create 4 processes, each process should print a different number using the \n",
    "multiprocessing module in python"
   ]
  },
  {
   "cell_type": "code",
   "execution_count": null,
   "id": "a383d99f",
   "metadata": {},
   "outputs": [],
   "source": [
    "from multiprocessing import Pool\n",
    "\n",
    "def f(x):\n",
    "    return x*x\n",
    "\n",
    "if __name__ == '__main__':\n",
    "    with Pool(5) as p:\n",
    "        print(p.map(f, [1, 2, 3]))"
   ]
  },
  {
   "cell_type": "code",
   "execution_count": null,
   "id": "5624ed08",
   "metadata": {},
   "outputs": [],
   "source": []
  }
 ],
 "metadata": {
  "kernelspec": {
   "display_name": "Python 3",
   "language": "python",
   "name": "python3"
  },
  "language_info": {
   "codemirror_mode": {
    "name": "ipython",
    "version": 3
   },
   "file_extension": ".py",
   "mimetype": "text/x-python",
   "name": "python",
   "nbconvert_exporter": "python",
   "pygments_lexer": "ipython3",
   "version": "3.8.8"
  }
 },
 "nbformat": 4,
 "nbformat_minor": 5
}
