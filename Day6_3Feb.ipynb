{
 "cells": [
  {
   "cell_type": "markdown",
   "id": "55d5d739",
   "metadata": {},
   "source": [
    "## FUNCTIONS"
   ]
  },
  {
   "cell_type": "code",
   "execution_count": 2,
   "id": "7544dd43",
   "metadata": {},
   "outputs": [
    {
     "name": "stdout",
     "output_type": "stream",
     "text": [
      "This is my first program\n"
     ]
    },
    {
     "data": {
      "text/plain": [
       "5"
      ]
     },
     "execution_count": 2,
     "metadata": {},
     "output_type": "execute_result"
    }
   ],
   "source": [
    "print(\"This is my first program\")\n",
    "\n",
    "l=[1,2,3,4,5]\n",
    "len(l)    ## In-built Function to print the length of the List"
   ]
  },
  {
   "cell_type": "code",
   "execution_count": 4,
   "id": "787a8409",
   "metadata": {},
   "outputs": [],
   "source": [
    "## Whenever we call the function in python we use \"def\" Keyword\n",
    "       ## test() is the name of the function\n",
    "       # We cannot call the empty function \n",
    "    \n",
    "def test(): \n",
    "    pass           ### \"pass\" keyword is used to call the empty function\n",
    "             "
   ]
  },
  {
   "cell_type": "code",
   "execution_count": 5,
   "id": "1ebf4e98",
   "metadata": {},
   "outputs": [],
   "source": [
    "def test1():         ## test1() function is declared\n",
    "    print(\"Python Test Function\")"
   ]
  },
  {
   "cell_type": "code",
   "execution_count": 7,
   "id": "a936837b",
   "metadata": {},
   "outputs": [
    {
     "name": "stdout",
     "output_type": "stream",
     "text": [
      "Python Test Function\n"
     ]
    }
   ],
   "source": [
    "test1()      ## Calling the test1() Function\n",
    "             ## We call the specific function 'n' number of times"
   ]
  },
  {
   "cell_type": "code",
   "execution_count": null,
   "id": "b6183d1f",
   "metadata": {},
   "outputs": [],
   "source": [
    "### ERROR\n",
    "\n",
    "test1() + \"Sunitha\"   ## Error . We cannot append any string to the function.\n",
    "                      ##  Unsupported operand type. It is trying to concatenate non-type string\n",
    "                      ##  As we used print() it results non-type. No Concatenation possible."
   ]
  },
  {
   "cell_type": "code",
   "execution_count": 9,
   "id": "100dfec4",
   "metadata": {},
   "outputs": [],
   "source": [
    "## Decalaring a Function which returns a value and Concatenation is possible.\n",
    "\n",
    "def test2():\n",
    "    return(\"Function with a return type\")"
   ]
  },
  {
   "cell_type": "markdown",
   "id": "d555aef6",
   "metadata": {},
   "source": [
    "test2()"
   ]
  },
  {
   "cell_type": "code",
   "execution_count": 10,
   "id": "f0253182",
   "metadata": {},
   "outputs": [
    {
     "data": {
      "text/plain": [
       "'Function with a return type'"
      ]
     },
     "execution_count": 10,
     "metadata": {},
     "output_type": "execute_result"
    }
   ],
   "source": [
    "test2()"
   ]
  },
  {
   "cell_type": "code",
   "execution_count": 12,
   "id": "1afba80d",
   "metadata": {},
   "outputs": [
    {
     "data": {
      "text/plain": [
       "'Function with a return type Sunitha'"
      ]
     },
     "execution_count": 12,
     "metadata": {},
     "output_type": "execute_result"
    }
   ],
   "source": [
    "## Concatenation of string with the function test2()\n",
    "\n",
    "test2() + \" Sunitha\""
   ]
  },
  {
   "cell_type": "code",
   "execution_count": 13,
   "id": "a5cd9b1c",
   "metadata": {},
   "outputs": [],
   "source": [
    "##  We can return multiple statements with return statement.\n",
    "\n",
    "def test3():\n",
    "    return 1,4,\"pwskills\"  "
   ]
  },
  {
   "cell_type": "code",
   "execution_count": 14,
   "id": "1f4ceb00",
   "metadata": {},
   "outputs": [
    {
     "data": {
      "text/plain": [
       "(1, 4, 'pwskills')"
      ]
     },
     "execution_count": 14,
     "metadata": {},
     "output_type": "execute_result"
    }
   ],
   "source": [
    "test3()"
   ]
  },
  {
   "cell_type": "code",
   "execution_count": 15,
   "id": "a46845e3",
   "metadata": {},
   "outputs": [],
   "source": [
    "###  Example of declaring a variable with multiple values at a time\n",
    "\n",
    "a= 1,2,3,4,5"
   ]
  },
  {
   "cell_type": "code",
   "execution_count": 16,
   "id": "a826b35e",
   "metadata": {},
   "outputs": [
    {
     "data": {
      "text/plain": [
       "(1, 2, 3, 4, 5)"
      ]
     },
     "execution_count": 16,
     "metadata": {},
     "output_type": "execute_result"
    }
   ],
   "source": [
    "a"
   ]
  },
  {
   "cell_type": "code",
   "execution_count": 17,
   "id": "c2543eb3",
   "metadata": {},
   "outputs": [],
   "source": [
    "a,b,c,d = 1,2,3.4,True"
   ]
  },
  {
   "cell_type": "code",
   "execution_count": 18,
   "id": "0cb7a208",
   "metadata": {},
   "outputs": [
    {
     "name": "stdout",
     "output_type": "stream",
     "text": [
      "1\n",
      "2\n",
      "3.4\n",
      "True\n"
     ]
    }
   ],
   "source": [
    "print(a)     ### a holds 1, b holds 2, c holds 3.4 and d holds True.\n",
    "print(b)\n",
    "print(c)\n",
    "print(d)"
   ]
  },
  {
   "cell_type": "code",
   "execution_count": 19,
   "id": "d8306deb",
   "metadata": {},
   "outputs": [
    {
     "data": {
      "text/plain": [
       "(1, 4, 'pwskills')"
      ]
     },
     "execution_count": 19,
     "metadata": {},
     "output_type": "execute_result"
    }
   ],
   "source": [
    "### Similarly we can extract multiple values declared with return statemnt in a specific function\n",
    "\n",
    "test3()"
   ]
  },
  {
   "cell_type": "code",
   "execution_count": 22,
   "id": "b2caf388",
   "metadata": {},
   "outputs": [
    {
     "data": {
      "text/plain": [
       "1"
      ]
     },
     "execution_count": 22,
     "metadata": {},
     "output_type": "execute_result"
    }
   ],
   "source": [
    "test3()[0] "
   ]
  },
  {
   "cell_type": "code",
   "execution_count": 23,
   "id": "88556afc",
   "metadata": {},
   "outputs": [
    {
     "data": {
      "text/plain": [
       "4"
      ]
     },
     "execution_count": 23,
     "metadata": {},
     "output_type": "execute_result"
    }
   ],
   "source": [
    "test3()[1]"
   ]
  },
  {
   "cell_type": "code",
   "execution_count": 24,
   "id": "734158a0",
   "metadata": {},
   "outputs": [
    {
     "data": {
      "text/plain": [
       "'pwskills'"
      ]
     },
     "execution_count": 24,
     "metadata": {},
     "output_type": "execute_result"
    }
   ],
   "source": [
    "test3()[2]"
   ]
  },
  {
   "cell_type": "code",
   "execution_count": 33,
   "id": "3c59dbec",
   "metadata": {},
   "outputs": [
    {
     "data": {
      "text/plain": [
       "(1, 4, 'pwskills')"
      ]
     },
     "execution_count": 33,
     "metadata": {},
     "output_type": "execute_result"
    }
   ],
   "source": [
    "test3()"
   ]
  },
  {
   "cell_type": "code",
   "execution_count": 34,
   "id": "94a2e3ae",
   "metadata": {},
   "outputs": [
    {
     "name": "stdout",
     "output_type": "stream",
     "text": [
      "1\n",
      "4\n",
      "pwskills\n"
     ]
    }
   ],
   "source": [
    "## We can also assign function to multiple variables.\n",
    "\n",
    "a,b,c = test3()\n",
    "print(a)\n",
    "print(b)\n",
    "print(c)"
   ]
  },
  {
   "cell_type": "code",
   "execution_count": 37,
   "id": "6c300982",
   "metadata": {},
   "outputs": [],
   "source": [
    "###    Performing some operation inside the function\n",
    "\n",
    "def test4():\n",
    "    a=3*4 + 5\n",
    "    return a"
   ]
  },
  {
   "cell_type": "code",
   "execution_count": 39,
   "id": "c67edc6c",
   "metadata": {},
   "outputs": [
    {
     "data": {
      "text/plain": [
       "20"
      ]
     },
     "execution_count": 39,
     "metadata": {},
     "output_type": "execute_result"
    }
   ],
   "source": [
    "test4()"
   ]
  },
  {
   "cell_type": "code",
   "execution_count": 40,
   "id": "d3f31c1b",
   "metadata": {},
   "outputs": [
    {
     "data": {
      "text/plain": [
       "int"
      ]
     },
     "execution_count": 40,
     "metadata": {},
     "output_type": "execute_result"
    }
   ],
   "source": [
    "type(test4())"
   ]
  },
  {
   "cell_type": "code",
   "execution_count": 41,
   "id": "d01d2d40",
   "metadata": {},
   "outputs": [],
   "source": [
    "## Pass the data at the time of function declaration\n",
    "\n",
    "def test5(a,b):\n",
    "    c = a + b\n",
    "    return c\n",
    "\n"
   ]
  },
  {
   "cell_type": "code",
   "execution_count": 43,
   "id": "a543aca5",
   "metadata": {},
   "outputs": [
    {
     "data": {
      "text/plain": [
       "24"
      ]
     },
     "execution_count": 43,
     "metadata": {},
     "output_type": "execute_result"
    }
   ],
   "source": [
    "test5(12,12)     ## passing the values to call the function\n",
    "                 ## Calling the function by passing the values"
   ]
  },
  {
   "cell_type": "code",
   "execution_count": 44,
   "id": "6cff95cd",
   "metadata": {},
   "outputs": [
    {
     "data": {
      "text/plain": [
       "'SunithaSubhash'"
      ]
     },
     "execution_count": 44,
     "metadata": {},
     "output_type": "execute_result"
    }
   ],
   "source": [
    "test5(\"Sunitha\",\"Subhash\")     ## Passing the Strings while calling test5()"
   ]
  },
  {
   "cell_type": "code",
   "execution_count": 45,
   "id": "5ac3d6c8",
   "metadata": {},
   "outputs": [
    {
     "data": {
      "text/plain": [
       "[1, 2, 3, 4, 4, 5, 6, 7]"
      ]
     },
     "execution_count": 45,
     "metadata": {},
     "output_type": "execute_result"
    }
   ],
   "source": [
    "test5([1,2,3,4],[4,5,6,7])    ## Passing the List while calling test5()"
   ]
  },
  {
   "cell_type": "code",
   "execution_count": 46,
   "id": "ce6afc5e",
   "metadata": {},
   "outputs": [
    {
     "data": {
      "text/plain": [
       "'SunithaSubhash'"
      ]
     },
     "execution_count": 46,
     "metadata": {},
     "output_type": "execute_result"
    }
   ],
   "source": [
    "test5(b=\"Subhash\", a=\"Sunitha\")   ## We can pass the variables in any order"
   ]
  },
  {
   "cell_type": "code",
   "execution_count": 47,
   "id": "374fcdbf",
   "metadata": {},
   "outputs": [],
   "source": [
    "lst=[1,2,3,4,5,\"Sunitha\",\"Subhash\",[1,2,3,4,5.6,6]]"
   ]
  },
  {
   "cell_type": "code",
   "execution_count": 49,
   "id": "70682eaf",
   "metadata": {},
   "outputs": [],
   "source": [
    "## Create a function which will take list as an input and give me a final list with all the numeric value.\n",
    "\n",
    "def test6(lst1):\n",
    "    n = []\n",
    "    for i in lst1:\n",
    "        if type(i) == int:\n",
    "            n.append(i)\n",
    "    return n\n",
    "    "
   ]
  },
  {
   "cell_type": "code",
   "execution_count": null,
   "id": "34e79778",
   "metadata": {},
   "outputs": [],
   "source": [
    "## Explanation:   we have some created lst1 inside the function so that we can pass the list later.\n",
    "## We created an empty list 'n'. So that all the return values can store in that\n",
    "## we used for loop to iterate all the elements in the called function\n",
    "## We used if condition to check for integer elements.\n",
    "## n.append() is used to add all the elements in the list"
   ]
  },
  {
   "cell_type": "code",
   "execution_count": 50,
   "id": "71f7821e",
   "metadata": {},
   "outputs": [
    {
     "data": {
      "text/plain": [
       "[1, 2, 3, 4, 5]"
      ]
     },
     "execution_count": 50,
     "metadata": {},
     "output_type": "execute_result"
    }
   ],
   "source": [
    "test6(lst)     ## Calling the function test6 and Passing the list \"lst\"  "
   ]
  },
  {
   "cell_type": "code",
   "execution_count": 51,
   "id": "04e3ce63",
   "metadata": {},
   "outputs": [
    {
     "data": {
      "text/plain": [
       "[1, 2, 3, 4, 5, 'Sunitha', 'Subhash', [1, 2, 3, 4, 5.6, 6]]"
      ]
     },
     "execution_count": 51,
     "metadata": {},
     "output_type": "execute_result"
    }
   ],
   "source": [
    "### We can also extract the integers from the list inside the list. For example\n",
    "\n",
    "lst"
   ]
  },
  {
   "cell_type": "code",
   "execution_count": 59,
   "id": "82969535",
   "metadata": {},
   "outputs": [],
   "source": [
    "def test7(a):\n",
    "    n = []\n",
    "    for i in a:                         ## Iterate the list outside with variable i\n",
    "        if type(i) == list:             ## Check the type(i) for integers  \n",
    "            for j in i:                 ## Interate the inner list with variable j in i\n",
    "                if type(j) == int:      ## checking the type(j) for integers\n",
    "                    n.append(j)         ## append the inner integers in empty list n\n",
    "        else:\n",
    "            if type(i) == int:          ## else checking for type(i) for integers\n",
    "                n.append(i)             ## append the outside integers in empty list n\n",
    "    return n                            ## return inner and outside integers in n"
   ]
  },
  {
   "cell_type": "code",
   "execution_count": 60,
   "id": "8969926d",
   "metadata": {},
   "outputs": [
    {
     "data": {
      "text/plain": [
       "[1, 2, 3, 4, 5, 1, 2, 3, 4, 6]"
      ]
     },
     "execution_count": 60,
     "metadata": {},
     "output_type": "execute_result"
    }
   ],
   "source": [
    "test7(lst)"
   ]
  },
  {
   "cell_type": "code",
   "execution_count": 61,
   "id": "04d5f80f",
   "metadata": {},
   "outputs": [],
   "source": [
    "#### Explanation: From the above example we have list inside the list. We were trying to extract the integers from nested list.\n",
    "## We created test7() function. and n=[] empty list to store the return values.\n",
    "## We declared to variables i and j to iterate Outside and inner lists. i= outside list and j=inner list\n",
    "\n"
   ]
  },
  {
   "cell_type": "code",
   "execution_count": 71,
   "id": "3e759f87",
   "metadata": {},
   "outputs": [],
   "source": [
    "## Example\n",
    "## Extract Strings and Float values from outside and inside Lists\n",
    "\n",
    "lst5=[1,2,3,\"Suni\",\"Subhash\",[2,3.4,5.0,6]]\n",
    "\n",
    "def test8(a):\n",
    "    n = []\n",
    "    for i in a:\n",
    "        if type(i) == list:\n",
    "            for j in i:\n",
    "                if type(j) == float:\n",
    "                    n.append(j)\n",
    "        else:\n",
    "            if type(i) == str:\n",
    "                n.append(i)\n",
    "    return n"
   ]
  },
  {
   "cell_type": "code",
   "execution_count": 72,
   "id": "f31cbca0",
   "metadata": {},
   "outputs": [
    {
     "data": {
      "text/plain": [
       "['Suni', 'Subhash', 3.4, 5.0]"
      ]
     },
     "execution_count": 72,
     "metadata": {},
     "output_type": "execute_result"
    }
   ],
   "source": [
    "test8(lst5)"
   ]
  },
  {
   "cell_type": "code",
   "execution_count": 74,
   "id": "fde20325",
   "metadata": {},
   "outputs": [],
   "source": [
    "###  Example\n",
    "\n",
    "def test9(a,b,c,d,e):\n",
    "    pass"
   ]
  },
  {
   "cell_type": "code",
   "execution_count": 75,
   "id": "d162e2e5",
   "metadata": {},
   "outputs": [],
   "source": [
    "test9(1,2,3,4,5)    ##calling the function test9 by passing the values as per the arguments declared."
   ]
  },
  {
   "cell_type": "code",
   "execution_count": 76,
   "id": "1752a0ed",
   "metadata": {},
   "outputs": [
    {
     "ename": "TypeError",
     "evalue": "test9() takes 5 positional arguments but 7 were given",
     "output_type": "error",
     "traceback": [
      "\u001b[1;31m---------------------------------------------------------------------------\u001b[0m",
      "\u001b[1;31mTypeError\u001b[0m                                 Traceback (most recent call last)",
      "\u001b[1;32m<ipython-input-76-53d2119c9fc7>\u001b[0m in \u001b[0;36m<module>\u001b[1;34m\u001b[0m\n\u001b[1;32m----> 1\u001b[1;33m \u001b[0mtest9\u001b[0m\u001b[1;33m(\u001b[0m\u001b[1;36m1\u001b[0m\u001b[1;33m,\u001b[0m\u001b[1;36m2\u001b[0m\u001b[1;33m,\u001b[0m\u001b[1;36m3\u001b[0m\u001b[1;33m,\u001b[0m\u001b[1;36m4\u001b[0m\u001b[1;33m,\u001b[0m\u001b[1;36m5\u001b[0m\u001b[1;33m,\u001b[0m\u001b[1;36m6\u001b[0m\u001b[1;33m,\u001b[0m\u001b[1;36m7\u001b[0m\u001b[1;33m)\u001b[0m\u001b[1;33m\u001b[0m\u001b[1;33m\u001b[0m\u001b[0m\n\u001b[0m",
      "\u001b[1;31mTypeError\u001b[0m: test9() takes 5 positional arguments but 7 were given"
     ]
    }
   ],
   "source": [
    "test9(1,2,3,4,5,6,7)    ## We declared 5 arguments but we tried to pass 7 arguments which leads to error"
   ]
  },
  {
   "cell_type": "code",
   "execution_count": 83,
   "id": "ab00d3ca",
   "metadata": {},
   "outputs": [],
   "source": [
    "## To overcome the above problem \n",
    "## we can able to pass multiple vaules Run-Time\n",
    "\n",
    "def test10(*args):                    ## *args multiple arguments can be passed ( We can give any name for args)\n",
    "    return args"
   ]
  },
  {
   "cell_type": "code",
   "execution_count": 84,
   "id": "8d34d2f4",
   "metadata": {},
   "outputs": [
    {
     "data": {
      "text/plain": [
       "(1, 2, 3, 4)"
      ]
     },
     "execution_count": 84,
     "metadata": {},
     "output_type": "execute_result"
    }
   ],
   "source": [
    "test10(1,2,3,4)    ## We can pass 4 values"
   ]
  },
  {
   "cell_type": "code",
   "execution_count": 85,
   "id": "69d554c5",
   "metadata": {},
   "outputs": [
    {
     "data": {
      "text/plain": [
       "('Sunitha', 'Subhash', [1, 2, 3, 4], (2, 3, 4, 5))"
      ]
     },
     "execution_count": 85,
     "metadata": {},
     "output_type": "execute_result"
    }
   ],
   "source": [
    "test10(\"Sunitha\",\"Subhash\",[1,2,3,4],(2,3,4,5))   ## we can pass strings, List and Tuple"
   ]
  },
  {
   "cell_type": "code",
   "execution_count": 86,
   "id": "0f5a828b",
   "metadata": {},
   "outputs": [],
   "source": [
    "## Example \n",
    "\n",
    "def test11(*sun):\n",
    "    return sun\n"
   ]
  },
  {
   "cell_type": "code",
   "execution_count": 87,
   "id": "3543735e",
   "metadata": {},
   "outputs": [
    {
     "data": {
      "text/plain": [
       "('a', 'b', ('earth', 'moon'))"
      ]
     },
     "execution_count": 87,
     "metadata": {},
     "output_type": "execute_result"
    }
   ],
   "source": [
    "test11(\"a\",\"b\",(\"earth\",\"moon\"))"
   ]
  },
  {
   "cell_type": "code",
   "execution_count": 88,
   "id": "11f3bed5",
   "metadata": {},
   "outputs": [],
   "source": [
    "## Example\n",
    "\n",
    "def test12(*args,a):\n",
    "    return args,a"
   ]
  },
  {
   "cell_type": "code",
   "execution_count": 89,
   "id": "ce5c2d90",
   "metadata": {},
   "outputs": [
    {
     "ename": "TypeError",
     "evalue": "test12() missing 1 required keyword-only argument: 'a'",
     "output_type": "error",
     "traceback": [
      "\u001b[1;31m---------------------------------------------------------------------------\u001b[0m",
      "\u001b[1;31mTypeError\u001b[0m                                 Traceback (most recent call last)",
      "\u001b[1;32m<ipython-input-89-1e8ecdf020af>\u001b[0m in \u001b[0;36m<module>\u001b[1;34m\u001b[0m\n\u001b[1;32m----> 1\u001b[1;33m \u001b[0mtest12\u001b[0m\u001b[1;33m(\u001b[0m\u001b[1;36m1\u001b[0m\u001b[1;33m,\u001b[0m\u001b[1;36m2\u001b[0m\u001b[1;33m,\u001b[0m\u001b[1;36m3\u001b[0m\u001b[1;33m,\u001b[0m\u001b[1;36m4\u001b[0m\u001b[1;33m,\u001b[0m\u001b[1;36m5\u001b[0m\u001b[1;33m)\u001b[0m\u001b[1;33m\u001b[0m\u001b[1;33m\u001b[0m\u001b[0m\n\u001b[0m",
      "\u001b[1;31mTypeError\u001b[0m: test12() missing 1 required keyword-only argument: 'a'"
     ]
    }
   ],
   "source": [
    "test12(1,2,3,4,5)    ## For *args we can pass multiple values but gfor additional 'a' we should assign the value separately."
   ]
  },
  {
   "cell_type": "code",
   "execution_count": 90,
   "id": "c36e67fd",
   "metadata": {},
   "outputs": [
    {
     "data": {
      "text/plain": [
       "((1, 2, 3, 4, 5), 'Sunitha')"
      ]
     },
     "execution_count": 90,
     "metadata": {},
     "output_type": "execute_result"
    }
   ],
   "source": [
    "test12(1,2,3,4,5, a=\"Sunitha\")"
   ]
  },
  {
   "cell_type": "code",
   "execution_count": 91,
   "id": "affc7e41",
   "metadata": {},
   "outputs": [],
   "source": [
    "### Example :: Extract only list from the arguments passed to the function.\n",
    "\n",
    "## We can pass multiple arguments to the fucntion. Like tuples, list, strings etc;\n",
    "\n",
    "def test13(*args):\n",
    "    l = [ ]\n",
    "    for i in args:\n",
    "        if type(i) == list:\n",
    "            l.append(i)\n",
    "    return l\n"
   ]
  },
  {
   "cell_type": "code",
   "execution_count": 93,
   "id": "dab076a7",
   "metadata": {},
   "outputs": [
    {
     "data": {
      "text/plain": [
       "[[1, 2, 3, 4], [3, 4, 5, 6], [7, 8, 9, 10]]"
      ]
     },
     "execution_count": 93,
     "metadata": {},
     "output_type": "execute_result"
    }
   ],
   "source": [
    "test13(11,12,13,14, [1,2,3,4],\"Suni\",\"Subbu\",[3,4,5,6],[7,8,9,10])    ## We passed integers, strings and lists"
   ]
  },
  {
   "cell_type": "code",
   "execution_count": 94,
   "id": "cb0ea950",
   "metadata": {},
   "outputs": [],
   "source": [
    "## We can pass a dictionary inside the function\n",
    "\n",
    "def test14(**kwargs):            ###  kwargs = keyword arguments\n",
    "    return kwargs"
   ]
  },
  {
   "cell_type": "code",
   "execution_count": 95,
   "id": "3c00652c",
   "metadata": {},
   "outputs": [
    {
     "data": {
      "text/plain": [
       "{}"
      ]
     },
     "execution_count": 95,
     "metadata": {},
     "output_type": "execute_result"
    }
   ],
   "source": [
    "test14()    ## Whenever we call test14() {} empty dictionary is returned"
   ]
  },
  {
   "cell_type": "code",
   "execution_count": 98,
   "id": "797daf0d",
   "metadata": {},
   "outputs": [
    {
     "data": {
      "text/plain": [
       "dict"
      ]
     },
     "execution_count": 98,
     "metadata": {},
     "output_type": "execute_result"
    }
   ],
   "source": [
    "type(test14())"
   ]
  },
  {
   "cell_type": "code",
   "execution_count": 99,
   "id": "7edf5d4f",
   "metadata": {},
   "outputs": [
    {
     "data": {
      "text/plain": [
       "{'a': 'Sunitha',\n",
       " 'b': 'Subhash',\n",
       " 'c': 'Kalyan',\n",
       " 'd': [1, 2, 3, 4],\n",
       " 'e': (1, 2, 3, 4, 5)}"
      ]
     },
     "execution_count": 99,
     "metadata": {},
     "output_type": "execute_result"
    }
   ],
   "source": [
    "test14(a=\"Sunitha\", b=\"Subhash\", c=\"Kalyan\",d=[1,2,3,4],e=(1,2,3,4,5)) ## We pass key and different type of values to the function."
   ]
  },
  {
   "cell_type": "code",
   "execution_count": 137,
   "id": "d7dc956a",
   "metadata": {},
   "outputs": [],
   "source": [
    "### Extract the Lists through Keys from the function\n",
    "\n",
    "def test15(**kwargs):\n",
    "    for i in kwargs.keys():\n",
    "        if type(kwargs[i]) == list:\n",
    "            return i, kwargs[i]\n",
    "        \n",
    "\n"
   ]
  },
  {
   "cell_type": "code",
   "execution_count": 139,
   "id": "75678cee",
   "metadata": {},
   "outputs": [
    {
     "data": {
      "text/plain": [
       "('c', [3, 4, 5, 6])"
      ]
     },
     "execution_count": 139,
     "metadata": {},
     "output_type": "execute_result"
    }
   ],
   "source": [
    "test15(a= (1,2,3,4) , b= (\"Suni\",\"Subbu\"),c= [3,4,5,6],d= (7,8,9,10)) "
   ]
  },
  {
   "cell_type": "code",
   "execution_count": 140,
   "id": "f9ee8c37",
   "metadata": {},
   "outputs": [],
   "source": [
    "## Example:  Holding multiple arguments and Keyword arguments\n",
    "\n",
    "def test16(*args, **kwargs):   \n",
    "    return args,kwargs\n"
   ]
  },
  {
   "cell_type": "code",
   "execution_count": 141,
   "id": "db9959f8",
   "metadata": {},
   "outputs": [
    {
     "data": {
      "text/plain": [
       "((1, 2, 3, 4, 5), {'a': 'Suni', 'b': 'Subhash'})"
      ]
     },
     "execution_count": 141,
     "metadata": {},
     "output_type": "execute_result"
    }
   ],
   "source": [
    "test16(1,2,3,4,5, a=\"Suni\", b=\"Subhash\")"
   ]
  },
  {
   "cell_type": "markdown",
   "id": "f9fa6d71",
   "metadata": {},
   "source": [
    "### GENERATOR FUNCTIONS"
   ]
  },
  {
   "cell_type": "code",
   "execution_count": 142,
   "id": "9fb9c53e",
   "metadata": {},
   "outputs": [
    {
     "data": {
      "text/plain": [
       "range(1, 10)"
      ]
     },
     "execution_count": 142,
     "metadata": {},
     "output_type": "execute_result"
    }
   ],
   "source": [
    "range(1,10)"
   ]
  },
  {
   "cell_type": "code",
   "execution_count": 143,
   "id": "ff79b16d",
   "metadata": {},
   "outputs": [
    {
     "name": "stdout",
     "output_type": "stream",
     "text": [
      "1\n",
      "2\n",
      "3\n",
      "4\n",
      "5\n",
      "6\n",
      "7\n",
      "8\n",
      "9\n"
     ]
    }
   ],
   "source": [
    "for i in range(1,10):     #### Values with the range 1 and 10 are printed using for loop\n",
    "    print(i)              ### range() gives us the data by iterating one by one."
   ]
  },
  {
   "cell_type": "code",
   "execution_count": 144,
   "id": "47c85dc3",
   "metadata": {},
   "outputs": [],
   "source": [
    "###\n",
    "\n",
    "lst21=[1,2,3,4,\"Sunitha\",\"Subhash\"]\n",
    "\n",
    "def test22(a):\n",
    "    l=[]\n",
    "    for i in a:\n",
    "        if type(i) == int:\n",
    "            l.append(i)\n",
    "    return l\n",
    "            "
   ]
  },
  {
   "cell_type": "code",
   "execution_count": 145,
   "id": "5739f37f",
   "metadata": {},
   "outputs": [
    {
     "data": {
      "text/plain": [
       "[1, 2, 3, 4]"
      ]
     },
     "execution_count": 145,
     "metadata": {},
     "output_type": "execute_result"
    }
   ],
   "source": [
    "test22(lst21)"
   ]
  },
  {
   "cell_type": "code",
   "execution_count": 148,
   "id": "9abe71ef",
   "metadata": {},
   "outputs": [],
   "source": [
    "## Fibonacci Series  : 0,1,1,2,3,5,8,13,21,34\n",
    "\n",
    "def fib1(n):                    ## 'n' elements\n",
    "    a,b=0,1                     ## First two values\n",
    "    for i in range(n):          ## To iterate range of 'n' elements\n",
    "        yield a                 ## Yield = To get values\n",
    "        a,b=b , a+b             ## Logic towards adding first element and second element to produce third element.\n"
   ]
  },
  {
   "cell_type": "code",
   "execution_count": 149,
   "id": "545d30a8",
   "metadata": {},
   "outputs": [
    {
     "data": {
      "text/plain": [
       "<generator object fib1 at 0x0000013314941A50>"
      ]
     },
     "execution_count": 149,
     "metadata": {},
     "output_type": "execute_result"
    }
   ],
   "source": [
    "fib1(10)     ## Prints Generator Object"
   ]
  },
  {
   "cell_type": "code",
   "execution_count": 150,
   "id": "787a5bbf",
   "metadata": {},
   "outputs": [
    {
     "name": "stdout",
     "output_type": "stream",
     "text": [
      "0\n",
      "1\n",
      "1\n",
      "2\n",
      "3\n",
      "5\n",
      "8\n",
      "13\n",
      "21\n",
      "34\n"
     ]
    }
   ],
   "source": [
    "for i in fib1(10):      ### Using For Loop to call the Generator Function\n",
    "    print(i)"
   ]
  },
  {
   "cell_type": "code",
   "execution_count": null,
   "id": "98825c5c",
   "metadata": {},
   "outputs": [],
   "source": []
  }
 ],
 "metadata": {
  "kernelspec": {
   "display_name": "Python 3",
   "language": "python",
   "name": "python3"
  },
  "language_info": {
   "codemirror_mode": {
    "name": "ipython",
    "version": 3
   },
   "file_extension": ".py",
   "mimetype": "text/x-python",
   "name": "python",
   "nbconvert_exporter": "python",
   "pygments_lexer": "ipython3",
   "version": "3.8.8"
  }
 },
 "nbformat": 4,
 "nbformat_minor": 5
}
