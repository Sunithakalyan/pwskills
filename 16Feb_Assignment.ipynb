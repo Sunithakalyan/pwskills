{
 "cells": [
  {
   "cell_type": "markdown",
   "id": "548f2b5d",
   "metadata": {},
   "source": [
    "## What is a database? Differentiate between SQL and NoSQL databases."
   ]
  },
  {
   "cell_type": "code",
   "execution_count": 1,
   "id": "893c7f74",
   "metadata": {},
   "outputs": [],
   "source": [
    "## A database is information that is set up for easy access, management and updating. \n",
    "## Computer databases typically store aggregations of data records or files\n",
    "\n",
    "## SQL(Structured Query Language): It is the programming language used to interface with relational databases. \n",
    "## (Relational databases model data as records in rows and tables with logical links between them). \n",
    "## NoSQL(Not Only SQL): It is a class of DBMs that are non-relational and generally do not use SQL."
   ]
  },
  {
   "cell_type": "markdown",
   "id": "b232b966",
   "metadata": {},
   "source": [
    "## What is DDL? Explain why CREATE, DROP, ALTER, and TRUNCATE are used with an example."
   ]
  },
  {
   "cell_type": "code",
   "execution_count": 3,
   "id": "451be756",
   "metadata": {},
   "outputs": [],
   "source": [
    "## DDL: DDL is a standardized language with commands to define the storage groups,different structures and objects in a database. \n",
    "## DDL statements create, modify and remove database objects, such as tables, indexes\n",
    "## 1. CREATE DATABASE defines a logical database under the active location root directory. The database normally consists of a subdirectory of the same name that holds the physical table and index files\n",
    "## Syntax:  CREATE TABLE [table name] ([column definitions]) [table parameters];\n",
    "\n",
    "## 2. DROP: DROP DATABASE does the exact opposite of the CREATE DATABASE It deletes a database defined at a certain location, along with all the objects logically associated with it. It also deletes the database subdirectory even if it is empty and contains no objects logically associated with the database.\n",
    "## Syntax: Drop table tablename;\n",
    "\n",
    "## 3. ALTER: These commands are used to make modifications to database objects, such as indexes, locations and storage groups.\n",
    "## Syntax: alter table tablename parameters;\n",
    "\n",
    "## 4. TRUNCATE: TRUNCATE TABLE removes all rows from a table, but the table structure and its columns, constraints, indexes, and so on remain. To remove the table definition in addition to its data, use the DROP TABLE statement."
   ]
  },
  {
   "cell_type": "markdown",
   "id": "2469c372",
   "metadata": {},
   "source": [
    "## What is DML? Explain INSERT, UPDATE, and DELETE with an example."
   ]
  },
  {
   "cell_type": "code",
   "execution_count": 4,
   "id": "e76ad96b",
   "metadata": {},
   "outputs": [],
   "source": [
    "## The DML commands in Structured Query Language change the data present in the SQL database. \n",
    "## We can easily access, store, modify, update and delete the existing records from the database using DML commands.\n",
    "\n",
    "## 1. INSERT Command: INSERT is another most important data manipulation command in Structured Query Language, which allows users to insert data in database tables.\n",
    "## Syntax: INSERT INTO TABLE_NAME ( column_Name1 , column_Name2 , column_Name3 , .... column_NameN )  VALUES (value_1, value_2, value_3, .... value_N )\n",
    "\n",
    "## 2. UPDATE  Command: UPDATE is another most important data manipulation command in Structured Query Language, \n",
    "## which allows users to update or modify the existing data in database tables.\n",
    "## Syntax: UPDATE Table_name SET [column_name1= value_1, ….., column_nameN = value_N] WHERE CONDITION;\n",
    "\n",
    "## 3. DELETE Command: DELETE is a DML command which allows SQL users to remove single or multiple existing records from the database tables.\n",
    "\n",
    "## This command of Data Manipulation Language does not delete the stored data permanently from the database. \n",
    "## We use the WHERE clause with the DELETE command to select specific rows from the table.\n",
    "## Synatx: DELETE FROM Table_Name WHERE condition;  "
   ]
  },
  {
   "cell_type": "markdown",
   "id": "434c2acc",
   "metadata": {},
   "source": [
    "## Q4. What is DQL? Explain SELECT with an example."
   ]
  },
  {
   "cell_type": "code",
   "execution_count": 5,
   "id": "8108b34b",
   "metadata": {},
   "outputs": [],
   "source": [
    "## Data query language (DQL) is part of the base grouping of SQL sub-languages.\n",
    "## These sub-languages are mainly categorized into four categories: a data query language (DQL), a data definition language (DDL), a data control language (DCL), and a data manipulation language (DML).\n",
    "\n",
    "## SELECT::: The SELECT statement is used to select data from a database.The data returned is stored in a result table, called the result-set.\n",
    "## Syntax:: SELECT column1, column2, ...FROM table_name;"
   ]
  },
  {
   "cell_type": "markdown",
   "id": "b34fd3c2",
   "metadata": {},
   "source": [
    "## Explain Primary Key and Foreign Key."
   ]
  },
  {
   "cell_type": "code",
   "execution_count": 6,
   "id": "9d55e60c",
   "metadata": {},
   "outputs": [],
   "source": [
    "## PRIMARY KEY :: The PRIMARY KEY constraint uniquely identifies each record in a table.\n",
    "## Primary keys must contain UNIQUE values, and cannot contain NULL values.\n",
    "## A table can have only ONE primary key; and in the table, this primary key can consist of single or multiple columns (fields).\n",
    "\n",
    "## Ex: CREATE TABLE Persons ( ID int NOT NULL, LastName varchar(255) NOT NULL, FirstName varchar(255),Age int,PRIMARY KEY (ID));\n",
    "\n",
    "## FOREIGN KEY: The FOREIGN KEY constraint is used to prevent actions that would destroy links between tables.\n",
    "## A FOREIGN KEY is a field (or collection of fields) in one table, that refers to the PRIMARY KEY in another table.\n",
    "## The table with the foreign key is called the child table, and the table with the primary key is called the referenced or parent table."
   ]
  },
  {
   "cell_type": "markdown",
   "id": "91bb35de",
   "metadata": {},
   "source": [
    "## Write a python code to connect MySQL to python. Explain the cursor() and execute() method."
   ]
  },
  {
   "cell_type": "code",
   "execution_count": null,
   "id": "25ed2464",
   "metadata": {},
   "outputs": [],
   "source": [
    "import mysql.connector\n",
    "\n",
    "mydb = mysql.connector.connect(\n",
    "  host=\"localhost\",\n",
    "  user=\"abc\",\n",
    "  password=\"password\"\n",
    ")\n",
    "mycursor = mydb.cursor()\n",
    "mycursor.execute(\"select c1,c2 from test1.test_table1\")\n",
    "for i in mycursor.fetchall():\n",
    "    print(i)"
   ]
  }
 ],
 "metadata": {
  "kernelspec": {
   "display_name": "Python 3",
   "language": "python",
   "name": "python3"
  },
  "language_info": {
   "codemirror_mode": {
    "name": "ipython",
    "version": 3
   },
   "file_extension": ".py",
   "mimetype": "text/x-python",
   "name": "python",
   "nbconvert_exporter": "python",
   "pygments_lexer": "ipython3",
   "version": "3.8.8"
  }
 },
 "nbformat": 4,
 "nbformat_minor": 5
}
