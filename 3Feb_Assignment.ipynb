{
 "cells": [
  {
   "cell_type": "markdown",
   "id": "e3913d43",
   "metadata": {},
   "source": [
    "## Q1. Which keyword is used to create a function? Create a function to return a list of odd numbers in the range of 1 to 25."
   ]
  },
  {
   "cell_type": "code",
   "execution_count": 40,
   "id": "728b8110",
   "metadata": {},
   "outputs": [],
   "source": [
    "## The Keyword \"def\" is used to create the function.\n",
    "\n",
    "# Function to return a list of odd numbers in the range of 1 to 25.\n",
    "\n",
    "\n",
    "\n",
    "def f1():\n",
    "    l=[]\n",
    "        \n",
    "    for num in range(1,35):\n",
    "        if num % 2 != 0:\n",
    "            l.append(num)        \n",
    "    return l\n",
    "    \n",
    "    \n",
    "    \n",
    "        "
   ]
  },
  {
   "cell_type": "code",
   "execution_count": 41,
   "id": "852ffc60",
   "metadata": {},
   "outputs": [
    {
     "data": {
      "text/plain": [
       "[1, 3, 5, 7, 9, 11, 13, 15, 17, 19, 21, 23, 25, 27, 29, 31, 33]"
      ]
     },
     "execution_count": 41,
     "metadata": {},
     "output_type": "execute_result"
    }
   ],
   "source": [
    "f1()"
   ]
  },
  {
   "cell_type": "markdown",
   "id": "f83b423a",
   "metadata": {},
   "source": [
    "## Q2. Why *args and **kwargs is used in some functions? Create a function each for *args and **kwargs to demonstrate their use."
   ]
  },
  {
   "cell_type": "code",
   "execution_count": 60,
   "id": "3a13b9f7",
   "metadata": {},
   "outputs": [],
   "source": [
    "## *args ::::  It is used to pass multiple arguments. *args allows us to pass a variable number of non-keyword arguments to a Python function. \n",
    "## In the function, we should use an asterisk (*) before the parameter name to pass a variable number of arguments.\n",
    "\n",
    "## *kwargs:::  It is used to pass a dictionary inside a function.\n",
    "## **kwargs allows us to pass a variable number of keyword arguments to a Python function. \n",
    "## In the function, we use the double-asterisk (**) before the parameter name to denote this type of argument.\n",
    "\n",
    "\n",
    "def t1(a,b):\n",
    "    return a + b\n",
    "        \n",
    "    \n"
   ]
  },
  {
   "cell_type": "code",
   "execution_count": 61,
   "id": "f5f10ab2",
   "metadata": {},
   "outputs": [
    {
     "data": {
      "text/plain": [
       "5"
      ]
     },
     "execution_count": 61,
     "metadata": {},
     "output_type": "execute_result"
    }
   ],
   "source": [
    "t1(2,3)"
   ]
  },
  {
   "cell_type": "code",
   "execution_count": 44,
   "id": "ef3d09db",
   "metadata": {},
   "outputs": [
    {
     "ename": "TypeError",
     "evalue": "t1() takes 2 positional arguments but 3 were given",
     "output_type": "error",
     "traceback": [
      "\u001b[1;31m---------------------------------------------------------------------------\u001b[0m",
      "\u001b[1;31mTypeError\u001b[0m                                 Traceback (most recent call last)",
      "\u001b[1;32m<ipython-input-44-6283c26e6ab9>\u001b[0m in \u001b[0;36m<module>\u001b[1;34m\u001b[0m\n\u001b[1;32m----> 1\u001b[1;33m \u001b[0mt1\u001b[0m\u001b[1;33m(\u001b[0m\u001b[1;36m2\u001b[0m\u001b[1;33m,\u001b[0m\u001b[1;36m3\u001b[0m\u001b[1;33m,\u001b[0m\u001b[1;36m6\u001b[0m\u001b[1;33m)\u001b[0m\u001b[1;33m\u001b[0m\u001b[1;33m\u001b[0m\u001b[0m\n\u001b[0m",
      "\u001b[1;31mTypeError\u001b[0m: t1() takes 2 positional arguments but 3 were given"
     ]
    }
   ],
   "source": [
    "t1(2,3,6)     ## The problem is it is restricted to pass only 2 positional arguments.To avoid such problem we can use *args."
   ]
  },
  {
   "cell_type": "code",
   "execution_count": 47,
   "id": "c7ba7ba0",
   "metadata": {},
   "outputs": [],
   "source": [
    "## *args\n",
    "## Example1\n",
    "\n",
    "def f1(*args):\n",
    "    return args\n"
   ]
  },
  {
   "cell_type": "code",
   "execution_count": 48,
   "id": "62216fbe",
   "metadata": {},
   "outputs": [
    {
     "data": {
      "text/plain": [
       "('Subhash', 'Sunitha', 'Kalyan', 1234, 456)"
      ]
     },
     "execution_count": 48,
     "metadata": {},
     "output_type": "execute_result"
    }
   ],
   "source": [
    "  f1(\"Subhash\",\"Sunitha\",\"Kalyan\",1234,456) ## Calling the function f1.   \n",
    "                                           ## Here we can pass multiple arguments to the function."
   ]
  },
  {
   "cell_type": "code",
   "execution_count": 49,
   "id": "4cd74834",
   "metadata": {},
   "outputs": [],
   "source": [
    "##Example 2   We can give any name for multiple arguments.\n",
    "\n",
    "def f2(*sun):\n",
    "    return sun"
   ]
  },
  {
   "cell_type": "code",
   "execution_count": 51,
   "id": "9ee5a67a",
   "metadata": {},
   "outputs": [
    {
     "data": {
      "text/plain": [
       "('123', 12, 2, 3.0, 9)"
      ]
     },
     "execution_count": 51,
     "metadata": {},
     "output_type": "execute_result"
    }
   ],
   "source": [
    "f2(\"123\",12,2,3.0,9)"
   ]
  },
  {
   "cell_type": "code",
   "execution_count": 64,
   "id": "cf3ddb51",
   "metadata": {},
   "outputs": [],
   "source": [
    "## Example 3\n",
    "\n",
    "def add(*num):\n",
    "    tot = 0\n",
    "    \n",
    "    for i in num:\n",
    "        tot += i\n",
    "    return tot\n",
    "        "
   ]
  },
  {
   "cell_type": "code",
   "execution_count": 66,
   "id": "3762d0b4",
   "metadata": {},
   "outputs": [
    {
     "name": "stdout",
     "output_type": "stream",
     "text": [
      "5\n",
      "9\n",
      "14\n",
      "20\n"
     ]
    }
   ],
   "source": [
    "print(add(2,3))\n",
    "print(add(2,3,4))\n",
    "print(add(2,3,4,5))\n",
    "print(add(2,3,4,5,6))"
   ]
  },
  {
   "cell_type": "code",
   "execution_count": 52,
   "id": "a902af0b",
   "metadata": {},
   "outputs": [],
   "source": [
    "## *kwargs:  It is used to pass a dictionary inside a function.\n",
    "\n",
    "def f3(**kwargs):\n",
    "    return kwargs\n"
   ]
  },
  {
   "cell_type": "code",
   "execution_count": 59,
   "id": "009e737e",
   "metadata": {},
   "outputs": [
    {
     "data": {
      "text/plain": [
       "{'Name': 'Sunitha',\n",
       " 'Course': 'Data Science Masters',\n",
       " 'Faculty': ['Sudhanshu', 'Krishh']}"
      ]
     },
     "execution_count": 59,
     "metadata": {},
     "output_type": "execute_result"
    }
   ],
   "source": [
    "f3(Name = \"Sunitha\",Course = \"Data Science Masters\" , Faculty = [\"Sudhanshu\" ,\"Krishh\"])"
   ]
  },
  {
   "cell_type": "markdown",
   "id": "6a44227a",
   "metadata": {},
   "source": [
    "## Q3.  What is an iterator in python? Name the method used to initialise the iterator object and the method used for iteration. Use these methods to print the first five elements of the given list [2, 4, 6, 8, 10, 12, 14, 16, 18, 20]."
   ]
  },
  {
   "cell_type": "code",
   "execution_count": 1,
   "id": "6b67fb66",
   "metadata": {},
   "outputs": [],
   "source": [
    "## An iterator is an object that contains a countable number of values. \n",
    "## An iterator is an object that can be iterated upon, meaning that you can traverse through all the values. \n",
    "## An iterator is an object which implements the iterator protocol,which consist of the methods __iter__() and __next__() ."
   ]
  },
  {
   "cell_type": "code",
   "execution_count": 4,
   "id": "6f7908ea",
   "metadata": {},
   "outputs": [
    {
     "name": "stdout",
     "output_type": "stream",
     "text": [
      "Apple\n",
      "Strawberry\n",
      "Banana\n",
      "1234\n",
      "4567\n"
     ]
    }
   ],
   "source": [
    "# Lists, tuples, dictionaries, and sets are all iterable objects. \n",
    "## They are iterable containers which you can get an iterator from. \n",
    "## All these objects have a iter() method which is used to get an iterator.\n",
    "\n",
    "test = (\"Apple\",\"Strawberry\",\"Banana\",1234,4567)\n",
    "\n",
    "myiter = iter(test)\n",
    "\n",
    "print(next(myiter))\n",
    "print(next(myiter))\n",
    "print(next(myiter))\n",
    "print(next(myiter))\n",
    "print(next(myiter))\n"
   ]
  },
  {
   "cell_type": "code",
   "execution_count": 11,
   "id": "51486433",
   "metadata": {},
   "outputs": [
    {
     "name": "stdout",
     "output_type": "stream",
     "text": [
      "A\n",
      "p\n",
      "p\n",
      "l\n",
      "e\n"
     ]
    }
   ],
   "source": [
    "##Example 2\n",
    "## Strings are also iterable objects, containing a sequence of characters:\n",
    "\n",
    "test1 = \"Apple\"\n",
    "\n",
    "myiter = iter(test1)\n",
    "\n",
    "print(next(myiter))\n",
    "print(next(myiter))\n",
    "print(next(myiter))\n",
    "print(next(myiter))\n",
    "print(next(myiter))"
   ]
  },
  {
   "cell_type": "code",
   "execution_count": 18,
   "id": "073c26a5",
   "metadata": {},
   "outputs": [
    {
     "name": "stdout",
     "output_type": "stream",
     "text": [
      "2 4 6 8 10 12 14 16 18 20 "
     ]
    }
   ],
   "source": [
    "## Use these methods to print the first five elements of the given list [2, 4, 6, 8, 10, 12, 14, 16, 18, 20].\n",
    "\n",
    "test3 = [2, 4, 6, 8, 10, 12, 14, 16, 18, 20]\n",
    "myiter = iter(test3)\n",
    "\n",
    "print(next(myiter), end =\" \")\n",
    "print(next(myiter), end =\" \")\n",
    "print(next(myiter), end =\" \")\n",
    "print(next(myiter), end =\" \")\n",
    "print(next(myiter), end =\" \")\n",
    "print(next(myiter), end =\" \")\n",
    "print(next(myiter), end =\" \")\n",
    "print(next(myiter), end =\" \")\n",
    "print(next(myiter), end =\" \")\n",
    "print(next(myiter), end =\" \")\n"
   ]
  },
  {
   "cell_type": "markdown",
   "id": "ff4c297c",
   "metadata": {},
   "source": [
    "## Q4.  What is a generator function in python? Why yield keyword is used? Give an example of a generator function.\n"
   ]
  },
  {
   "cell_type": "code",
   "execution_count": 19,
   "id": "987d9b77",
   "metadata": {},
   "outputs": [],
   "source": [
    "## Python Generator functions allow you to declare a function that behaves likes an iterator, \n",
    "## It allows programmers to make an iterator in a fast, easy, and clean way. \n",
    "## An iterator is an object that can be iterated or looped upon."
   ]
  },
  {
   "cell_type": "code",
   "execution_count": 20,
   "id": "dc147935",
   "metadata": {},
   "outputs": [],
   "source": [
    "## Same like Normal function a generator function is created.Instead of return keyword we use yield keyword to produce a value.\n",
    "## When the generator function is called, it does not execute the function body immediately. \n",
    "## Instead, it returns a generator object that can be iterated over to produce the values.\n",
    "## Syntax:::\n",
    "\n",
    "def generator_name(arg):\n",
    "    yield something"
   ]
  },
  {
   "cell_type": "code",
   "execution_count": 21,
   "id": "67ce3f91",
   "metadata": {},
   "outputs": [
    {
     "name": "stdout",
     "output_type": "stream",
     "text": [
      "0\n",
      "1\n",
      "2\n"
     ]
    }
   ],
   "source": [
    "## Example\n",
    "def my_generator(n):\n",
    "\n",
    "                  # initialize counter\n",
    "    value = 0\n",
    "\n",
    "                            # loop until counter is less than n\n",
    "    while value < n:\n",
    "\n",
    "                             # produce the current value of the counter\n",
    "        yield value\n",
    "\n",
    "                               # increment the counter\n",
    "        value += 1\n",
    "\n",
    "                                  # iterate over the generator object produced by my_generator\n",
    "for value in my_generator(3):\n",
    "\n",
    "                                         # print each value produced by generator\n",
    "    print(value)"
   ]
  },
  {
   "cell_type": "markdown",
   "id": "ca9fd98a",
   "metadata": {},
   "source": [
    "## Q5. Create a generator function for prime numbers less than 1000. Use the next() method to print the first 20 prime numbers"
   ]
  },
  {
   "cell_type": "code",
   "execution_count": 29,
   "id": "64b62446",
   "metadata": {},
   "outputs": [
    {
     "name": "stdout",
     "output_type": "stream",
     "text": [
      "2 3 5 7 11 13 17 19 23 29 31 37 41 43 47 53 59 61 67 71 "
     ]
    }
   ],
   "source": [
    "def genPrime():\n",
    "    num = 1\n",
    "    prime = False\n",
    "    while True:\n",
    "        # Loop through all numbers up to num\n",
    "        for i in range(2, num+1):\n",
    "            # Check if num has remainder after the modulo of any previous numbers\n",
    "            if num % i == 0:\n",
    "                prime = False\n",
    "                # Num is only prime if no remainder and i is num\n",
    "                if i == num:\n",
    "                    prime = True\n",
    "                break\n",
    "\n",
    "        if prime:\n",
    "            yield num\n",
    "            num += 1\n",
    "        else:\n",
    "            num += 1\n",
    "\n",
    "prime = genPrime()\n",
    "for _ in range(20):\n",
    "    print(next(prime),end=\" \")\n",
    "    "
   ]
  },
  {
   "cell_type": "code",
   "execution_count": null,
   "id": "8e11da95",
   "metadata": {},
   "outputs": [],
   "source": []
  }
 ],
 "metadata": {
  "kernelspec": {
   "display_name": "Python 3",
   "language": "python",
   "name": "python3"
  },
  "language_info": {
   "codemirror_mode": {
    "name": "ipython",
    "version": 3
   },
   "file_extension": ".py",
   "mimetype": "text/x-python",
   "name": "python",
   "nbconvert_exporter": "python",
   "pygments_lexer": "ipython3",
   "version": "3.8.8"
  }
 },
 "nbformat": 4,
 "nbformat_minor": 5
}
